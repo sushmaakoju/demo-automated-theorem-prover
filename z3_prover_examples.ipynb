{
  "nbformat": 4,
  "nbformat_minor": 0,
  "metadata": {
    "colab": {
      "name": "z3-prover-notebook-practice.ipynb",
      "provenance": [],
      "collapsed_sections": []
    },
    "kernelspec": {
      "name": "python3",
      "display_name": "Python 3"
    },
    "language_info": {
      "name": "python"
    }
  },
  "cells": [
    {
      "cell_type": "code",
      "execution_count": 41,
      "metadata": {
        "colab": {
          "base_uri": "https://localhost:8080/"
        },
        "id": "22NG52tLdU55",
        "outputId": "782ed7c7-bc6d-4e9f-9b4d-ea6f60f0313d"
      },
      "outputs": [
        {
          "output_type": "stream",
          "name": "stdout",
          "text": [
            "Requirement already satisfied: z3-solver in /usr/local/lib/python3.7/dist-packages (4.8.15.0)\n"
          ]
        }
      ],
      "source": [
        "!pip install z3-solver"
      ]
    },
    {
      "cell_type": "code",
      "source": [
        "from z3 import *"
      ],
      "metadata": {
        "id": "iN50OnZCdY_o"
      },
      "execution_count": 42,
      "outputs": []
    },
    {
      "cell_type": "code",
      "source": [
        ""
      ],
      "metadata": {
        "id": "K6cIoCHVEL0h"
      },
      "execution_count": 42,
      "outputs": []
    },
    {
      "cell_type": "code",
      "source": [
        "x = Int('x')\n",
        "y = Int('y')\n",
        "solve(x > 2, y < 10, x + 2*y == 7)"
      ],
      "metadata": {
        "colab": {
          "base_uri": "https://localhost:8080/"
        },
        "id": "seL0fBMadbg4",
        "outputId": "c58ff5f0-28d3-46a1-84dc-d915a094fca3"
      },
      "execution_count": 43,
      "outputs": [
        {
          "output_type": "stream",
          "name": "stdout",
          "text": [
            "[y = 0, x = 7]\n"
          ]
        }
      ]
    },
    {
      "cell_type": "code",
      "source": [
        "p = Bool(\"p\")\n",
        "my_true_thm = Implies(p, p)\n",
        "my_true_thm"
      ],
      "metadata": {
        "colab": {
          "base_uri": "https://localhost:8080/",
          "height": 34
        },
        "id": "BdGG9-Kmde6W",
        "outputId": "8fcb07df-0dc9-45ac-90e4-db9f1aef0f37"
      },
      "execution_count": 44,
      "outputs": [
        {
          "output_type": "execute_result",
          "data": {
            "text/plain": [
              "Implies(p, p)"
            ],
            "text/html": [
              "p &rArr; p"
            ]
          },
          "metadata": {},
          "execution_count": 44
        }
      ]
    },
    {
      "cell_type": "code",
      "source": [
        "prove(my_true_thm)"
      ],
      "metadata": {
        "colab": {
          "base_uri": "https://localhost:8080/"
        },
        "id": "BYXjeXnHdjyo",
        "outputId": "2f82e992-9999-4b11-f5bf-596a4adcf394"
      },
      "execution_count": 45,
      "outputs": [
        {
          "output_type": "stream",
          "name": "stdout",
          "text": [
            "proved\n"
          ]
        }
      ]
    },
    {
      "cell_type": "code",
      "source": [
        "#not ( P or Q) implies (not P) and (not Q)\n",
        "p, q = Bools('p q')\n",
        "lhs = Not(Or(p,q))\n",
        "rhs = And(Not(p), Not(q))\n",
        "my_true_thm = Implies( lhs, rhs )\n",
        "print(my_true_thm)\n",
        "proof = prove(my_true_thm)"
      ],
      "metadata": {
        "colab": {
          "base_uri": "https://localhost:8080/"
        },
        "id": "cNf2RJNtd8hH",
        "outputId": "62c7fda7-89b9-4035-fd9d-b925e7050b37"
      },
      "execution_count": 46,
      "outputs": [
        {
          "output_type": "stream",
          "name": "stdout",
          "text": [
            "Implies(Not(Or(p, q)), And(Not(p), Not(q)))\n",
            "proved\n"
          ]
        }
      ]
    },
    {
      "cell_type": "code",
      "source": [
        "my_true_thm.children(), prove(my_true_thm)"
      ],
      "metadata": {
        "colab": {
          "base_uri": "https://localhost:8080/"
        },
        "id": "F07_3IsDIAbn",
        "outputId": "d850d5c8-3124-4c86-f0d3-93636e5b8e54"
      },
      "execution_count": 47,
      "outputs": [
        {
          "output_type": "stream",
          "name": "stdout",
          "text": [
            "proved\n"
          ]
        },
        {
          "output_type": "execute_result",
          "data": {
            "text/plain": [
              "([Not(Or(p, q)), And(Not(p), Not(q))], None)"
            ]
          },
          "metadata": {},
          "execution_count": 47
        }
      ]
    },
    {
      "cell_type": "code",
      "source": [
        "\n",
        "x, y = Reals('x y')\n",
        "g  = Goal()\n",
        "g.add(x > 0, y > 0, x == y + 2)\n",
        "print(g)\n",
        "\n",
        "t1 = Tactic('simplify')\n",
        "t2 = Tactic('solve-eqs')\n",
        "t  = Then(t1, t2)\n",
        "print(t(g))"
      ],
      "metadata": {
        "colab": {
          "base_uri": "https://localhost:8080/"
        },
        "id": "7zHaIy5NLA9c",
        "outputId": "4037f047-a293-4705-c4f1-3d9bfd354489"
      },
      "execution_count": 48,
      "outputs": [
        {
          "output_type": "stream",
          "name": "stdout",
          "text": [
            "[x > 0, y > 0, x == y + 2]\n",
            "[[Not(y <= -2), Not(y <= 0)]]\n"
          ]
        }
      ]
    },
    {
      "cell_type": "code",
      "source": [
        "p, q = Bools('p q')\n",
        "lhs = Not(Or(p,q))\n",
        "rhs = And(Not(p), Not(q))\n",
        "print(lhs, rhs.sexpr())\n",
        "my_true_thm = Implies( lhs, rhs )\n",
        "print(my_true_thm.sexpr())\n",
        "proof = prove(my_true_thm)"
      ],
      "metadata": {
        "colab": {
          "base_uri": "https://localhost:8080/"
        },
        "id": "MmdREDdMoagN",
        "outputId": "55196586-c911-4831-ac46-43b13cbd7032"
      },
      "execution_count": 49,
      "outputs": [
        {
          "output_type": "stream",
          "name": "stdout",
          "text": [
            "Not(Or(p, q)) (and (not p) (not q))\n",
            "(=> (not (or p q)) (and (not p) (not q)))\n",
            "proved\n"
          ]
        }
      ]
    },
    {
      "cell_type": "code",
      "source": [
        ""
      ],
      "metadata": {
        "id": "mCpsehrNwh15"
      },
      "execution_count": 49,
      "outputs": []
    },
    {
      "cell_type": "code",
      "source": [
        "for i in range(0,my_true_thm.num_args()):\n",
        "  print(my_true_thm.arg(i), my_true_thm.arg(i).decl(), my_true_thm.sexpr(), my_true_thm.params())"
      ],
      "metadata": {
        "colab": {
          "base_uri": "https://localhost:8080/"
        },
        "id": "fvrCmeHkpWqG",
        "outputId": "bdb832ef-02a7-4ebc-f06a-79cb7d9d7c4b"
      },
      "execution_count": 50,
      "outputs": [
        {
          "output_type": "stream",
          "name": "stdout",
          "text": [
            "Not(Or(p, q)) Not (=> (not (or p q)) (and (not p) (not q))) []\n",
            "And(Not(p), Not(q)) And (=> (not (or p q)) (and (not p) (not q))) []\n"
          ]
        }
      ]
    },
    {
      "cell_type": "code",
      "source": [
        "my_true_thm"
      ],
      "metadata": {
        "colab": {
          "base_uri": "https://localhost:8080/",
          "height": 34
        },
        "id": "DvB4Sbnbr9u9",
        "outputId": "560c1b0c-b39f-4e82-9fd8-980781658ee9"
      },
      "execution_count": 51,
      "outputs": [
        {
          "output_type": "execute_result",
          "data": {
            "text/plain": [
              "Implies(Not(Or(p, q)), And(Not(p), Not(q)))"
            ],
            "text/html": [
              "&not;(p &or; q) &rArr; &not;p &and; &not;q"
            ]
          },
          "metadata": {},
          "execution_count": 51
        }
      ]
    },
    {
      "cell_type": "code",
      "source": [
        "p, q = Bools('p q')\n",
        "lhs = Not(And(p,q))\n",
        "rhs = Or(Not(p), Not(q))\n",
        "print(lhs, rhs.sexpr())\n",
        "my_true_thm = Implies( lhs, rhs )\n",
        "print(my_true_thm.sexpr())\n",
        "proof = prove(my_true_thm)"
      ],
      "metadata": {
        "colab": {
          "base_uri": "https://localhost:8080/"
        },
        "id": "qIiLqX52stnL",
        "outputId": "10fe5088-3f8e-4f4a-9543-dd03e4a5028e"
      },
      "execution_count": 52,
      "outputs": [
        {
          "output_type": "stream",
          "name": "stdout",
          "text": [
            "Not(And(p, q)) (or (not p) (not q))\n",
            "(=> (not (and p q)) (or (not p) (not q)))\n",
            "proved\n"
          ]
        }
      ]
    },
    {
      "cell_type": "code",
      "source": [
        "my_true_thm"
      ],
      "metadata": {
        "colab": {
          "base_uri": "https://localhost:8080/",
          "height": 34
        },
        "id": "aE8t1hnCswi5",
        "outputId": "74d48747-73d9-4099-d778-6dcfd45f1c82"
      },
      "execution_count": 53,
      "outputs": [
        {
          "output_type": "execute_result",
          "data": {
            "text/plain": [
              "Implies(Not(And(p, q)), Or(Not(p), Not(q)))"
            ],
            "text/html": [
              "&not;(p &and; q) &rArr; &not;p &or; &not;q"
            ]
          },
          "metadata": {},
          "execution_count": 53
        }
      ]
    },
    {
      "cell_type": "code",
      "source": [
        "Implies(Not(And(p,q)), Or(Not(p), Not(q))).children()"
      ],
      "metadata": {
        "colab": {
          "base_uri": "https://localhost:8080/"
        },
        "id": "PUBSpYmquGsB",
        "outputId": "e72ea75a-230a-43c6-e3c1-a08ac6e7cdea"
      },
      "execution_count": 54,
      "outputs": [
        {
          "output_type": "execute_result",
          "data": {
            "text/plain": [
              "[Not(And(p, q)), Or(Not(p), Not(q))]"
            ]
          },
          "metadata": {},
          "execution_count": 54
        }
      ]
    },
    {
      "cell_type": "code",
      "source": [
        "lhs"
      ],
      "metadata": {
        "colab": {
          "base_uri": "https://localhost:8080/",
          "height": 34
        },
        "id": "zz8ro36eudAE",
        "outputId": "457695bf-d571-4c05-abe8-faae57ff6f70"
      },
      "execution_count": 55,
      "outputs": [
        {
          "output_type": "execute_result",
          "data": {
            "text/plain": [
              "Not(And(p, q))"
            ],
            "text/html": [
              "&not;(p &and; q)"
            ]
          },
          "metadata": {},
          "execution_count": 55
        }
      ]
    },
    {
      "cell_type": "code",
      "source": [
        "p, q = Bools('p q')\n",
        "demorgan = And(p, q) == Not(Or(Not(p), Not(q)))\n",
        "print(demorgan)\n",
        "\n",
        "def prove(f):\n",
        "    s = Solver()\n",
        "    s.add(Not(f))\n",
        "    if s.check() == unsat:\n",
        "        print(\"proved\")\n",
        "    else:\n",
        "        print(\"failed to prove\")\n",
        "\n",
        "print(\"Proving demorgan...\")\n",
        "prove(demorgan)"
      ],
      "metadata": {
        "colab": {
          "base_uri": "https://localhost:8080/"
        },
        "id": "2a-Ey1ZkLToX",
        "outputId": "621f256b-ee1c-412e-f275-7cc44c2b17b3"
      },
      "execution_count": 56,
      "outputs": [
        {
          "output_type": "stream",
          "name": "stdout",
          "text": [
            "And(p, q) == Not(Or(Not(p), Not(q)))\n",
            "Proving demorgan...\n",
            "proved\n"
          ]
        }
      ]
    },
    {
      "cell_type": "code",
      "source": [
        "demorgan"
      ],
      "metadata": {
        "colab": {
          "base_uri": "https://localhost:8080/",
          "height": 34
        },
        "id": "clRfIKYVLY13",
        "outputId": "d87ae410-697a-49d1-f782-86f610e94be9"
      },
      "execution_count": 57,
      "outputs": [
        {
          "output_type": "execute_result",
          "data": {
            "text/plain": [
              "And(p, q) == Not(Or(Not(p), Not(q)))"
            ],
            "text/html": [
              "(p &and; q) = &not;(&not;p &or; &not;q)"
            ]
          },
          "metadata": {},
          "execution_count": 57
        }
      ]
    },
    {
      "cell_type": "code",
      "source": [
        "print(demorgan)"
      ],
      "metadata": {
        "colab": {
          "base_uri": "https://localhost:8080/"
        },
        "id": "xbQQTxcXLa6e",
        "outputId": "58ebdd65-d731-45c5-9ec1-1319590bab2e"
      },
      "execution_count": 58,
      "outputs": [
        {
          "output_type": "stream",
          "name": "stdout",
          "text": [
            "And(p, q) == Not(Or(Not(p), Not(q)))\n"
          ]
        }
      ]
    },
    {
      "cell_type": "code",
      "source": [
        "Implies( lhs, rhs )"
      ],
      "metadata": {
        "colab": {
          "base_uri": "https://localhost:8080/",
          "height": 34
        },
        "id": "boouwaiYIqYm",
        "outputId": "42742d5a-669f-4058-c363-3a00df854333"
      },
      "execution_count": 59,
      "outputs": [
        {
          "output_type": "execute_result",
          "data": {
            "text/plain": [
              "Implies(Not(And(p, q)), Or(Not(p), Not(q)))"
            ],
            "text/html": [
              "&not;(p &and; q) &rArr; &not;p &or; &not;q"
            ]
          },
          "metadata": {},
          "execution_count": 59
        }
      ]
    },
    {
      "cell_type": "code",
      "source": [
        "Not(Or(p,q))"
      ],
      "metadata": {
        "colab": {
          "base_uri": "https://localhost:8080/",
          "height": 34
        },
        "id": "sl3oSA1AKvrz",
        "outputId": "6332aff9-9f18-40ee-985b-ce1e2f4d4d00"
      },
      "execution_count": 60,
      "outputs": [
        {
          "output_type": "execute_result",
          "data": {
            "text/plain": [
              "Not(Or(p, q))"
            ],
            "text/html": [
              "&not;(p &or; q)"
            ]
          },
          "metadata": {},
          "execution_count": 60
        }
      ]
    },
    {
      "cell_type": "code",
      "source": [
        "#not ( P or Q) implies (not P) and (not Q)\n",
        "p, q = Bools('p q')\n",
        "my_true_thm = Implies( Not(Or(p,q)), And(Not(p), Not(q)) )\n",
        "proof = prove(my_true_thm)"
      ],
      "metadata": {
        "colab": {
          "base_uri": "https://localhost:8080/"
        },
        "id": "GkU-ji5Fj4Ey",
        "outputId": "4a8635ae-5ba7-4156-cac0-c7a1c417234a"
      },
      "execution_count": 61,
      "outputs": [
        {
          "output_type": "stream",
          "name": "stdout",
          "text": [
            "proved\n"
          ]
        }
      ]
    },
    {
      "cell_type": "code",
      "source": [
        "my_true_thm, proof"
      ],
      "metadata": {
        "colab": {
          "base_uri": "https://localhost:8080/"
        },
        "id": "Vpb9B2hSeolY",
        "outputId": "9068e3f0-cbf8-4a83-dd1c-d8ba0f13bcf5"
      },
      "execution_count": 62,
      "outputs": [
        {
          "output_type": "execute_result",
          "data": {
            "text/plain": [
              "(Implies(Not(Or(p, q)), And(Not(p), Not(q))), None)"
            ]
          },
          "metadata": {},
          "execution_count": 62
        }
      ]
    },
    {
      "cell_type": "code",
      "source": [
        "import sympy as sy\n",
        "import matplotlib.pyplot as plt\n",
        "import numpy as np\n",
        "x = sy.symbols('x')\n",
        "cheb = sy.lambdify(x, sy.chebyshevt(4,x))\n",
        "xs = np.linspace(-1,1,50)\n",
        "ys = cheb(xs)\n",
        "plt.plot(xs, ys)\n",
        "plt.show()\n",
        "len(xs)"
      ],
      "metadata": {
        "colab": {
          "base_uri": "https://localhost:8080/",
          "height": 283
        },
        "id": "KPIUQXU_iWrh",
        "outputId": "c139087e-2c98-480d-cac7-5c5d7432dcc3"
      },
      "execution_count": 63,
      "outputs": [
        {
          "output_type": "display_data",
          "data": {
            "text/plain": [
              "<Figure size 432x288 with 1 Axes>"
            ],
            "image/png": "[encoded data removed]"
          },
          "metadata": {
            "needs_background": "light"
          }
        },
        {
          "output_type": "execute_result",
          "data": {
            "text/plain": [
              "50"
            ]
          },
          "metadata": {},
          "execution_count": 63
        }
      ]
    },
    {
      "cell_type": "code",
      "source": [
        "import matplotlib.pyplot as plt\n",
        "import numpy as np\n",
        "\n",
        "def poly(x):\n",
        "    return 8 * x ** 4 - 8 * x**2 + 1\n",
        "xs = np.linspace(-1,1,50)\n",
        "ys = poly(xs)\n",
        "plt.plot(xs, ys)\n",
        "plt.show()"
      ],
      "metadata": {
        "colab": {
          "base_uri": "https://localhost:8080/",
          "height": 265
        },
        "id": "mSyygiPyfo3w",
        "outputId": "03011ffb-f859-475b-f545-98f0b10cd315"
      },
      "execution_count": 64,
      "outputs": [
        {
          "output_type": "display_data",
          "data": {
            "text/plain": [
              "<Figure size 432x288 with 1 Axes>"
            ],
            "image/png": "[encoded data removed]"
          },
          "metadata": {
            "needs_background": "light"
          }
        }
      ]
    },
    {
      "cell_type": "code",
      "source": [
        "import tensorflow as tf\n",
        "from tensorflow import keras\n",
        "\n",
        "# Helper libraries\n",
        "import numpy as np\n",
        "import matplotlib.pyplot as plt\n",
        "\n",
        "model = keras.Sequential([\n",
        "    keras.layers.Dense(20, activation='relu', input_shape=[1]),\n",
        "    keras.layers.Dense(25, activation='relu'),\n",
        "    keras.layers.Dense(1)\n",
        "])\n",
        "\n",
        "optimizer = tf.keras.optimizers.Adam()\n",
        "\n",
        "model.compile(loss='mse',\n",
        "              optimizer=optimizer,\n",
        "              metrics=['mae', 'mse'])\n",
        "\n",
        "model.fit(xs, ys, epochs=500, verbose=0)\n",
        "plt.plot(xs,model.predict(xs))\n",
        "plt.show()"
      ],
      "metadata": {
        "colab": {
          "base_uri": "https://localhost:8080/",
          "height": 265
        },
        "id": "LLbUxRVneosS",
        "outputId": "1b2dec34-e085-4752-e56f-7d5b2808e0e2"
      },
      "execution_count": 65,
      "outputs": [
        {
          "output_type": "display_data",
          "data": {
            "text/plain": [
              "<Figure size 432x288 with 1 Axes>"
            ],
            "image/png": "[encoded data removed]"
          },
          "metadata": {
            "needs_background": "light"
          }
        }
      ]
    },
    {
      "cell_type": "code",
      "source": [
        "w1, b1, w2, b2, w3, b3 = model.get_weights() # unpack weights from model\n",
        "\n",
        "def Relu(x):\n",
        "    return np.vectorize(lambda y: If(y >= 0 , y, RealVal(0)))(x)\n",
        "\n",
        "# reinterpret network symbolically using z3 variables.\n",
        "def net(x):\n",
        "    x1 = w1.T @ x + b1\n",
        "    y1 = Relu(x1)\n",
        "    x2 = w2.T @ y1 + b2\n",
        "    y2 = Relu(x2)\n",
        "    x3 = w3.T @ y2 + b3\n",
        "    return x3\n",
        "\n",
        "x = np.array([Real('x')])\n",
        "y_true = poly(x)\n",
        "y_pred = net(x)\n",
        "s = Solver()\n",
        "s.add(-1 <= x[0], x[0] <= 1) # constraint input to [-1,1] interval\n",
        "\n",
        "def Abs(x):\n",
        "    return If(x <= 0, -x, x)\n",
        "s.add(Abs( y_pred[0] - y_true[0] ) >= 0.5) # Is there an input with absolute error greater than 0.5?\n",
        "\n",
        "res = s.check()\n",
        "print(res)\n",
        "if res == sat:\n",
        "    m = s.model()\n",
        "    print(\"Bad x value:\", m[x[0]])\n",
        "    x_bad = m[x[0]].numerator_as_long() / m[x[0]].denominator_as_long() \n",
        "    print(\"Error of prediction: \", abs(model.predict(np.array([x_bad])) - cheb(x_bad)))"
      ],
      "metadata": {
        "colab": {
          "base_uri": "https://localhost:8080/"
        },
        "id": "-Ey5HN3mfxfP",
        "outputId": "6ca92cf9-716a-4a70-a3d8-4b6fc7db4058"
      },
      "execution_count": 66,
      "outputs": [
        {
          "output_type": "stream",
          "name": "stdout",
          "text": [
            "sat\n",
            "Bad x value: -63/64\n",
            "Error of prediction:  [[0.57952476]]\n"
          ]
        }
      ]
    },
    {
      "cell_type": "code",
      "source": [
        "def refactor_steps(res, formula):\n",
        "    presteps = res[1:len(res)-1]\n",
        "    print(presteps)\n",
        "    steps = []\n",
        "    for ss in presteps:\n",
        "        a = ss.replace(\"$\",\"\").split(\" \")\n",
        "        for i,b in enumerate(a):\n",
        "            if b.startswith(\"((x\"):\n",
        "                a[i] = b.replace(\"((x\",\"x\")+\"=\"\n",
        "            if b.startswith(\"(let\"):\n",
        "                a[i] = b.replace(\"(let\",\"let\")\n",
        "            if b.startswith(\"(declare-fun\"):\n",
        "                a[i] = b.replace(\"(declare-fun\",\"Declare function\")\n",
        "            if b.endswith(\"))\"):\n",
        "                a[i] = b.replace(\"))\",\"\")\n",
        "            if \"()\" in b:\n",
        "                a[i] = b.replace(\"()\",\"\")\n",
        "        #r.append(s.replace)\n",
        "        steps.append(\" \".join(a[1:]))\n",
        "    \n",
        "    result_steps = [\n",
        "        {\"name\":formula, \"parent\":\"\"},\n",
        "        {\"name\":\"Declare\", \"parent\":formula},\n",
        "        {\"name\":\"Axioms\", \"parent\":\"Declare\"}, \n",
        "        {\"name\":\"Proof\",\"parent\":\"Axioms\"},\n",
        "    ]\n",
        "\n",
        "    for s in steps:\n",
        "        \n",
        "        if \"Bool\" in s:\n",
        "            this_step = s.strip().replace(\"$\",\"\")\n",
        "            result_steps.append({\"name\":this_step, \"parent\":\"Declare\"})\n",
        "        if s.startswith(\"let\"):\n",
        "            this_step = s.strip().replace(\"$\",\"\")\n",
        "            result_steps.append({\"name\":this_step,\"parent\":\"Axioms\"}) \n",
        "        if s.startswith(\"(not\"):\n",
        "            this_step = s.strip().replace(\"$\",\"\").replace(\")\",\"\",6)\n",
        "            result_steps.append({\"name\":this_step, \"parent\":\"Proof\"}) \n",
        "\n",
        "    return result_steps\n"
      ],
      "metadata": {
        "id": "gu5TBABoIvEv"
      },
      "execution_count": 67,
      "outputs": []
    },
    {
      "cell_type": "code",
      "source": [
        "-1 <= x[0], x[0] <= 1"
      ],
      "metadata": {
        "id": "DZfwwyoHKCYi",
        "colab": {
          "base_uri": "https://localhost:8080/"
        },
        "outputId": "dcbe4219-4da4-428b-914e-14ad3b59c539"
      },
      "execution_count": 68,
      "outputs": [
        {
          "output_type": "execute_result",
          "data": {
            "text/plain": [
              "(x >= -1, x <= 1)"
            ]
          },
          "metadata": {},
          "execution_count": 68
        }
      ]
    },
    {
      "cell_type": "code",
      "source": [
        "s.to_smt2().split(\"\\n\")"
      ],
      "metadata": {
        "colab": {
          "base_uri": "https://localhost:8080/"
        },
        "id": "w3MyhGNFJRt2",
        "outputId": "2fb41b91-b2e1-4edc-eb34-55842821fac8"
      },
      "execution_count": 69,
      "outputs": [
        {
          "output_type": "execute_result",
          "data": {
            "text/plain": [
              "['; benchmark generated from python API',\n",
              " '(set-info :status unknown)',\n",
              " '(declare-fun x () Real)',\n",
              " '(assert',\n",
              " ' (>= x (- 1.0)))',\n",
              " '(assert',\n",
              " ' (<= x 1.0))',\n",
              " '(assert',\n",
              " ' (let ((?x69 (+ (- (* 8.0 (^ x 4.0)) (* 8.0 (^ x 2.0))) 1.0)))',\n",
              " ' (let ((?x1919 (* (/ 3558933138847351.0 10000000000000000.0) x)))',\n",
              " ' (let ((?x1947 (+ ?x1919 (/ 217914255335927.0 3125000000000000.0))))',\n",
              " ' (let ((?x2224 (ite (>= ?x1947 0.0) ?x1947 0.0)))',\n",
              " ' (let ((?x1921 (* (/ 1393773853778839.0 5000000000000000.0) x)))',\n",
              " ' (let ((?x2190 (+ ?x1921 (- (/ 1193377305753529.0 1000000000000000000.0)))))',\n",
              " ' (let ((?x2222 (ite (>= ?x2190 0.0) ?x2190 0.0)))',\n",
              " ' (let ((?x2248 (* (- (/ 7260363101959229.0 10000000000000000.0)) x)))',\n",
              " ' (let ((?x2188 (+ ?x2248 (- (/ 6936235725879669.0 100000000000000000.0)))))',\n",
              " ' (let ((?x2220 (ite (>= ?x2188 0.0) ?x2188 0.0)))',\n",
              " ' (let ((?x2257 (* (- (/ 37275436520576477.0 100000000000000000.0)) x)))',\n",
              " ' (let ((?x1989 (+ ?x2257 (- (/ 155645115301013.0 625000000000000.0)))))',\n",
              " ' (let ((?x2067 (ite (>= ?x1989 0.0) ?x1989 0.0)))',\n",
              " ' (let ((?x2255 (* (/ 4787672758102417.0 10000000000000000.0) x)))',\n",
              " ' (let ((?x2186 (+ ?x2255 (/ 2659638226032257.0 10000000000000000.0))))',\n",
              " ' (let ((?x2066 (ite (>= ?x2186 0.0) ?x2186 0.0)))',\n",
              " ' (let ((?x2253 (* (- (/ 542846143245697.0 1000000000000000.0)) x)))',\n",
              " ' (let ((?x1861 (+ ?x2253 (/ 8364047110080719.0 25000000000000000.0))))',\n",
              " ' (let ((?x2233 (ite (>= ?x1861 0.0) ?x1861 0.0)))',\n",
              " ' (let ((?x1927 (* (/ 972873792052269.0 2500000000000000.0) x)))',\n",
              " ' (let ((?x1983 (+ ?x1927 (/ 1679030179977417.0 4000000000000000.0))))',\n",
              " ' (let ((?x2231 (ite (>= ?x1983 0.0) ?x1983 0.0)))',\n",
              " ' (let ((?x2063 (* (/ 8002495169639587.0 10000000000000000.0) x)))',\n",
              " ' (let ((?x1981 (+ ?x2063 (- (/ 10975019633769989.0 50000000000000000.0)))))',\n",
              " ' (let ((?x2229 (ite (>= ?x1981 0.0) ?x1981 0.0)))',\n",
              " ' (let ((?x2252 (* (- (/ 1944227933883667.0 4000000000000000.0)) x)))',\n",
              " ' (let ((?x2192 (+ ?x2252 (/ 2750219590961933.0 50000000000000000.0))))',\n",
              " ' (let ((?x2227 (ite (>= ?x2192 0.0) ?x2192 0.0)))',\n",
              " ' (let ((?x1925 (* (- (/ 6697056293487549.0 10000000000000000.0)) x)))',\n",
              " ' (let ((?x2915 (+ ?x1925 (/ 5352228134870529.0 100000000000000000.0))))',\n",
              " ' (let ((?x2225 (ite (>= ?x2915 0.0) ?x2915 0.0)))',\n",
              " ' (let ((?x1945 (* (/ 39486604928970337.0 100000000000000000.0) x)))',\n",
              " ' (let ((?x2203 (+ ?x1945 (/ 7180449366569519.0 100000000000000000.0))))',\n",
              " ' (let ((?x2086 (ite (>= ?x2203 0.0) ?x2203 0.0)))',\n",
              " ' (let ((?x3369 (* (/ 439944863319397.0 1000000000000000.0) x)))',\n",
              " ' (let ((?x1888 (+ ?x3369 (- (/ 13403661549091339.0 500000000000000000.0)))))',\n",
              " ' (let ((?x2243 (ite (>= ?x1888 0.0) ?x1888 0.0)))',\n",
              " ' (let ((?x3523 (* (/ 3183300793170929.0 25000000000000000.0) x)))',\n",
              " ' (let ((?x2201 (+ ?x3523 (/ 29245059937238693.0 500000000000000000.0))))',\n",
              " ' (let ((?x2241 (ite (>= ?x2201 0.0) ?x2201 0.0)))',\n",
              " ' (let ((?x3616 (* (/ 3736991286277771.0 10000000000000000.0) x)))',\n",
              " ' (let ((?x2200 (+ ?x3616 (- (/ 8345687389373779.0 100000000000000000.0)))))',\n",
              " ' (let ((?x2239 (ite (>= ?x2200 0.0) ?x2200 0.0)))',\n",
              " ' (let ((?x3338 (* (/ 14429275691509247.0 50000000000000000.0) x)))',\n",
              " ' (let ((?x2198 (+ ?x3338 (/ 7013551890850067.0 50000000000000000.0))))',\n",
              " ' (let ((?x2237 (ite (>= ?x2198 0.0) ?x2198 0.0)))',\n",
              " ' (let ((?x3554 (* (/ 43114137649536133.0 100000000000000000.0) x)))',\n",
              " ' (let ((?x2196 (+ ?x3554 (/ 8451308310031891.0 100000000000000000.0))))',\n",
              " ' (let ((?x2235 (ite (>= ?x2196 0.0) ?x2196 0.0)))',\n",
              " ' (let ((?x3400 (* (- (/ 5119437575340271.0 10000000000000000.0)) x)))',\n",
              " ' (let ((?x2194 (+ ?x3400 (- (/ 111975590698421.0 781250000000000.0)))))',\n",
              " ' (let ((?x2181 (ite (>= ?x2194 0.0) ?x2194 0.0)))',\n",
              " ' (let ((?x1939 (* (/ 2788543403148651.0 5000000000000000.0) x)))',\n",
              " ' (let ((?x1903 (+ ?x1939 (- (/ 2765195965766907.0 10000000000000000.0)))))',\n",
              " ' (let ((?x2246 (ite (>= ?x1903 0.0) ?x1903 0.0)))',\n",
              " ' (let ((?x1931 (* (/ 16922958195209503.0 50000000000000000.0) x)))',\n",
              " ' (let ((?x1905 (+ ?x1931 (/ 33907952904701233.0 100000000000000000.0))))',\n",
              " ' (let ((?x2245 (ite (>= ?x1905 0.0) ?x1905 0.0)))',\n",
              " ' (let ((?x3023 (* (- (/ 7853483557701111.0 10000000000000000.0)) x)))',\n",
              " ' (let ((?x1898 (+ ?x3023 (- (/ 3660890832543373.0 25000000000000000.0)))))',\n",
              " ' (let ((?x2902 (ite (>= ?x1898 0.0) ?x1898 0.0)))',\n",
              " ' (let ((?x3591 (+ (+ (+ (* (/ 6490950584411621.0 20000000000000000.0) ?x2902) (* (- (/ 11484981775283813.0 10000000000000000.0)) ?x2245)) (* (/ 432949036359787.0 2000000000000000.0) ?x2246)) (* (/ 2137042135000229.0 5000000000000000.0) ?x2181))))',\n",
              " ' (let ((?x3538 (+ (+ (+ (+ ?x3591 (* (/ 20279349386692047.0 100000000000000000.0) ?x2235)) (* (/ 7484125904738903.0 125000000000000000.0) ?x2237)) (* (- (/ 656512975692749.0 2000000000000000.0)) ?x2239)) (* (/ 35232090950012207.0 100000000000000000.0) ?x2241))))',\n",
              " ' (let ((?x3550 (+ (+ (+ (+ ?x3538 (* (- (/ 4502696916460991.0 25000000000000000.0)) ?x2243)) (* (/ 2585888206958771.0 10000000000000000.0) ?x2086)) (* (- (/ 1300530582666397.0 20000000000000000.0)) ?x2225)) (* (/ 10739301890134811.0 100000000000000000.0) ?x2227))))',\n",
              " ' (let ((?x3503 (+ (+ (+ (+ ?x3550 (* (/ 2088082954287529.0 62500000000000000.0) ?x2229)) (* (- (/ 5916609168052673.0 10000000000000000.0)) ?x2231)) (* (/ 166585773229599.0 2000000000000000.0) ?x2233)) (* (- (/ 911765843629837.0 2500000000000000.0)) ?x2066))))',\n",
              " ' (let ((?x3515 (+ (+ (+ (+ ?x3503 (* (/ 6693723797798157.0 10000000000000000.0) ?x2067)) (* (/ 500806450843811.0 1000000000000000.0) ?x2220)) (* (/ 3278796076774597.0 10000000000000000.0) ?x2222)) (* (- (/ 4620474949479103.0 100000000000000000.0)) ?x2224))))',\n",
              " ' (let ((?x3447 (+ ?x3515 (- (/ 1148445725440979.0 4000000000000000.0)))))',\n",
              " ' (let ((?x3644 (+ (+ (+ (* (- (/ 6374373435974121.0 20000000000000000.0)) ?x2902) (* (/ 1253014151006937.0 25000000000000000.0) ?x2245)) (* (- (/ 48213276267051697.0 100000000000000000.0)) ?x2246)) (* (/ 68746417760849.0 1000000000000000.0) ?x2181))))',\n",
              " ' (let ((?x3597 (+ (+ (+ (+ ?x3644 (* (/ 2021939866244793.0 25000000000000000.0) ?x2235)) (* (- (/ 5437532439827919.0 25000000000000000.0)) ?x2237)) (* (- (/ 27810700237751007.0 500000000000000000.0)) ?x2239)) (* (- (/ 1850370615720749.0 20000000000000000.0)) ?x2241))))',\n",
              " ' (let ((?x3609 (+ (+ (+ (+ ?x3597 (* (- (/ 27990278601646423.0 100000000000000000.0)) ?x2243)) (* (/ 15677443146705627.0 100000000000000000.0) ?x2086)) (* (- (/ 46851029992103577.0 100000000000000000.0)) ?x2225)) (* (- (/ 1858506441116333.0 4000000000000000.0)) ?x2227))))',\n",
              " ' (let ((?x3562 (+ (+ (+ (+ ?x3609 (* (- (/ 3135654330253601.0 100000000000000000.0)) ?x2229)) (* (/ 323241651058197.0 1000000000000000.0) ?x2231)) (* (- (/ 12004425525665283.0 10000000000000000.0)) ?x2233)) (* (/ 8685227483510971.0 100000000000000000.0) ?x2066))))',\n",
              " ' (let ((?x3574 (+ (+ (+ (+ ?x3562 (* (/ 1366361677646637.0 5000000000000000.0) ?x2067)) (* (- (/ 6664232164621353.0 50000000000000000.0)) ?x2220)) (* (- (/ 7173111289739609.0 50000000000000000.0)) ?x2222)) (* (/ 16895201802253723.0 100000000000000000.0) ?x2224))))',\n",
              " ' (let ((?x3445 (+ ?x3574 (/ 1132169459015131.0 6250000000000000.0))))',\n",
              " ' (let ((?x3702 (+ (+ (+ (* (/ 3367544710636139.0 25000000000000000.0) ?x2902) (* (- (/ 16642186045646667.0 100000000000000000.0)) ?x2245)) (* (/ 19380898773670197.0 100000000000000000.0) ?x2246)) (* (- (/ 10544184595346451.0 100000000000000000.0)) ?x2181))))',\n",
              " ' (let ((?x3656 (+ (+ (+ (+ ?x3702 (* (/ 17101341485977173.0 50000000000000000.0) ?x2235)) (* (- (/ 34621.0 131072.0)) ?x2237)) (* (/ 1745205819606781.0 20000000000000000.0) ?x2239)) (* (- (/ 1306465119123459.0 5000000000000000.0)) ?x2241))))',\n",
              " ' (let ((?x3668 (+ (+ (+ (+ ?x3656 (* (/ 4191465675830841.0 50000000000000000.0) ?x2243)) (* (- (/ 20412231981754303.0 100000000000000000.0)) ?x2086)) (* (/ 5711982250213623.0 20000000000000000.0) ?x2225)) (* (- (/ 10087151825428009.0 100000000000000000.0)) ?x2227))))',\n",
              " ' (let ((?x3677 (+ (+ (+ (+ ?x3668 (* (- (/ 1044289767742157.0 5000000000000000.0)) ?x2229)) (* (- (/ 7338526099920273.0 100000000000000000.0)) ?x2231)) (* (/ 2189294844865799.0 10000000000000000.0) ?x2233)) (* (- (/ 11565888300538063.0 500000000000000000.0)) ?x2066))))',\n",
              " ' (let ((?x3633 (+ (+ (+ (+ ?x3677 (* (- (/ 1691160649061203.0 5000000000000000.0)) ?x2067)) (* (/ 3345218300819397.0 10000000000000000.0) ?x2220)) (* (/ 912120845168829.0 12500000000000000.0) ?x2222)) (* (/ 14855198562145233.0 50000000000000000.0) ?x2224))))',\n",
              " ' (let ((?x3443 (+ ?x3633 (/ 4937533289194107.0 25000000000000000.0))))',\n",
              " ' (let ((?x3758 (+ (+ (+ (* (/ 3315490111708641.0 25000000000000000.0) ?x2902) (* (- (/ 982823371887207.0 5000000000000000.0)) ?x2245)) (* (- (/ 11152978055179119.0 1000000000000000000.0)) ?x2246)) (* (- (/ 2661987841129303.0 20000000000000000.0)) ?x2181))))',\n",
              " ' (let ((?x3772 (+ (+ (+ (+ ?x3758 (* (/ 461212731897831.0 12500000000000000.0) ?x2235)) (* (/ 10312298685312271.0 50000000000000000.0) ?x2237)) (* (- (/ 892016664147377.0 3125000000000000.0)) ?x2239)) (* (/ 6624795794487.0 20000000000000.0) ?x2241))))',\n",
              " ' (let ((?x3724 (+ (+ (+ (+ ?x3772 (* (/ 290439635515213.0 1000000000000000.0) ?x2243)) (* (/ 7349240779876709.0 20000000000000000.0) ?x2086)) (* (- (/ 11770765297114849.0 250000000000000000.0)) ?x2225)) (* (/ 811629444360733.0 5000000000000000.0) ?x2227))))',\n",
              " ' (let ((?x3736 (+ (+ (+ (+ ?x3724 (* (- (/ 1906973272562027.0 10000000000000000.0)) ?x2229)) (* (/ 256328821182251.0 1000000000000000.0) ?x2231)) (* (- (/ 11309666633605957.0 10000000000000000.0)) ?x2233)) (* (- (/ 3834618330001831.0 20000000000000000.0)) ?x2066))))',\n",
              " ' (let ((?x3691 (+ (+ (+ (+ ?x3736 (* (- (/ 17236176133155823.0 50000000000000000.0)) ?x2067)) (* (/ 476810596883297.0 20000000000000000.0) ?x2220)) (* (/ 4098198190331459.0 25000000000000000.0) ?x2222)) (* (- (/ 623910017311573.0 5000000000000000.0)) ?x2224))))',\n",
              " ' (let ((?x3441 (+ ?x3691 (/ 1023978665471077.0 5000000000000000.0))))',\n",
              " ' (let ((?x3815 (+ (+ (+ (* (/ 11649657040834427.0 50000000000000000.0) ?x2902) (* (/ 4033733606338501.0 20000000000000000.0) ?x2245)) (* (/ 10112558305263519.0 100000000000000000.0) ?x2246)) (* (- (/ 12298600375652313.0 50000000000000000.0)) ?x2181))))',\n",
              " ' (let ((?x3827 (+ (+ (+ (+ ?x3815 (* (- (/ 8153877407312393.0 100000000000000000.0)) ?x2235)) (* (- (/ 3545457124710083.0 12500000000000000.0)) ?x2237)) (* (- (/ 4208052158355713.0 25000000000000000.0)) ?x2239)) (* (/ 12845093384385109.0 1000000000000000000.0) ?x2241))))',\n",
              " ' (let ((?x3781 (+ (+ (+ (+ ?x3827 (* (- (/ 2529790811240673.0 25000000000000000.0)) ?x2243)) (* (/ 25735530257225037.0 100000000000000000.0) ?x2086)) (* (/ 17095470428466797.0 50000000000000000.0) ?x2225)) (* (/ 3558730185031891.0 10000000000000000.0) ?x2227))))',\n",
              " ' (let ((?x3793 (+ (+ (+ (+ ?x3781 (* (/ 3973483294248581.0 100000000000000000.0) ?x2229)) (* (/ 4033263623714447.0 20000000000000000.0) ?x2231)) (* (/ 17017762362957.0 50000000000000.0) ?x2233)) (* (- (/ 91930590569973.0 312500000000000.0)) ?x2066))))',\n",
              " ' (let ((?x3747 (+ (+ (+ (+ ?x3793 (* (- (/ 15677283704280853.0 100000000000000000.0)) ?x2067)) (* (- (/ 13404744677245617.0 2000000000000000000.0)) ?x2220)) (* (/ 10079222172498703.0 50000000000000000.0) ?x2222)) (* (/ 15841449797153473.0 50000000000000000.0) ?x2224))))',\n",
              " ' (let ((?x3439 (+ ?x3747 (/ 12492872774600983.0 100000000000000000.0))))',\n",
              " ' (let ((?x3874 (+ (+ (+ (* (/ 2861718535423279.0 5000000000000000.0) ?x2902) (* (- (/ 1527404546737671.0 1000000000000000.0)) ?x2245)) (* (/ 18070071935653687.0 100000000000000000.0) ?x2246)) (* (/ 5739007517695427.0 25000000000000000.0) ?x2181))))',\n",
              " ' (let ((?x3886 (+ (+ (+ (+ ?x3874 (* (- (/ 2287791483104229.0 12500000000000000.0)) ?x2235)) (* (- (/ 4884472191333771.0 10000000000000000.0)) ?x2237)) (* (/ 2824791520833969.0 25000000000000000.0) ?x2239)) (* (- (/ 2490759938955307.0 10000000000000000.0)) ?x2241))))',\n",
              " ' (let ((?x3839 (+ (+ (+ (+ ?x3886 (* (/ 787574052810669.0 25000000000000000.0) ?x2243)) (* (- (/ 5059957504272461.0 20000000000000000.0)) ?x2086)) (* (/ 892045870423317.0 2500000000000000.0) ?x2225)) (* (- (/ 4307548701763153.0 25000000000000000.0)) ?x2227))))',\n",
              " ' (let ((?x3851 (+ (+ (+ (+ ?x3839 (* (/ 6979739665985107.0 100000000000000000.0) ?x2229)) (* (- (/ 5009177327156067.0 5000000000000000.0)) ?x2231)) (* (/ 3112586447969079.0 125000000000000000.0) ?x2233)) (* (/ 2005808986723423.0 25000000000000000.0) ?x2066))))',\n",
              " ' (let ((?x3860 (+ (+ (+ (+ ?x3851 (* (/ 3132389783859253.0 20000000000000000.0) ?x2067)) (* (/ 3376404643058777.0 10000000000000000.0) ?x2220)) (* (/ 895330160856247.0 2500000000000000.0) ?x2222)) (* (/ 3894461691379547.0 25000000000000000.0) ?x2224))))',\n",
              " ' (let ((?x3494 (+ ?x3860 (- (/ 2719641923904419.0 10000000000000000.0)))))',\n",
              " ' (let ((?x3048 (+ (+ (+ (* (/ 11259627342224121.0 50000000000000000.0) ?x2902) (* (/ 27667930722236633.0 100000000000000000.0) ?x2245)) (* (/ 7555762529373169.0 20000000000000000.0) ?x2246)) (* (/ 1499509960412979.0 5000000000000000.0) ?x2181))))',\n",
              " ' (let ((?x3586 (+ (+ (+ (+ ?x3048 (* (/ 4284186288714409.0 50000000000000000.0) ?x2235)) (* (/ 1755029708147049.0 10000000000000000.0) ?x2237)) (* (/ 8673068881034851.0 25000000000000000.0) ?x2239)) (* (/ 1248610258102417.0 4000000000000000.0) ?x2241))))',\n",
              " ' (let ((?x3215 (+ (+ (+ (+ ?x3586 (* (- (/ 9572858363389969.0 100000000000000000.0)) ?x2243)) (* (/ 175120010972023.0 5000000000000000.0) ?x2086)) (* (- (/ 1508675366640091.0 10000000000000000.0)) ?x2225)) (* (- (/ 2040189802646637.0 10000000000000000.0)) ?x2227))))',\n",
              " ' (let ((?x3910 (+ (+ (+ (+ ?x3215 (* (/ 796569436788559.0 5000000000000000.0) ?x2229)) (* (/ 780827971175313.0 3125000000000000.0) ?x2231)) (* (/ 3237423300743103.0 10000000000000000.0) ?x2233)) (* (/ 5378827452659607.0 25000000000000000.0) ?x2066))))',\n",
              " ' (let ((?x3928 (+ (+ (+ (+ ?x3910 (* (/ 8689815551042557.0 50000000000000000.0) ?x2067)) (* (/ 2902798168361187.0 25000000000000000.0) ?x2220)) (* (- (/ 5625259503722191.0 100000000000000000.0)) ?x2222)) (* (- (/ 233804015442729.0 1562500000000000.0)) ?x2224))))',\n",
              " ' (let ((?x3495 (+ ?x3928 (- (/ 8059674501419067.0 100000000000000000.0)))))',\n",
              " ' (let ((?x2975 (+ (+ (+ (* (- (/ 42707.0 131072.0)) ?x2902) (* (/ 15388181805610657.0 100000000000000000.0) ?x2245)) (* (- (/ 47276774048805237.0 100000000000000000.0)) ?x2246)) (* (/ 16744953393936157.0 50000000000000000.0) ?x2181))))',\n",
              " ' (let ((?x52 (+ (+ (+ (+ ?x2975 (* (/ 3280549943447113.0 20000000000000000.0) ?x2235)) (* (/ 14369896054267883.0 100000000000000000.0) ?x2237)) (* (/ 20743395388126373.0 100000000000000000.0) ?x2239)) (* (/ 8754546195268631.0 25000000000000000.0) ?x2241))))',\n",
              " ' (let ((?x3017 (+ (+ (+ (+ ?x52 (* (/ 281877338886261.0 2000000000000000.0) ?x2243)) (* (/ 762045606970787.0 10000000000000000.0) ?x2086)) (* (- (/ 1532014012336731.0 10000000000000000.0)) ?x2225)) (* (- (/ 1186936441808939.0 6250000000000000.0)) ?x2227))))',\n",
              " ' (let ((?x3053 (+ (+ (+ (+ ?x3017 (* (- (/ 1764993965625763.0 10000000000000000.0)) ?x2229)) (* (/ 11380395293235779.0 100000000000000000.0) ?x2231)) (* (- (/ 3413432836532593.0 5000000000000000.0)) ?x2233)) (* (/ 13850007951259613.0 100000000000000000.0) ?x2066))))',\n",
              " ' (let ((?x3117 (+ (+ (+ (+ ?x3053 (* (/ 6979343295097351.0 50000000000000000.0) ?x2067)) (* (/ 6909996271133423.0 100000000000000000.0) ?x2220)) (* (- (/ 11723941564559937.0 100000000000000000.0)) ?x2222)) (* (- (/ 481385737657547.0 2500000000000000.0)) ?x2224))))',\n",
              " ' (let ((?x3497 (+ ?x3117 (/ 812307745218277.0 12500000000000000.0))))',\n",
              " ' (let ((?x2273 (+ (+ (+ (* (- (/ 15876835584640503.0 50000000000000000.0)) ?x2902) (* (- (/ 17557424306869507.0 100000000000000000.0)) ?x2245)) (* (- (/ 1655706912279129.0 5000000000000000.0)) ?x2246)) (* (/ 3222910165786743.0 10000000000000000.0) ?x2181))))',\n",
              " ' (let ((?x2774 (+ (+ (+ (+ ?x2273 (* (/ 14402860403060913.0 50000000000000000.0) ?x2235)) (* (/ 1471090018749237.0 5000000000000000.0) ?x2237)) (* (/ 2129817195236683.0 25000000000000000.0) ?x2239)) (* (/ 2469044178724289.0 10000000000000000.0) ?x2241))))',\n",
              " ' (let ((?x2982 (+ (+ (+ (+ ?x2774 (* (/ 327804833650589.0 1250000000000000.0) ?x2243)) (* (- (/ 562317855656147.0 2500000000000000.0)) ?x2086)) (* (- (/ 10152003914117813.0 50000000000000000.0)) ?x2225)) (* (/ 8862441778182983.0 100000000000000000.0) ?x2227))))',\n",
              " ' (let ((?x2952 (+ (+ (+ (+ ?x2982 (* (/ 1132301390171051.0 5000000000000000.0) ?x2229)) (* (- (/ 554594025015831.0 2500000000000000.0)) ?x2231)) (* (- (/ 5927954912185669.0 5000000000000000.0)) ?x2233)) (* (/ 3958911597728729.0 10000000000000000.0) ?x2066))))',\n",
              " ' (let ((?x2964 (+ (+ (+ (+ ?x2952 (* (- (/ 298522412776947.0 2000000000000000.0)) ?x2067)) (* (/ 850708968937397.0 3125000000000000.0) ?x2220)) (* (/ 12304653413593769.0 250000000000000000.0) ?x2222)) (* (/ 3483249619603157.0 12500000000000000.0) ?x2224))))',\n",
              " ' (let ((?x3489 (+ ?x2964 (/ 3507876992225647.0 20000000000000000.0))))',\n",
              " ' (let ((?x2841 (+ (+ (+ (* (/ 1565621793270111.0 10000000000000000.0) ?x2902) (* (/ 183323435485363.0 625000000000000.0) ?x2245)) (* (- (/ 979810431599617.0 2500000000000000.0)) ?x2246)) (* (/ 76285719871521.0 250000000000000.0) ?x2181))))',\n",
              " ' (let ((?x2853 (+ (+ (+ (+ ?x2841 (* (- (/ 24672186374664307.0 100000000000000000.0)) ?x2235)) (* (- (/ 19832316040992737.0 50000000000000000.0)) ?x2237)) (* (- (/ 7778730243444443.0 100000000000000000.0)) ?x2239)) (* (- (/ 111783467233181.0 500000000000000.0)) ?x2241))))',\n",
              " ' (let ((?x2864 (+ (+ (+ (+ ?x2853 (* (- (/ 10618932545185089.0 50000000000000000.0)) ?x2243)) (* (/ 1834641695022583.0 5000000000000000.0) ?x2086)) (* (- (/ 8082462847232819.0 100000000000000000.0)) ?x2225)) (* (/ 44427958130836487.0 100000000000000000.0) ?x2227))))',\n",
              " ' (let ((?x2876 (+ (+ (+ (+ ?x2864 (* (/ 407538115978241.0 2500000000000000.0) ?x2229)) (* (/ 3908052109181881.0 250000000000000000.0) ?x2231)) (* (/ 619749091565609.0 2500000000000000.0) ?x2233)) (* (- (/ 1291811466217041.0 4000000000000000.0)) ?x2066))))',\n",
              " ' (let ((?x2988 (+ (+ (+ (+ ?x2876 (* (/ 12192046269774437.0 1000000000000000000.0) ?x2067)) (* (/ 170754361897707.0 40000000000000000.0) ?x2220)) (* (/ 349377803504467.0 1250000000000000.0) ?x2222)) (* (/ 6803969144821167.0 20000000000000000.0) ?x2224))))',\n",
              " ' (let ((?x3487 (+ ?x2988 (/ 9638316184282303.0 50000000000000000.0))))',\n",
              " ' (let ((?x2784 (+ (+ (+ (* (/ 16358287632465363.0 100000000000000000.0) ?x2902) (* (/ 7811239361763.0 50000000000000.0) ?x2245)) (* (- (/ 394677072763443.0 2500000000000000.0)) ?x2246)) (* (/ 3133895993232727.0 20000000000000000.0) ?x2181))))',\n",
              " ' (let ((?x2796 (+ (+ (+ (+ ?x2784 (* (- (/ 1001957687549293.0 125000000000000000.0)) ?x2235)) (* (/ 13799314200878143.0 100000000000000000.0) ?x2237)) (* (- (/ 4123091325163841.0 50000000000000000.0)) ?x2239)) (* (/ 13526244461536407.0 100000000000000000.0) ?x2241))))',\n",
              " ' (let ((?x2807 (+ (+ (+ (+ ?x2796 (* (/ 14547164738178253.0 50000000000000000.0) ?x2243)) (* (/ 2290859967470169.0 20000000000000000.0) ?x2086)) (* (/ 2162323296070099.0 5000000000000000.0) ?x2225)) (* (- (/ 642005130648613.0 5000000000000000.0)) ?x2227))))',\n",
              " ' (let ((?x2819 (+ (+ (+ (+ ?x2807 (* (/ 8798312395811081.0 50000000000000000.0) ?x2229)) (* (- (/ 9998980909585953.0 50000000000000000.0)) ?x2231)) (* (/ 3886310011148453.0 100000000000000000.0) ?x2233)) (* (/ 3043578565120697.0 10000000000000000.0) ?x2066))))',\n",
              " ' (let ((?x2830 (+ (+ (+ (+ ?x2819 (* (- (/ 14009973406791687.0 50000000000000000.0)) ?x2067)) (* (/ 6160726547241211.0 20000000000000000.0) ?x2220)) (* (/ 35641707945615053.0 10000000000000000000.0) ?x2222)) (* (/ 2449551671743393.0 10000000000000000.0) ?x2224))))',\n",
              " ' (let ((?x3485 (+ ?x2830 (/ 1628081202507019.0 20000000000000000.0))))',\n",
              " ' (let ((?x2750 (+ (+ (+ (* (/ 25989562273025513.0 1000000000000000000.0) ?x2902) (* (/ 3422432541847229.0 10000000000000000.0) ?x2245)) (* (/ 3822023868560791.0 20000000000000000.0) ?x2246)) (* (- (/ 316491037607193.0 2000000000000000.0)) ?x2181))))',\n",
              " ' (let ((?x2697 (+ (+ (+ (+ ?x2750 (* (/ 21862786263227463.0 500000000000000000.0) ?x2235)) (* (/ 18502177298069.0 200000000000000.0) ?x2237)) (* (/ 1727544218301773.0 20000000000000000.0) ?x2239)) (* (/ 29820573329925537.0 100000000000000000.0) ?x2241))))',\n",
              " ' (let ((?x2710 (+ (+ (+ (+ ?x2697 (* (- (/ 3675854802131653.0 10000000000000000.0)) ?x2243)) (* (- (/ 13637658953666687.0 50000000000000000.0)) ?x2086)) (* (/ 1018863394856453.0 10000000000000000.0) ?x2225)) (* (- (/ 2132958024740219.0 5000000000000000.0)) ?x2227))))',\n",
              " ' (let ((?x2762 (+ (+ (+ (+ ?x2710 (* (- (/ 512326555326581.0 6250000000000000.0)) ?x2229)) (* (/ 13702303171157837.0 50000000000000000.0) ?x2231)) (* (- (/ 6208881735801697.0 5000000000000000.0)) ?x2233)) (* (- (/ 619775652885437.0 10000000000000000.0)) ?x2066))))',\n",
              " ' (let ((?x2776 (+ (+ (+ (+ ?x2762 (* (/ 3604776859283447.0 10000000000000000.0) ?x2067)) (* (- (/ 26182112097740173.0 100000000000000000.0)) ?x2220)) (* (/ 537275493144989.0 2000000000000000.0) ?x2222)) (* (/ 615673840045929.0 2000000000000000.0) ?x2224))))',\n",
              " ' (let ((?x3483 (+ ?x2776 (/ 795257743448019.0 6250000000000000.0))))',\n",
              " ' (let ((?x2627 (+ (+ (+ (* (- (/ 10433386266231537.0 50000000000000000.0)) ?x2902) (* (- (/ 8198796957731247.0 50000000000000000.0)) ?x2245)) (* (/ 136172616481781.0 200000000000000.0) ?x2246)) (* (/ 358940027654171.0 1250000000000000.0) ?x2181))))',\n",
              " ' (let ((?x2639 (+ (+ (+ (+ ?x2627 (* (/ 240525733679533.0 20000000000000000.0) ?x2235)) (* (/ 24537715315818787.0 100000000000000000.0) ?x2237)) (* (/ 5279795527458191.0 10000000000000000.0) ?x2239)) (* (- (/ 4484381377696991.0 20000000000000000.0)) ?x2241))))',\n",
              " ' (let ((?x2715 (+ (+ (+ (+ ?x2639 (* (/ 4540601745247841.0 25000000000000000.0) ?x2243)) (* (- (/ 938001424074173.0 10000000000000000.0)) ?x2086)) (* (- (/ 9971015155315399.0 100000000000000000.0)) ?x2225)) (* (- (/ 361776128411293.0 2500000000000000.0)) ?x2227))))',\n",
              " ' (let ((?x2727 (+ (+ (+ (+ ?x2715 (* (/ 705964982509613.0 2000000000000000.0) ?x2229)) (* (- (/ 6587004661560059.0 100000000000000000.0)) ?x2231)) (* (- (/ 32438337802886963.0 100000000000000000.0)) ?x2233)) (* (/ 22733253240585327.0 100000000000000000.0) ?x2066))))',\n",
              " ' (let ((?x2739 (+ (+ (+ (+ ?x2727 (* (/ 5613207221031189.0 20000000000000000.0) ?x2067)) (* (/ 15216106176376343.0 50000000000000000.0) ?x2220)) (* (/ 19018150866031647.0 100000000000000000.0) ?x2222)) (* (- (/ 1818472445011139.0 10000000000000000.0)) ?x2224))))',\n",
              " ' (let ((?x3481 (+ ?x2739 (- (/ 2603330910205841.0 10000000000000000.0)))))',\n",
              " ' (let ((?x2611 (+ (+ (+ (* (- (/ 8297053724527359.0 25000000000000000.0)) ?x2902) (* (/ 3515375405550003.0 12500000000000000.0) ?x2245)) (* (- (/ 3245285153388977.0 10000000000000000.0)) ?x2246)) (* (- (/ 2829098403453827.0 10000000000000000.0)) ?x2181))))',\n",
              " ' (let ((?x2936 (+ (+ (+ (+ ?x2611 (* (- (/ 92887282371521.0 400000000000000.0)) ?x2235)) (* (- (/ 1539437286555767.0 12500000000000000.0)) ?x2237)) (* (/ 204346664249897.0 2500000000000000.0) ?x2239)) (* (/ 5082816481590271.0 20000000000000000.0) ?x2241))))',\n",
              " ' (let ((?x2655 (+ (+ (+ (+ ?x2936 (* (/ 426333025097847.0 1250000000000000.0) ?x2243)) (* (/ 956122949719429.0 10000000000000000.0) ?x2086)) (* (- (/ 830419659614563.0 2500000000000000.0)) ?x2225)) (* (/ 10360599309206009.0 200000000000000000.0) ?x2227))))',\n",
              " ' (let ((?x2667 (+ (+ (+ (+ ?x2655 (* (- (/ 15345577895641327.0 50000000000000000.0)) ?x2229)) (* (- (/ 1196339949965477.0 20000000000000000.0)) ?x2231)) (* (/ 1828446239233017.0 25000000000000000.0) ?x2233)) (* (- (/ 7192167043685913.0 20000000000000000.0)) ?x2066))))',\n",
              " ' (let ((?x2679 (+ (+ (+ (+ ?x2667 (* (/ 15880037099123.0 125000000000000.0) ?x2067)) (* (/ 432009220123291.0 2000000000000000.0) ?x2220)) (* (- (/ 650980994105339.0 5000000000000000.0)) ?x2222)) (* (/ 53815683349967.0 156250000000000.0) ?x2224))))',\n",
              " ' (let ((?x3479 (+ ?x2679 (- (/ 3109855204820633.0 200000000000000000.0)))))',\n",
              " ' (let ((?x2554 (+ (+ (+ (* (- (/ 2908864915370941.0 5000000000000000.0)) ?x2902) (* (/ 8543635606765747.0 20000000000000000.0) ?x2245)) (* (- (/ 115036906208843.0 25000000000000000.0)) ?x2246)) (* (- (/ 7242065668106079.0 25000000000000000.0)) ?x2181))))',\n",
              " ' (let ((?x2566 (+ (+ (+ (+ ?x2554 (* (/ 560958981513977.0 2000000000000000.0) ?x2235)) (* (/ 176860298961401.0 625000000000000.0) ?x2237)) (* (- (/ 124265868216753.0 1250000000000000.0)) ?x2239)) (* (- (/ 1301620602607727.0 5000000000000000.0)) ?x2241))))',\n",
              " ' (let ((?x2577 (+ (+ (+ (+ ?x2566 (* (/ 868531409651041.0 12500000000000000.0) ?x2243)) (* (/ 11784419417381287.0 100000000000000000.0) ?x2086)) (* (- (/ 938393846154213.0 5000000000000000.0)) ?x2225)) (* (- (/ 165016508102417.0 400000000000000.0)) ?x2227))))',\n",
              " ' (let ((?x2589 (+ (+ (+ (+ ?x2577 (* (/ 613671064376831.0 2000000000000000.0) ?x2229)) (* (- (/ 1031753420829773.0 12500000000000000.0)) ?x2231)) (* (/ 6440790295600891.0 10000000000000000.0) ?x2233)) (* (/ 1730780154466629.0 20000000000000000.0) ?x2066))))',\n",
              " ' (let ((?x2600 (+ (+ (+ (+ ?x2589 (* (- (/ 3513853996992111.0 50000000000000000.0)) ?x2067)) (* (- (/ 36889705061912537.0 100000000000000000.0)) ?x2220)) (* (/ 8298937976360321.0 25000000000000000.0) ?x2222)) (* (/ 5461636558175087.0 25000000000000000.0) ?x2224))))',\n",
              " ' (let ((?x3477 (+ ?x2600 (/ 2720276638865471.0 25000000000000000.0))))',\n",
              " ' (let ((?x2519 (+ (+ (+ (* (/ 11503385379910469.0 250000000000000000.0) ?x2902) (* (/ 4141232967376709.0 10000000000000000.0) ?x2245)) (* (/ 12056639045476913.0 100000000000000000.0) ?x2246)) (* (/ 13904745876789093.0 100000000000000000.0) ?x2181))))',\n",
              " ' (let ((?x2531 (+ (+ (+ (+ ?x2519 (* (/ 6838579475879669.0 50000000000000000.0) ?x2235)) (* (/ 4933745265007019.0 10000000000000000.0) ?x2237)) (* (- (/ 3054174967110157.0 12500000000000000.0)) ?x2239)) (* (- (/ 4764406755566597.0 25000000000000000.0)) ?x2241))))',\n",
              " ' (let ((?x2543 (+ (+ (+ (+ ?x2531 (* (/ 8571227639913559.0 25000000000000000.0) ?x2243)) (* (- (/ 992899164557457.0 5000000000000000.0)) ?x2086)) (* (/ 3813725709915161.0 100000000000000000.0) ?x2225)) (* (- (/ 4610282778739929.0 10000000000000000.0)) ?x2227))))',\n",
              " ' (let ((?x2490 (+ (+ (+ (+ ?x2543 (* (- (/ 2228856235742569.0 20000000000000000.0)) ?x2229)) (* (/ 8663284033536911.0 25000000000000000.0) ?x2231)) (* (/ 6838802248239517.0 50000000000000000.0) ?x2233)) (* (/ 32501527667045593.0 100000000000000000.0) ?x2066))))',\n",
              " ' (let ((?x2502 (+ (+ (+ (+ ?x2490 (* (/ 5437628924846649.0 50000000000000000.0) ?x2067)) (* (- (/ 9851919114589691.0 50000000000000000.0)) ?x2220)) (* (- (/ 1292509138584137.0 10000000000000000.0)) ?x2222)) (* (/ 7764753699302673.0 100000000000000000.0) ?x2224))))',\n",
              " ' (let ((?x3475 (+ ?x2502 (- (/ 1300223870202899.0 62500000000000000.0)))))',\n",
              " ' (let ((?x2461 (+ (+ (+ (* (/ 3144223615527153.0 12500000000000000.0) ?x2902) (* (- (/ 689854696393013.0 5000000000000000.0)) ?x2245)) (* (- (/ 20388194918632507.0 100000000000000000.0)) ?x2246)) (* (/ 33153384923934937.0 100000000000000000.0) ?x2181))))',\n",
              " ' (let ((?x2473 (+ (+ (+ (+ ?x2461 (* (/ 8963713049888611.0 50000000000000000.0) ?x2235)) (* (/ 10076005011796951.0 100000000000000000.0) ?x2237)) (* (- (/ 35492023825645447.0 100000000000000000.0)) ?x2239)) (* (/ 16682489216327667.0 50000000000000000.0) ?x2241))))',\n",
              " ' (let ((?x2420 (+ (+ (+ (+ ?x2473 (* (/ 2016032487154007.0 12500000000000000.0) ?x2243)) (* (/ 9724626690149307.0 100000000000000000.0) ?x2086)) (* (/ 22257964313030243.0 50000000000000000.0) ?x2225)) (* (/ 6810498982667923.0 100000000000000000.0) ?x2227))))',\n",
              " ' (let ((?x2432 (+ (+ (+ (+ ?x2420 (* (- (/ 9970609098672867.0 50000000000000000.0)) ?x2229)) (* (/ 759991928935051.0 2500000000000000.0) ?x2231)) (* (/ 2579682171344757.0 10000000000000000.0) ?x2233)) (* (- (/ 1686321347951889.0 20000000000000000.0)) ?x2066))))',\n",
              " ' (let ((?x2506 (+ (+ (+ (+ ?x2432 (* (- (/ 274624764919281.0 2000000000000000.0)) ?x2067)) (* (- (/ 267898291349411.0 1000000000000000.0)) ?x2220)) (* (/ 39319540373981.0 312500000000000.0) ?x2222)) (* (- (/ 8656991273164749.0 50000000000000000.0)) ?x2224))))',\n",
              " ' (let ((?x3473 (+ ?x2506 (/ 5414101481437683.0 50000000000000000.0))))',\n",
              " ' (let ((?x2381 (+ (+ (+ (* (- (/ 5158408358693123.0 50000000000000000.0)) ?x2902) (* (- (/ 1480492576956749.0 25000000000000000.0)) ?x2245)) (* (- (/ 1411401629447937.0 5000000000000000.0)) ?x2246)) (* (/ 599124887958169.0 6250000000000000.0) ?x2181))))',\n",
              " ' (let ((?x2392 (+ (+ (+ (+ ?x2381 (* (/ 22176212072372437.0 100000000000000000.0) ?x2235)) (* (/ 3669997677206993.0 25000000000000000.0) ?x2237)) (* (/ 5420985221862793.0 20000000000000000.0) ?x2239)) (* (/ 788692831993103.0 2500000000000000.0) ?x2241))))',\n",
              " ' (let ((?x2404 (+ (+ (+ (+ ?x2392 (* (/ 2616793215274811.0 10000000000000000.0) ?x2243)) (* (- (/ 166540015488863.0 625000000000000.0)) ?x2086)) (* (- (/ 214622113853693.0 1250000000000000.0)) ?x2225)) (* (/ 18319888412952423.0 100000000000000000.0) ?x2227))))',\n",
              " ' (let ((?x2925 (+ (+ (+ (+ ?x2404 (* (/ 3331873193383217.0 50000000000000000.0) ?x2229)) (* (- (/ 127776013687253.0 1562500000000000.0)) ?x2231)) (* (- (/ 7552139759063721.0 10000000000000000.0)) ?x2233)) (* (/ 20305506885051727.0 100000000000000000.0) ?x2066))))',\n",
              " ' (let ((?x2450 (+ (+ (+ (+ ?x2925 (* (/ 1727299578487873.0 100000000000000000.0) ?x2067)) (* (- (/ 3956209421157837.0 20000000000000000.0)) ?x2220)) (* (/ 1811773031949997.0 10000000000000000.0) ?x2222)) (* (/ 1429462106898427.0 31250000000000000.0) ?x2224))))',\n",
              " ' (let ((?x3471 (+ ?x2450 (/ 1635574921965599.0 12500000000000000.0))))',\n",
              " ' (let ((?x2282 (+ (+ (+ (* (- (/ 13927310705184937.0 100000000000000000.0)) ?x2902) (* (/ 1389414370059967.0 20000000000000000.0) ?x2245)) (* (/ 190519317984581.0 1000000000000000.0) ?x2246)) (* (/ 18404465913772583.0 100000000000000000.0) ?x2181))))',\n",
              " ' (let ((?x2294 (+ (+ (+ (+ ?x2282 (* (/ 3899824321269989.0 20000000000000000.0) ?x2235)) (* (- (/ 9375123679637909.0 25000000000000000.0)) ?x2237)) (* (/ 1600639969110489.0 5000000000000000.0) ?x2239)) (* (/ 2636255919933319.0 20000000000000000.0) ?x2241))))',\n",
              " ' (let ((?x2347 (+ (+ (+ (+ ?x2294 (* (- (/ 34696856141090393.0 100000000000000000.0)) ?x2243)) (* (- (/ 1570698320865631.0 5000000000000000.0)) ?x2086)) (* (- (/ 13826784491539001.0 100000000000000000.0)) ?x2225)) (* (- (/ 917370617389679.0 50000000000000000.0)) ?x2227))))',\n",
              " ' (let ((?x2361 (+ (+ (+ (+ ?x2347 (* (- (/ 17483134288340807.0 5000000000000000000.0)) ?x2229)) (* (- (/ 10650095343589783.0 100000000000000000.0)) ?x2231)) (* (/ 10678553581237793.0 200000000000000000.0) ?x2233)) (* (- (/ 322842538356781.0 2000000000000000.0)) ?x2066))))',\n",
              " ' (let ((?x2370 (+ (+ (+ (+ ?x2361 (* (/ 1772981882095337.0 5000000000000000.0) ?x2067)) (* (- (/ 2494092583656311.0 10000000000000000.0)) ?x2220)) (* (/ 340994268655777.0 1000000000000000.0) ?x2222)) (* (- (/ 4660040885210037.0 100000000000000000.0)) ?x2224))))',\n",
              " ' (let ((?x3469 (+ ?x2370 (- (/ 3409301396459341.0 500000000000000000.0)))))',\n",
              " ' (let ((?x2262 (+ (+ (+ (* (/ 515059195458889.0 1562500000000000.0) ?x2902) (* (- (/ 3902604877948761.0 5000000000000000.0)) ?x2245)) (* (/ 205342099070549.0 625000000000000.0) ?x2246)) (* (- (/ 591932088136673.0 5000000000000000.0)) ?x2181))))',\n",
              " ' (let ((?x2298 (+ (+ (+ (+ ?x2262 (* (- (/ 12802639603614807.0 100000000000000000.0)) ?x2235)) (* (- (/ 1963919699192047.0 10000000000000000.0)) ?x2237)) (* (/ 2010643668472767.0 100000000000000000.0) ?x2239)) (* (- (/ 2079395018517971.0 25000000000000000.0)) ?x2241))))',\n",
              " ' (let ((?x2310 (+ (+ (+ (+ ?x2298 (* (- (/ 19686155021190643.0 100000000000000000.0)) ?x2243)) (* (- (/ 2973649203777313.0 10000000000000000.0)) ?x2086)) (* (/ 19224652647972107.0 50000000000000000.0) ?x2225)) (* (/ 5604134127497673.0 25000000000000000.0) ?x2227))))',\n",
              " ' (let ((?x2322 (+ (+ (+ (+ ?x2310 (* (/ 92474902048707.0 312500000000000.0) ?x2229)) (* (- (/ 4275326058268547.0 12500000000000000.0)) ?x2231)) (* (- (/ 8631631731987.0 25000000000000.0)) ?x2233)) (* (- (/ 1453262404538691.0 250000000000000000.0)) ?x2066))))',\n",
              " ' (let ((?x2334 (+ (+ (+ (+ ?x2322 (* (/ 1111895203590393.0 2000000000000000.0) ?x2067)) (* (/ 2993190661072731.0 6250000000000000.0) ?x2220)) (* (/ 3304291069507599.0 10000000000000000.0) ?x2222)) (* (/ 3437429964542389.0 20000000000000000.0) ?x2224))))',\n",
              " ' (let ((?x3525 (+ ?x2334 (- (/ 5315239354968071.0 25000000000000000.0)))))',\n",
              " ' (let ((?x1932 (+ (+ (+ (* (- (/ 157401442527771.0 4000000000000000.0)) ?x2902) (* (/ 5605500340461731.0 20000000000000000.0) ?x2245)) (* (- (/ 8882245421409607.0 20000000000000000.0)) ?x2246)) (* (- (/ 2870527096092701.0 12500000000000000.0)) ?x2181))))',\n",
              " ' (let ((?x1911 (+ (+ (+ (+ ?x1932 (* (/ 901087187230587.0 6250000000000000.0) ?x2235)) (* (/ 733078122138977.0 20000000000000000.0) ?x2237)) (* (/ 7829955220222473.0 50000000000000000.0) ?x2239)) (* (- (/ 12373320013284683.0 100000000000000000.0)) ?x2241))))',\n",
              " ' (let ((?x1890 (+ (+ (+ (+ ?x1911 (* (/ 1024462515488267.0 125000000000000000.0) ?x2243)) (* (/ 4123862087726593.0 20000000000000000.0) ?x2086)) (* (- (/ 4062579274177551.0 10000000000000000.0)) ?x2225)) (* (/ 1781654916703701.0 12500000000000000.0) ?x2227))))',\n",
              " ' (let ((?x1886 (+ (+ (+ (+ ?x1890 (* (- (/ 2070731669664383.0 5000000000000000.0)) ?x2229)) (* (/ 21501967310905457.0 100000000000000000.0) ?x2231)) (* (- (/ 9466468691825867.0 10000000000000000.0)) ?x2233)) (* (- (/ 6531132012605667.0 100000000000000000.0)) ?x2066))))',\n",
              " ' (let ((?x1862 (+ (+ (+ (+ ?x1886 (* (- (/ 702899694442749.0 10000000000000000.0)) ?x2067)) (* (/ 384585652500391.0 3125000000000000.0) ?x2220)) (* (/ 6198172923177481.0 1000000000000000000.0) ?x2222)) (* (/ 2910870686173439.0 12500000000000000.0) ?x2224))))',\n",
              " ' (let ((?x3526 (+ ?x1862 (/ 5028712749481201.0 50000000000000000.0))))',\n",
              " ' (let ((?x2904 (+ (+ (+ (* (/ 7055714726448059.0 250000000000000000.0) ?x2902) (* (/ 1326479434967041.0 4000000000000000.0) ?x2245)) (* (- (/ 6434759497642517.0 50000000000000000.0)) ?x2246)) (* (- (/ 7511007785797119.0 50000000000000000.0)) ?x2181))))',\n",
              " ' (let ((?x1951 (+ (+ (+ (+ ?x2904 (* (- (/ 2573264241218567.0 10000000000000000.0)) ?x2235)) (* (- (/ 2373461276292801.0 10000000000000000.0)) ?x2237)) (* (- (/ 8405900001525879.0 100000000000000000.0)) ?x2239)) (* (/ 16090434789657593.0 100000000000000000.0) ?x2241))))',\n",
              " ' (let ((?x2004 (+ (+ (+ (+ ?x1951 (* (/ 195695698261261.0 1000000000000000.0) ?x2243)) (* (/ 1745462417602539.0 12500000000000000.0) ?x2086)) (* (- (/ 23663772642612457.0 100000000000000000.0)) ?x2225)) (* (/ 2879524976015091.0 25000000000000000.0) ?x2227))))',\n",
              " ' (let ((?x2000 (+ (+ (+ (+ ?x2004 (* (/ 911015272140503.0 50000000000000000.0) ?x2229)) (* (- (/ 7838054746389389.0 25000000000000000.0)) ?x2231)) (* (- (/ 8971700072288513.0 50000000000000000.0)) ?x2233)) (* (- (/ 9433159232139587.0 100000000000000000.0)) ?x2066))))',\n",
              " ' (let ((?x1976 (+ (+ (+ (+ ?x2000 (* (- (/ 1297676682472229.0 4000000000000000.0)) ?x2067)) (* (- (/ 10883530974388123.0 100000000000000000.0)) ?x2220)) (* (/ 24459081888198853.0 100000000000000000.0) ?x2222)) (* (- (/ 86173415184021.0 781250000000000.0)) ?x2224))))',\n",
              " ' (let ((?x3528 (+ ?x1976 0.0)))',\n",
              " ' (let ((?x2093 (+ (+ (+ (* (/ 709946870803833.0 4000000000000000.0) ?x2902) (* (/ 5619237944483757.0 25000000000000000.0) ?x2245)) (* (- (/ 934950590133667.0 2000000000000000.0)) ?x2246)) (* (- (/ 2768043279647827.0 10000000000000000.0)) ?x2181))))',\n",
              " ' (let ((?x2069 (+ (+ (+ (+ ?x2093 (* (/ 1387509424239397.0 50000000000000000.0) ?x2235)) (* (- (/ 286429263651371.0 1250000000000000.0)) ?x2237)) (* (- (/ 3170899301767349.0 100000000000000000.0)) ?x2239)) (* (/ 17958885431289673.0 50000000000000000.0) ?x2241))))',\n",
              " ' (let ((?x2084 (+ (+ (+ (+ ?x2069 (* (- (/ 2529100701212883.0 100000000000000000.0)) ?x2243)) (* (- (/ 2292589470744133.0 12500000000000000.0)) ?x2086)) (* (/ 2632356584072113.0 20000000000000000.0) ?x2225)) (* (- (/ 10257109999656677.0 50000000000000000.0)) ?x2227))))',\n",
              " ' (let ((?x2021 (+ (+ (+ (+ ?x2084 (* (- (/ 9165763854980469.0 100000000000000000.0)) ?x2229)) (* (/ 1433174729347229.0 4000000000000000.0) ?x2231)) (* (- (/ 9074960947036743.0 10000000000000000.0)) ?x2233)) (* (/ 12385736405849457.0 50000000000000000.0) ?x2066))))',\n",
              " ' (let ((?x2026 (+ (+ (+ (+ ?x2021 (* (- (/ 516631007194519.0 2000000000000000.0)) ?x2067)) (* (/ 4388619065284729.0 20000000000000000.0) ?x2220)) (* (/ 992386694997549.0 12500000000000000.0) ?x2222)) (* (- (/ 7366878539323807.0 50000000000000000.0)) ?x2224))))',\n",
              " ' (let ((?x3521 (+ ?x2026 (/ 8048694580793381.0 100000000000000000.0))))',\n",
              " ' (let ((?x2139 (+ (+ (+ (* (/ 1714000478386879.0 12500000000000000.0) ?x2902) (* (/ 313355284743011.0 3125000000000000.0) ?x2245)) (* (- (/ 6723837852478027.0 10000000000000000.0)) ?x2246)) (* (/ 1924024373292923.0 10000000000000000.0) ?x2181))))',\n",
              " ' (let ((?x2132 (+ (+ (+ (+ ?x2139 (* (- (/ 692993625998497.0 5000000000000000.0)) ?x2235)) (* (/ 7662810683250427.0 10000000000000000.0) ?x2237)) (* (- (/ 1755283959209919.0 6250000000000000.0)) ?x2239)) (* (- (/ 2187313437461853.0 10000000000000000.0)) ?x2241))))',\n",
              " ' (let ((?x2119 (+ (+ (+ (+ ?x2132 (* (- (/ 45990297198295593.0 100000000000000000.0)) ?x2243)) (* (- (/ 24045775830745697.0 100000000000000000.0)) ?x2086)) (* (/ 19122007489204407.0 100000000000000000.0) ?x2225)) (* (- (/ 4777984693646431.0 50000000000000000.0)) ?x2227))))',\n",
              " ' (let ((?x2043 (+ (+ (+ (+ ?x2119 (* (- (/ 28725431766361.0 39062500000000.0)) ?x2229)) (* (/ 11293932795524597.0 50000000000000000.0) ?x2231)) (* (/ 19485974311828613.0 100000000000000000.0) ?x2233)) (* (/ 1932878941297531.0 5000000000000000.0) ?x2066))))',\n",
              " ' (let ((?x2051 (+ (+ (+ (+ ?x2043 (* (/ 264732301235199.0 1000000000000000.0) ?x2067)) (* (- (/ 3064432144165039.0 10000000000000000.0)) ?x2220)) (* (- (/ 1601245105266571.0 10000000000000000.0)) ?x2222)) (* (- (/ 4466438889503479.0 10000000000000000.0)) ?x2224))))',\n",
              " ' (let ((?x3519 (+ ?x2051 (- (/ 2970165340229869.0 500000000000000000.0)))))',\n",
              " ' (let ((?x2054 (+ (+ (+ (* (- (/ 4763854146003723.0 5000000000000000.0)) ?x2902) (* (/ 1089348316192627.0 2000000000000000.0) ?x2245)) (* (- (/ 1731225997209549.0 2500000000000000.0)) ?x2246)) (* (- (/ 8271152377128601.0 10000000000000000.0)) ?x2181))))',\n",
              " ' (let ((?x2914 (+ (+ (+ (+ ?x2054 (* (- (/ 365636870265007.0 625000000000000.0)) ?x2235)) (* (/ 39741402864456177.0 100000000000000000.0) ?x2237)) (* (- (/ 765388235449791.0 1250000000000000.0)) ?x2239)) (* (- (/ 1326683759689331.0 2500000000000000.0)) ?x2241))))',\n",
              " ' (let ((?x2182 (+ (+ (+ (+ ?x2914 (* (- (/ 171603262424469.0 250000000000000.0)) ?x2243)) (* (- (/ 12649214267730713.0 100000000000000000.0)) ?x2086)) (* (- (/ 433596707880497.0 1250000000000000.0)) ?x2225)) (* (- (/ 22866329550743103.0 100000000000000000.0)) ?x2227))))',\n",
              " ' (let ((?x2159 (+ (+ (+ (+ ?x2182 (* (- (/ 8603479266166687.0 10000000000000000.0)) ?x2229)) (* (/ 788455531001091.0 5000000000000000.0) ?x2231)) (* (/ 3772764503955841.0 5000000000000000.0) ?x2233)) (* (/ 11781439930200577.0 50000000000000000.0) ?x2066))))',\n",
              " ' (let ((?x2153 (+ (+ (+ (+ ?x2159 (* (- (/ 4410621225833893.0 10000000000000000.0)) ?x2067)) (* (- (/ 9670689105987549.0 10000000000000000.0)) ?x2220)) (* (- (/ 5347921252250671.0 10000000000000000.0)) ?x2222)) (* (- (/ 5959334969520569.0 10000000000000000.0)) ?x2224))))',\n",
              " ' (let ((?x3517 (+ ?x2153 (/ 2282915711402893.0 5000000000000000.0))))',\n",
              " ' (let ((?x3385 (+ (* (/ 979040339589119.0 1250000000000000.0) (ite (>= ?x3517 0.0) ?x3517 0.0)) (* (/ 7574973106384277.0 10000000000000000.0) (ite (>= ?x3519 0.0) ?x3519 0.0)))))',\n",
              " ' (let ((?x3391 (+ (+ ?x3385 (* (- (/ 5627413988113403.0 10000000000000000.0)) (ite (>= ?x3521 0.0) ?x3521 0.0))) (* (- (/ 115727623924613.0 312500000000000.0)) (ite (>= ?x3528 0.0) ?x3528 0.0)))))',\n",
              " ' (let ((?x3397 (+ (+ ?x3391 (* (- (/ 6589940190315247.0 10000000000000000.0)) (ite (>= ?x3526 0.0) ?x3526 0.0))) (* (/ 2456294596195221.0 2500000000000000.0) (ite (>= ?x3525 0.0) ?x3525 0.0)))))',\n",
              " ' (let ((?x3402 (+ (+ ?x3397 (* (/ 2588706910610199.0 10000000000000000.0) (ite (>= ?x3469 0.0) ?x3469 0.0))) (* (- (/ 1201120913028717.0 20000000000000000.0)) (ite (>= ?x3471 0.0) ?x3471 0.0)))))',\n",
              " ' (let ((?x3350 (+ (+ ?x3402 (* (- (/ 3559766411781311.0 10000000000000000.0)) (ite (>= ?x3473 0.0) ?x3473 0.0))) (* (/ 3376917541027069.0 10000000000000000.0) (ite (>= ?x3475 0.0) ?x3475 0.0)))))',\n",
              " ' (let ((?x3356 (+ (+ ?x3350 (* (/ 6511136889457703.0 10000000000000000.0) (ite (>= ?x3477 0.0) ?x3477 0.0))) (* (- (/ 14227569103240967.0 100000000000000000.0)) (ite (>= ?x3479 0.0) ?x3479 0.0)))))',\n",
              " ' (let ((?x3362 (+ (+ ?x3356 (* (/ 1017225980758667.0 1000000000000000.0) (ite (>= ?x3481 0.0) ?x3481 0.0))) (* (- (/ 7335571199655533.0 50000000000000000.0)) (ite (>= ?x3483 0.0) ?x3483 0.0)))))',\n",
              " ' (let ((?x3374 (+ (+ ?x3362 (* (- (/ 125184965133667.0 400000000000000.0)) (ite (>= ?x3485 0.0) ?x3485 0.0))) (* (- (/ 1278640627861023.0 5000000000000000.0)) (ite (>= ?x3487 0.0) ?x3487 0.0)))))',\n",
              " ' (let ((?x3315 (+ (+ ?x3374 (* (- (/ 1103250503540039.0 2000000000000000.0)) (ite (>= ?x3489 0.0) ?x3489 0.0))) (* (- (/ 8657752275466919.0 20000000000000000.0)) (ite (>= ?x3497 0.0) ?x3497 0.0)))))',\n",
              " ' (let ((?x3321 (+ (+ ?x3315 (* (/ 4166319966316223.0 10000000000000000.0) (ite (>= ?x3495 0.0) ?x3495 0.0))) (* (/ 1006889820098877.0 1000000000000000.0) (ite (>= ?x3494 0.0) ?x3494 0.0)))))',\n",
              " ' (let ((?x3327 (+ (+ ?x3321 (* (- (/ 1626342236995697.0 5000000000000000.0)) (ite (>= ?x3439 0.0) ?x3439 0.0))) (* (- (/ 1749424934387207.0 10000000000000000.0)) (ite (>= ?x3441 0.0) ?x3441 0.0)))))',\n",
              " ' (let ((?x3333 (+ (+ ?x3327 (* (- (/ 2625133693218231.0 5000000000000000.0)) (ite (>= ?x3443 0.0) ?x3443 0.0))) (* (- (/ 23927880823612213.0 50000000000000000.0)) (ite (>= ?x3445 0.0) ?x3445 0.0)))))',\n",
              " ' (let ((?x3344 (+ (+ ?x3333 (* (/ 838262289762497.0 1250000000000000.0) (ite (>= ?x3447 0.0) ?x3447 0.0))) (- (/ 6081594154238701.0 100000000000000000.0)))))',\n",
              " ' (let ((?x2885 (- ?x3344 ?x69)))',\n",
              " ' (>= (ite (<= ?x2885 0.0) (- ?x2885) ?x2885) (/ 1.0 2.0))))))))))))))))))))))))))))))))))))))))))))))))))))))))))))))))))))))))))))))))))))))))))))))))))))))))))))))))))))))))))))))))))))))))))))))))))))))))))))))))))))))))))))))))))))))))))))))))))))))))))))))))))))))))))))))))))))',\n",
              " '(check-sat)',\n",
              " '']"
            ]
          },
          "metadata": {},
          "execution_count": 69
        }
      ]
    },
    {
      "cell_type": "code",
      "source": [
        "len(x), len(xs), len(ys)"
      ],
      "metadata": {
        "colab": {
          "base_uri": "https://localhost:8080/"
        },
        "id": "ARFrJL_RLA6K",
        "outputId": "b006dab3-7af6-45ef-e321-e7c1705e8889"
      },
      "execution_count": 70,
      "outputs": [
        {
          "output_type": "execute_result",
          "data": {
            "text/plain": [
              "(1, 50, 50)"
            ]
          },
          "metadata": {},
          "execution_count": 70
        }
      ]
    },
    {
      "cell_type": "code",
      "source": [
        "refactor_steps(s.to_smt2().split(\"\\n\")[1:], \"-1 <= x[0], x[0] <= 1\")"
      ],
      "metadata": {
        "colab": {
          "base_uri": "https://localhost:8080/"
        },
        "id": "5OuTEKzOJJeF",
        "outputId": "73064faf-f5ed-4847-95f8-f54245749f04"
      },
      "execution_count": 71,
      "outputs": [
        {
          "output_type": "stream",
          "name": "stdout",
          "text": [
            "['(declare-fun x () Real)', '(assert', ' (>= x (- 1.0)))', '(assert', ' (<= x 1.0))', '(assert', ' (let ((?x69 (+ (- (* 8.0 (^ x 4.0)) (* 8.0 (^ x 2.0))) 1.0)))', ' (let ((?x1919 (* (/ 3558933138847351.0 10000000000000000.0) x)))', ' (let ((?x1947 (+ ?x1919 (/ 217914255335927.0 3125000000000000.0))))', ' (let ((?x2224 (ite (>= ?x1947 0.0) ?x1947 0.0)))', ' (let ((?x1921 (* (/ 1393773853778839.0 5000000000000000.0) x)))', ' (let ((?x2190 (+ ?x1921 (- (/ 1193377305753529.0 1000000000000000000.0)))))', ' (let ((?x2222 (ite (>= ?x2190 0.0) ?x2190 0.0)))', ' (let ((?x2248 (* (- (/ 7260363101959229.0 10000000000000000.0)) x)))', ' (let ((?x2188 (+ ?x2248 (- (/ 6936235725879669.0 100000000000000000.0)))))', ' (let ((?x2220 (ite (>= ?x2188 0.0) ?x2188 0.0)))', ' (let ((?x2257 (* (- (/ 37275436520576477.0 100000000000000000.0)) x)))', ' (let ((?x1989 (+ ?x2257 (- (/ 155645115301013.0 625000000000000.0)))))', ' (let ((?x2067 (ite (>= ?x1989 0.0) ?x1989 0.0)))', ' (let ((?x2255 (* (/ 4787672758102417.0 10000000000000000.0) x)))', ' (let ((?x2186 (+ ?x2255 (/ 2659638226032257.0 10000000000000000.0))))', ' (let ((?x2066 (ite (>= ?x2186 0.0) ?x2186 0.0)))', ' (let ((?x2253 (* (- (/ 542846143245697.0 1000000000000000.0)) x)))', ' (let ((?x1861 (+ ?x2253 (/ 8364047110080719.0 25000000000000000.0))))', ' (let ((?x2233 (ite (>= ?x1861 0.0) ?x1861 0.0)))', ' (let ((?x1927 (* (/ 972873792052269.0 2500000000000000.0) x)))', ' (let ((?x1983 (+ ?x1927 (/ 1679030179977417.0 4000000000000000.0))))', ' (let ((?x2231 (ite (>= ?x1983 0.0) ?x1983 0.0)))', ' (let ((?x2063 (* (/ 8002495169639587.0 10000000000000000.0) x)))', ' (let ((?x1981 (+ ?x2063 (- (/ 10975019633769989.0 50000000000000000.0)))))', ' (let ((?x2229 (ite (>= ?x1981 0.0) ?x1981 0.0)))', ' (let ((?x2252 (* (- (/ 1944227933883667.0 4000000000000000.0)) x)))', ' (let ((?x2192 (+ ?x2252 (/ 2750219590961933.0 50000000000000000.0))))', ' (let ((?x2227 (ite (>= ?x2192 0.0) ?x2192 0.0)))', ' (let ((?x1925 (* (- (/ 6697056293487549.0 10000000000000000.0)) x)))', ' (let ((?x2915 (+ ?x1925 (/ 5352228134870529.0 100000000000000000.0))))', ' (let ((?x2225 (ite (>= ?x2915 0.0) ?x2915 0.0)))', ' (let ((?x1945 (* (/ 39486604928970337.0 100000000000000000.0) x)))', ' (let ((?x2203 (+ ?x1945 (/ 7180449366569519.0 100000000000000000.0))))', ' (let ((?x2086 (ite (>= ?x2203 0.0) ?x2203 0.0)))', ' (let ((?x3369 (* (/ 439944863319397.0 1000000000000000.0) x)))', ' (let ((?x1888 (+ ?x3369 (- (/ 13403661549091339.0 500000000000000000.0)))))', ' (let ((?x2243 (ite (>= ?x1888 0.0) ?x1888 0.0)))', ' (let ((?x3523 (* (/ 3183300793170929.0 25000000000000000.0) x)))', ' (let ((?x2201 (+ ?x3523 (/ 29245059937238693.0 500000000000000000.0))))', ' (let ((?x2241 (ite (>= ?x2201 0.0) ?x2201 0.0)))', ' (let ((?x3616 (* (/ 3736991286277771.0 10000000000000000.0) x)))', ' (let ((?x2200 (+ ?x3616 (- (/ 8345687389373779.0 100000000000000000.0)))))', ' (let ((?x2239 (ite (>= ?x2200 0.0) ?x2200 0.0)))', ' (let ((?x3338 (* (/ 14429275691509247.0 50000000000000000.0) x)))', ' (let ((?x2198 (+ ?x3338 (/ 7013551890850067.0 50000000000000000.0))))', ' (let ((?x2237 (ite (>= ?x2198 0.0) ?x2198 0.0)))', ' (let ((?x3554 (* (/ 43114137649536133.0 100000000000000000.0) x)))', ' (let ((?x2196 (+ ?x3554 (/ 8451308310031891.0 100000000000000000.0))))', ' (let ((?x2235 (ite (>= ?x2196 0.0) ?x2196 0.0)))', ' (let ((?x3400 (* (- (/ 5119437575340271.0 10000000000000000.0)) x)))', ' (let ((?x2194 (+ ?x3400 (- (/ 111975590698421.0 781250000000000.0)))))', ' (let ((?x2181 (ite (>= ?x2194 0.0) ?x2194 0.0)))', ' (let ((?x1939 (* (/ 2788543403148651.0 5000000000000000.0) x)))', ' (let ((?x1903 (+ ?x1939 (- (/ 2765195965766907.0 10000000000000000.0)))))', ' (let ((?x2246 (ite (>= ?x1903 0.0) ?x1903 0.0)))', ' (let ((?x1931 (* (/ 16922958195209503.0 50000000000000000.0) x)))', ' (let ((?x1905 (+ ?x1931 (/ 33907952904701233.0 100000000000000000.0))))', ' (let ((?x2245 (ite (>= ?x1905 0.0) ?x1905 0.0)))', ' (let ((?x3023 (* (- (/ 7853483557701111.0 10000000000000000.0)) x)))', ' (let ((?x1898 (+ ?x3023 (- (/ 3660890832543373.0 25000000000000000.0)))))', ' (let ((?x2902 (ite (>= ?x1898 0.0) ?x1898 0.0)))', ' (let ((?x3591 (+ (+ (+ (* (/ 6490950584411621.0 20000000000000000.0) ?x2902) (* (- (/ 11484981775283813.0 10000000000000000.0)) ?x2245)) (* (/ 432949036359787.0 2000000000000000.0) ?x2246)) (* (/ 2137042135000229.0 5000000000000000.0) ?x2181))))', ' (let ((?x3538 (+ (+ (+ (+ ?x3591 (* (/ 20279349386692047.0 100000000000000000.0) ?x2235)) (* (/ 7484125904738903.0 125000000000000000.0) ?x2237)) (* (- (/ 656512975692749.0 2000000000000000.0)) ?x2239)) (* (/ 35232090950012207.0 100000000000000000.0) ?x2241))))', ' (let ((?x3550 (+ (+ (+ (+ ?x3538 (* (- (/ 4502696916460991.0 25000000000000000.0)) ?x2243)) (* (/ 2585888206958771.0 10000000000000000.0) ?x2086)) (* (- (/ 1300530582666397.0 20000000000000000.0)) ?x2225)) (* (/ 10739301890134811.0 100000000000000000.0) ?x2227))))', ' (let ((?x3503 (+ (+ (+ (+ ?x3550 (* (/ 2088082954287529.0 62500000000000000.0) ?x2229)) (* (- (/ 5916609168052673.0 10000000000000000.0)) ?x2231)) (* (/ 166585773229599.0 2000000000000000.0) ?x2233)) (* (- (/ 911765843629837.0 2500000000000000.0)) ?x2066))))', ' (let ((?x3515 (+ (+ (+ (+ ?x3503 (* (/ 6693723797798157.0 10000000000000000.0) ?x2067)) (* (/ 500806450843811.0 1000000000000000.0) ?x2220)) (* (/ 3278796076774597.0 10000000000000000.0) ?x2222)) (* (- (/ 4620474949479103.0 100000000000000000.0)) ?x2224))))', ' (let ((?x3447 (+ ?x3515 (- (/ 1148445725440979.0 4000000000000000.0)))))', ' (let ((?x3644 (+ (+ (+ (* (- (/ 6374373435974121.0 20000000000000000.0)) ?x2902) (* (/ 1253014151006937.0 25000000000000000.0) ?x2245)) (* (- (/ 48213276267051697.0 100000000000000000.0)) ?x2246)) (* (/ 68746417760849.0 1000000000000000.0) ?x2181))))', ' (let ((?x3597 (+ (+ (+ (+ ?x3644 (* (/ 2021939866244793.0 25000000000000000.0) ?x2235)) (* (- (/ 5437532439827919.0 25000000000000000.0)) ?x2237)) (* (- (/ 27810700237751007.0 500000000000000000.0)) ?x2239)) (* (- (/ 1850370615720749.0 20000000000000000.0)) ?x2241))))', ' (let ((?x3609 (+ (+ (+ (+ ?x3597 (* (- (/ 27990278601646423.0 100000000000000000.0)) ?x2243)) (* (/ 15677443146705627.0 100000000000000000.0) ?x2086)) (* (- (/ 46851029992103577.0 100000000000000000.0)) ?x2225)) (* (- (/ 1858506441116333.0 4000000000000000.0)) ?x2227))))', ' (let ((?x3562 (+ (+ (+ (+ ?x3609 (* (- (/ 3135654330253601.0 100000000000000000.0)) ?x2229)) (* (/ 323241651058197.0 1000000000000000.0) ?x2231)) (* (- (/ 12004425525665283.0 10000000000000000.0)) ?x2233)) (* (/ 8685227483510971.0 100000000000000000.0) ?x2066))))', ' (let ((?x3574 (+ (+ (+ (+ ?x3562 (* (/ 1366361677646637.0 5000000000000000.0) ?x2067)) (* (- (/ 6664232164621353.0 50000000000000000.0)) ?x2220)) (* (- (/ 7173111289739609.0 50000000000000000.0)) ?x2222)) (* (/ 16895201802253723.0 100000000000000000.0) ?x2224))))', ' (let ((?x3445 (+ ?x3574 (/ 1132169459015131.0 6250000000000000.0))))', ' (let ((?x3702 (+ (+ (+ (* (/ 3367544710636139.0 25000000000000000.0) ?x2902) (* (- (/ 16642186045646667.0 100000000000000000.0)) ?x2245)) (* (/ 19380898773670197.0 100000000000000000.0) ?x2246)) (* (- (/ 10544184595346451.0 100000000000000000.0)) ?x2181))))', ' (let ((?x3656 (+ (+ (+ (+ ?x3702 (* (/ 17101341485977173.0 50000000000000000.0) ?x2235)) (* (- (/ 34621.0 131072.0)) ?x2237)) (* (/ 1745205819606781.0 20000000000000000.0) ?x2239)) (* (- (/ 1306465119123459.0 5000000000000000.0)) ?x2241))))', ' (let ((?x3668 (+ (+ (+ (+ ?x3656 (* (/ 4191465675830841.0 50000000000000000.0) ?x2243)) (* (- (/ 20412231981754303.0 100000000000000000.0)) ?x2086)) (* (/ 5711982250213623.0 20000000000000000.0) ?x2225)) (* (- (/ 10087151825428009.0 100000000000000000.0)) ?x2227))))', ' (let ((?x3677 (+ (+ (+ (+ ?x3668 (* (- (/ 1044289767742157.0 5000000000000000.0)) ?x2229)) (* (- (/ 7338526099920273.0 100000000000000000.0)) ?x2231)) (* (/ 2189294844865799.0 10000000000000000.0) ?x2233)) (* (- (/ 11565888300538063.0 500000000000000000.0)) ?x2066))))', ' (let ((?x3633 (+ (+ (+ (+ ?x3677 (* (- (/ 1691160649061203.0 5000000000000000.0)) ?x2067)) (* (/ 3345218300819397.0 10000000000000000.0) ?x2220)) (* (/ 912120845168829.0 12500000000000000.0) ?x2222)) (* (/ 14855198562145233.0 50000000000000000.0) ?x2224))))', ' (let ((?x3443 (+ ?x3633 (/ 4937533289194107.0 25000000000000000.0))))', ' (let ((?x3758 (+ (+ (+ (* (/ 3315490111708641.0 25000000000000000.0) ?x2902) (* (- (/ 982823371887207.0 5000000000000000.0)) ?x2245)) (* (- (/ 11152978055179119.0 1000000000000000000.0)) ?x2246)) (* (- (/ 2661987841129303.0 20000000000000000.0)) ?x2181))))', ' (let ((?x3772 (+ (+ (+ (+ ?x3758 (* (/ 461212731897831.0 12500000000000000.0) ?x2235)) (* (/ 10312298685312271.0 50000000000000000.0) ?x2237)) (* (- (/ 892016664147377.0 3125000000000000.0)) ?x2239)) (* (/ 6624795794487.0 20000000000000.0) ?x2241))))', ' (let ((?x3724 (+ (+ (+ (+ ?x3772 (* (/ 290439635515213.0 1000000000000000.0) ?x2243)) (* (/ 7349240779876709.0 20000000000000000.0) ?x2086)) (* (- (/ 11770765297114849.0 250000000000000000.0)) ?x2225)) (* (/ 811629444360733.0 5000000000000000.0) ?x2227))))', ' (let ((?x3736 (+ (+ (+ (+ ?x3724 (* (- (/ 1906973272562027.0 10000000000000000.0)) ?x2229)) (* (/ 256328821182251.0 1000000000000000.0) ?x2231)) (* (- (/ 11309666633605957.0 10000000000000000.0)) ?x2233)) (* (- (/ 3834618330001831.0 20000000000000000.0)) ?x2066))))', ' (let ((?x3691 (+ (+ (+ (+ ?x3736 (* (- (/ 17236176133155823.0 50000000000000000.0)) ?x2067)) (* (/ 476810596883297.0 20000000000000000.0) ?x2220)) (* (/ 4098198190331459.0 25000000000000000.0) ?x2222)) (* (- (/ 623910017311573.0 5000000000000000.0)) ?x2224))))', ' (let ((?x3441 (+ ?x3691 (/ 1023978665471077.0 5000000000000000.0))))', ' (let ((?x3815 (+ (+ (+ (* (/ 11649657040834427.0 50000000000000000.0) ?x2902) (* (/ 4033733606338501.0 20000000000000000.0) ?x2245)) (* (/ 10112558305263519.0 100000000000000000.0) ?x2246)) (* (- (/ 12298600375652313.0 50000000000000000.0)) ?x2181))))', ' (let ((?x3827 (+ (+ (+ (+ ?x3815 (* (- (/ 8153877407312393.0 100000000000000000.0)) ?x2235)) (* (- (/ 3545457124710083.0 12500000000000000.0)) ?x2237)) (* (- (/ 4208052158355713.0 25000000000000000.0)) ?x2239)) (* (/ 12845093384385109.0 1000000000000000000.0) ?x2241))))', ' (let ((?x3781 (+ (+ (+ (+ ?x3827 (* (- (/ 2529790811240673.0 25000000000000000.0)) ?x2243)) (* (/ 25735530257225037.0 100000000000000000.0) ?x2086)) (* (/ 17095470428466797.0 50000000000000000.0) ?x2225)) (* (/ 3558730185031891.0 10000000000000000.0) ?x2227))))', ' (let ((?x3793 (+ (+ (+ (+ ?x3781 (* (/ 3973483294248581.0 100000000000000000.0) ?x2229)) (* (/ 4033263623714447.0 20000000000000000.0) ?x2231)) (* (/ 17017762362957.0 50000000000000.0) ?x2233)) (* (- (/ 91930590569973.0 312500000000000.0)) ?x2066))))', ' (let ((?x3747 (+ (+ (+ (+ ?x3793 (* (- (/ 15677283704280853.0 100000000000000000.0)) ?x2067)) (* (- (/ 13404744677245617.0 2000000000000000000.0)) ?x2220)) (* (/ 10079222172498703.0 50000000000000000.0) ?x2222)) (* (/ 15841449797153473.0 50000000000000000.0) ?x2224))))', ' (let ((?x3439 (+ ?x3747 (/ 12492872774600983.0 100000000000000000.0))))', ' (let ((?x3874 (+ (+ (+ (* (/ 2861718535423279.0 5000000000000000.0) ?x2902) (* (- (/ 1527404546737671.0 1000000000000000.0)) ?x2245)) (* (/ 18070071935653687.0 100000000000000000.0) ?x2246)) (* (/ 5739007517695427.0 25000000000000000.0) ?x2181))))', ' (let ((?x3886 (+ (+ (+ (+ ?x3874 (* (- (/ 2287791483104229.0 12500000000000000.0)) ?x2235)) (* (- (/ 4884472191333771.0 10000000000000000.0)) ?x2237)) (* (/ 2824791520833969.0 25000000000000000.0) ?x2239)) (* (- (/ 2490759938955307.0 10000000000000000.0)) ?x2241))))', ' (let ((?x3839 (+ (+ (+ (+ ?x3886 (* (/ 787574052810669.0 25000000000000000.0) ?x2243)) (* (- (/ 5059957504272461.0 20000000000000000.0)) ?x2086)) (* (/ 892045870423317.0 2500000000000000.0) ?x2225)) (* (- (/ 4307548701763153.0 25000000000000000.0)) ?x2227))))', ' (let ((?x3851 (+ (+ (+ (+ ?x3839 (* (/ 6979739665985107.0 100000000000000000.0) ?x2229)) (* (- (/ 5009177327156067.0 5000000000000000.0)) ?x2231)) (* (/ 3112586447969079.0 125000000000000000.0) ?x2233)) (* (/ 2005808986723423.0 25000000000000000.0) ?x2066))))', ' (let ((?x3860 (+ (+ (+ (+ ?x3851 (* (/ 3132389783859253.0 20000000000000000.0) ?x2067)) (* (/ 3376404643058777.0 10000000000000000.0) ?x2220)) (* (/ 895330160856247.0 2500000000000000.0) ?x2222)) (* (/ 3894461691379547.0 25000000000000000.0) ?x2224))))', ' (let ((?x3494 (+ ?x3860 (- (/ 2719641923904419.0 10000000000000000.0)))))', ' (let ((?x3048 (+ (+ (+ (* (/ 11259627342224121.0 50000000000000000.0) ?x2902) (* (/ 27667930722236633.0 100000000000000000.0) ?x2245)) (* (/ 7555762529373169.0 20000000000000000.0) ?x2246)) (* (/ 1499509960412979.0 5000000000000000.0) ?x2181))))', ' (let ((?x3586 (+ (+ (+ (+ ?x3048 (* (/ 4284186288714409.0 50000000000000000.0) ?x2235)) (* (/ 1755029708147049.0 10000000000000000.0) ?x2237)) (* (/ 8673068881034851.0 25000000000000000.0) ?x2239)) (* (/ 1248610258102417.0 4000000000000000.0) ?x2241))))', ' (let ((?x3215 (+ (+ (+ (+ ?x3586 (* (- (/ 9572858363389969.0 100000000000000000.0)) ?x2243)) (* (/ 175120010972023.0 5000000000000000.0) ?x2086)) (* (- (/ 1508675366640091.0 10000000000000000.0)) ?x2225)) (* (- (/ 2040189802646637.0 10000000000000000.0)) ?x2227))))', ' (let ((?x3910 (+ (+ (+ (+ ?x3215 (* (/ 796569436788559.0 5000000000000000.0) ?x2229)) (* (/ 780827971175313.0 3125000000000000.0) ?x2231)) (* (/ 3237423300743103.0 10000000000000000.0) ?x2233)) (* (/ 5378827452659607.0 25000000000000000.0) ?x2066))))', ' (let ((?x3928 (+ (+ (+ (+ ?x3910 (* (/ 8689815551042557.0 50000000000000000.0) ?x2067)) (* (/ 2902798168361187.0 25000000000000000.0) ?x2220)) (* (- (/ 5625259503722191.0 100000000000000000.0)) ?x2222)) (* (- (/ 233804015442729.0 1562500000000000.0)) ?x2224))))', ' (let ((?x3495 (+ ?x3928 (- (/ 8059674501419067.0 100000000000000000.0)))))', ' (let ((?x2975 (+ (+ (+ (* (- (/ 42707.0 131072.0)) ?x2902) (* (/ 15388181805610657.0 100000000000000000.0) ?x2245)) (* (- (/ 47276774048805237.0 100000000000000000.0)) ?x2246)) (* (/ 16744953393936157.0 50000000000000000.0) ?x2181))))', ' (let ((?x52 (+ (+ (+ (+ ?x2975 (* (/ 3280549943447113.0 20000000000000000.0) ?x2235)) (* (/ 14369896054267883.0 100000000000000000.0) ?x2237)) (* (/ 20743395388126373.0 100000000000000000.0) ?x2239)) (* (/ 8754546195268631.0 25000000000000000.0) ?x2241))))', ' (let ((?x3017 (+ (+ (+ (+ ?x52 (* (/ 281877338886261.0 2000000000000000.0) ?x2243)) (* (/ 762045606970787.0 10000000000000000.0) ?x2086)) (* (- (/ 1532014012336731.0 10000000000000000.0)) ?x2225)) (* (- (/ 1186936441808939.0 6250000000000000.0)) ?x2227))))', ' (let ((?x3053 (+ (+ (+ (+ ?x3017 (* (- (/ 1764993965625763.0 10000000000000000.0)) ?x2229)) (* (/ 11380395293235779.0 100000000000000000.0) ?x2231)) (* (- (/ 3413432836532593.0 5000000000000000.0)) ?x2233)) (* (/ 13850007951259613.0 100000000000000000.0) ?x2066))))', ' (let ((?x3117 (+ (+ (+ (+ ?x3053 (* (/ 6979343295097351.0 50000000000000000.0) ?x2067)) (* (/ 6909996271133423.0 100000000000000000.0) ?x2220)) (* (- (/ 11723941564559937.0 100000000000000000.0)) ?x2222)) (* (- (/ 481385737657547.0 2500000000000000.0)) ?x2224))))', ' (let ((?x3497 (+ ?x3117 (/ 812307745218277.0 12500000000000000.0))))', ' (let ((?x2273 (+ (+ (+ (* (- (/ 15876835584640503.0 50000000000000000.0)) ?x2902) (* (- (/ 17557424306869507.0 100000000000000000.0)) ?x2245)) (* (- (/ 1655706912279129.0 5000000000000000.0)) ?x2246)) (* (/ 3222910165786743.0 10000000000000000.0) ?x2181))))', ' (let ((?x2774 (+ (+ (+ (+ ?x2273 (* (/ 14402860403060913.0 50000000000000000.0) ?x2235)) (* (/ 1471090018749237.0 5000000000000000.0) ?x2237)) (* (/ 2129817195236683.0 25000000000000000.0) ?x2239)) (* (/ 2469044178724289.0 10000000000000000.0) ?x2241))))', ' (let ((?x2982 (+ (+ (+ (+ ?x2774 (* (/ 327804833650589.0 1250000000000000.0) ?x2243)) (* (- (/ 562317855656147.0 2500000000000000.0)) ?x2086)) (* (- (/ 10152003914117813.0 50000000000000000.0)) ?x2225)) (* (/ 8862441778182983.0 100000000000000000.0) ?x2227))))', ' (let ((?x2952 (+ (+ (+ (+ ?x2982 (* (/ 1132301390171051.0 5000000000000000.0) ?x2229)) (* (- (/ 554594025015831.0 2500000000000000.0)) ?x2231)) (* (- (/ 5927954912185669.0 5000000000000000.0)) ?x2233)) (* (/ 3958911597728729.0 10000000000000000.0) ?x2066))))', ' (let ((?x2964 (+ (+ (+ (+ ?x2952 (* (- (/ 298522412776947.0 2000000000000000.0)) ?x2067)) (* (/ 850708968937397.0 3125000000000000.0) ?x2220)) (* (/ 12304653413593769.0 250000000000000000.0) ?x2222)) (* (/ 3483249619603157.0 12500000000000000.0) ?x2224))))', ' (let ((?x3489 (+ ?x2964 (/ 3507876992225647.0 20000000000000000.0))))', ' (let ((?x2841 (+ (+ (+ (* (/ 1565621793270111.0 10000000000000000.0) ?x2902) (* (/ 183323435485363.0 625000000000000.0) ?x2245)) (* (- (/ 979810431599617.0 2500000000000000.0)) ?x2246)) (* (/ 76285719871521.0 250000000000000.0) ?x2181))))', ' (let ((?x2853 (+ (+ (+ (+ ?x2841 (* (- (/ 24672186374664307.0 100000000000000000.0)) ?x2235)) (* (- (/ 19832316040992737.0 50000000000000000.0)) ?x2237)) (* (- (/ 7778730243444443.0 100000000000000000.0)) ?x2239)) (* (- (/ 111783467233181.0 500000000000000.0)) ?x2241))))', ' (let ((?x2864 (+ (+ (+ (+ ?x2853 (* (- (/ 10618932545185089.0 50000000000000000.0)) ?x2243)) (* (/ 1834641695022583.0 5000000000000000.0) ?x2086)) (* (- (/ 8082462847232819.0 100000000000000000.0)) ?x2225)) (* (/ 44427958130836487.0 100000000000000000.0) ?x2227))))', ' (let ((?x2876 (+ (+ (+ (+ ?x2864 (* (/ 407538115978241.0 2500000000000000.0) ?x2229)) (* (/ 3908052109181881.0 250000000000000000.0) ?x2231)) (* (/ 619749091565609.0 2500000000000000.0) ?x2233)) (* (- (/ 1291811466217041.0 4000000000000000.0)) ?x2066))))', ' (let ((?x2988 (+ (+ (+ (+ ?x2876 (* (/ 12192046269774437.0 1000000000000000000.0) ?x2067)) (* (/ 170754361897707.0 40000000000000000.0) ?x2220)) (* (/ 349377803504467.0 1250000000000000.0) ?x2222)) (* (/ 6803969144821167.0 20000000000000000.0) ?x2224))))', ' (let ((?x3487 (+ ?x2988 (/ 9638316184282303.0 50000000000000000.0))))', ' (let ((?x2784 (+ (+ (+ (* (/ 16358287632465363.0 100000000000000000.0) ?x2902) (* (/ 7811239361763.0 50000000000000.0) ?x2245)) (* (- (/ 394677072763443.0 2500000000000000.0)) ?x2246)) (* (/ 3133895993232727.0 20000000000000000.0) ?x2181))))', ' (let ((?x2796 (+ (+ (+ (+ ?x2784 (* (- (/ 1001957687549293.0 125000000000000000.0)) ?x2235)) (* (/ 13799314200878143.0 100000000000000000.0) ?x2237)) (* (- (/ 4123091325163841.0 50000000000000000.0)) ?x2239)) (* (/ 13526244461536407.0 100000000000000000.0) ?x2241))))', ' (let ((?x2807 (+ (+ (+ (+ ?x2796 (* (/ 14547164738178253.0 50000000000000000.0) ?x2243)) (* (/ 2290859967470169.0 20000000000000000.0) ?x2086)) (* (/ 2162323296070099.0 5000000000000000.0) ?x2225)) (* (- (/ 642005130648613.0 5000000000000000.0)) ?x2227))))', ' (let ((?x2819 (+ (+ (+ (+ ?x2807 (* (/ 8798312395811081.0 50000000000000000.0) ?x2229)) (* (- (/ 9998980909585953.0 50000000000000000.0)) ?x2231)) (* (/ 3886310011148453.0 100000000000000000.0) ?x2233)) (* (/ 3043578565120697.0 10000000000000000.0) ?x2066))))', ' (let ((?x2830 (+ (+ (+ (+ ?x2819 (* (- (/ 14009973406791687.0 50000000000000000.0)) ?x2067)) (* (/ 6160726547241211.0 20000000000000000.0) ?x2220)) (* (/ 35641707945615053.0 10000000000000000000.0) ?x2222)) (* (/ 2449551671743393.0 10000000000000000.0) ?x2224))))', ' (let ((?x3485 (+ ?x2830 (/ 1628081202507019.0 20000000000000000.0))))', ' (let ((?x2750 (+ (+ (+ (* (/ 25989562273025513.0 1000000000000000000.0) ?x2902) (* (/ 3422432541847229.0 10000000000000000.0) ?x2245)) (* (/ 3822023868560791.0 20000000000000000.0) ?x2246)) (* (- (/ 316491037607193.0 2000000000000000.0)) ?x2181))))', ' (let ((?x2697 (+ (+ (+ (+ ?x2750 (* (/ 21862786263227463.0 500000000000000000.0) ?x2235)) (* (/ 18502177298069.0 200000000000000.0) ?x2237)) (* (/ 1727544218301773.0 20000000000000000.0) ?x2239)) (* (/ 29820573329925537.0 100000000000000000.0) ?x2241))))', ' (let ((?x2710 (+ (+ (+ (+ ?x2697 (* (- (/ 3675854802131653.0 10000000000000000.0)) ?x2243)) (* (- (/ 13637658953666687.0 50000000000000000.0)) ?x2086)) (* (/ 1018863394856453.0 10000000000000000.0) ?x2225)) (* (- (/ 2132958024740219.0 5000000000000000.0)) ?x2227))))', ' (let ((?x2762 (+ (+ (+ (+ ?x2710 (* (- (/ 512326555326581.0 6250000000000000.0)) ?x2229)) (* (/ 13702303171157837.0 50000000000000000.0) ?x2231)) (* (- (/ 6208881735801697.0 5000000000000000.0)) ?x2233)) (* (- (/ 619775652885437.0 10000000000000000.0)) ?x2066))))', ' (let ((?x2776 (+ (+ (+ (+ ?x2762 (* (/ 3604776859283447.0 10000000000000000.0) ?x2067)) (* (- (/ 26182112097740173.0 100000000000000000.0)) ?x2220)) (* (/ 537275493144989.0 2000000000000000.0) ?x2222)) (* (/ 615673840045929.0 2000000000000000.0) ?x2224))))', ' (let ((?x3483 (+ ?x2776 (/ 795257743448019.0 6250000000000000.0))))', ' (let ((?x2627 (+ (+ (+ (* (- (/ 10433386266231537.0 50000000000000000.0)) ?x2902) (* (- (/ 8198796957731247.0 50000000000000000.0)) ?x2245)) (* (/ 136172616481781.0 200000000000000.0) ?x2246)) (* (/ 358940027654171.0 1250000000000000.0) ?x2181))))', ' (let ((?x2639 (+ (+ (+ (+ ?x2627 (* (/ 240525733679533.0 20000000000000000.0) ?x2235)) (* (/ 24537715315818787.0 100000000000000000.0) ?x2237)) (* (/ 5279795527458191.0 10000000000000000.0) ?x2239)) (* (- (/ 4484381377696991.0 20000000000000000.0)) ?x2241))))', ' (let ((?x2715 (+ (+ (+ (+ ?x2639 (* (/ 4540601745247841.0 25000000000000000.0) ?x2243)) (* (- (/ 938001424074173.0 10000000000000000.0)) ?x2086)) (* (- (/ 9971015155315399.0 100000000000000000.0)) ?x2225)) (* (- (/ 361776128411293.0 2500000000000000.0)) ?x2227))))', ' (let ((?x2727 (+ (+ (+ (+ ?x2715 (* (/ 705964982509613.0 2000000000000000.0) ?x2229)) (* (- (/ 6587004661560059.0 100000000000000000.0)) ?x2231)) (* (- (/ 32438337802886963.0 100000000000000000.0)) ?x2233)) (* (/ 22733253240585327.0 100000000000000000.0) ?x2066))))', ' (let ((?x2739 (+ (+ (+ (+ ?x2727 (* (/ 5613207221031189.0 20000000000000000.0) ?x2067)) (* (/ 15216106176376343.0 50000000000000000.0) ?x2220)) (* (/ 19018150866031647.0 100000000000000000.0) ?x2222)) (* (- (/ 1818472445011139.0 10000000000000000.0)) ?x2224))))', ' (let ((?x3481 (+ ?x2739 (- (/ 2603330910205841.0 10000000000000000.0)))))', ' (let ((?x2611 (+ (+ (+ (* (- (/ 8297053724527359.0 25000000000000000.0)) ?x2902) (* (/ 3515375405550003.0 12500000000000000.0) ?x2245)) (* (- (/ 3245285153388977.0 10000000000000000.0)) ?x2246)) (* (- (/ 2829098403453827.0 10000000000000000.0)) ?x2181))))', ' (let ((?x2936 (+ (+ (+ (+ ?x2611 (* (- (/ 92887282371521.0 400000000000000.0)) ?x2235)) (* (- (/ 1539437286555767.0 12500000000000000.0)) ?x2237)) (* (/ 204346664249897.0 2500000000000000.0) ?x2239)) (* (/ 5082816481590271.0 20000000000000000.0) ?x2241))))', ' (let ((?x2655 (+ (+ (+ (+ ?x2936 (* (/ 426333025097847.0 1250000000000000.0) ?x2243)) (* (/ 956122949719429.0 10000000000000000.0) ?x2086)) (* (- (/ 830419659614563.0 2500000000000000.0)) ?x2225)) (* (/ 10360599309206009.0 200000000000000000.0) ?x2227))))', ' (let ((?x2667 (+ (+ (+ (+ ?x2655 (* (- (/ 15345577895641327.0 50000000000000000.0)) ?x2229)) (* (- (/ 1196339949965477.0 20000000000000000.0)) ?x2231)) (* (/ 1828446239233017.0 25000000000000000.0) ?x2233)) (* (- (/ 7192167043685913.0 20000000000000000.0)) ?x2066))))', ' (let ((?x2679 (+ (+ (+ (+ ?x2667 (* (/ 15880037099123.0 125000000000000.0) ?x2067)) (* (/ 432009220123291.0 2000000000000000.0) ?x2220)) (* (- (/ 650980994105339.0 5000000000000000.0)) ?x2222)) (* (/ 53815683349967.0 156250000000000.0) ?x2224))))', ' (let ((?x3479 (+ ?x2679 (- (/ 3109855204820633.0 200000000000000000.0)))))', ' (let ((?x2554 (+ (+ (+ (* (- (/ 2908864915370941.0 5000000000000000.0)) ?x2902) (* (/ 8543635606765747.0 20000000000000000.0) ?x2245)) (* (- (/ 115036906208843.0 25000000000000000.0)) ?x2246)) (* (- (/ 7242065668106079.0 25000000000000000.0)) ?x2181))))', ' (let ((?x2566 (+ (+ (+ (+ ?x2554 (* (/ 560958981513977.0 2000000000000000.0) ?x2235)) (* (/ 176860298961401.0 625000000000000.0) ?x2237)) (* (- (/ 124265868216753.0 1250000000000000.0)) ?x2239)) (* (- (/ 1301620602607727.0 5000000000000000.0)) ?x2241))))', ' (let ((?x2577 (+ (+ (+ (+ ?x2566 (* (/ 868531409651041.0 12500000000000000.0) ?x2243)) (* (/ 11784419417381287.0 100000000000000000.0) ?x2086)) (* (- (/ 938393846154213.0 5000000000000000.0)) ?x2225)) (* (- (/ 165016508102417.0 400000000000000.0)) ?x2227))))', ' (let ((?x2589 (+ (+ (+ (+ ?x2577 (* (/ 613671064376831.0 2000000000000000.0) ?x2229)) (* (- (/ 1031753420829773.0 12500000000000000.0)) ?x2231)) (* (/ 6440790295600891.0 10000000000000000.0) ?x2233)) (* (/ 1730780154466629.0 20000000000000000.0) ?x2066))))', ' (let ((?x2600 (+ (+ (+ (+ ?x2589 (* (- (/ 3513853996992111.0 50000000000000000.0)) ?x2067)) (* (- (/ 36889705061912537.0 100000000000000000.0)) ?x2220)) (* (/ 8298937976360321.0 25000000000000000.0) ?x2222)) (* (/ 5461636558175087.0 25000000000000000.0) ?x2224))))', ' (let ((?x3477 (+ ?x2600 (/ 2720276638865471.0 25000000000000000.0))))', ' (let ((?x2519 (+ (+ (+ (* (/ 11503385379910469.0 250000000000000000.0) ?x2902) (* (/ 4141232967376709.0 10000000000000000.0) ?x2245)) (* (/ 12056639045476913.0 100000000000000000.0) ?x2246)) (* (/ 13904745876789093.0 100000000000000000.0) ?x2181))))', ' (let ((?x2531 (+ (+ (+ (+ ?x2519 (* (/ 6838579475879669.0 50000000000000000.0) ?x2235)) (* (/ 4933745265007019.0 10000000000000000.0) ?x2237)) (* (- (/ 3054174967110157.0 12500000000000000.0)) ?x2239)) (* (- (/ 4764406755566597.0 25000000000000000.0)) ?x2241))))', ' (let ((?x2543 (+ (+ (+ (+ ?x2531 (* (/ 8571227639913559.0 25000000000000000.0) ?x2243)) (* (- (/ 992899164557457.0 5000000000000000.0)) ?x2086)) (* (/ 3813725709915161.0 100000000000000000.0) ?x2225)) (* (- (/ 4610282778739929.0 10000000000000000.0)) ?x2227))))', ' (let ((?x2490 (+ (+ (+ (+ ?x2543 (* (- (/ 2228856235742569.0 20000000000000000.0)) ?x2229)) (* (/ 8663284033536911.0 25000000000000000.0) ?x2231)) (* (/ 6838802248239517.0 50000000000000000.0) ?x2233)) (* (/ 32501527667045593.0 100000000000000000.0) ?x2066))))', ' (let ((?x2502 (+ (+ (+ (+ ?x2490 (* (/ 5437628924846649.0 50000000000000000.0) ?x2067)) (* (- (/ 9851919114589691.0 50000000000000000.0)) ?x2220)) (* (- (/ 1292509138584137.0 10000000000000000.0)) ?x2222)) (* (/ 7764753699302673.0 100000000000000000.0) ?x2224))))', ' (let ((?x3475 (+ ?x2502 (- (/ 1300223870202899.0 62500000000000000.0)))))', ' (let ((?x2461 (+ (+ (+ (* (/ 3144223615527153.0 12500000000000000.0) ?x2902) (* (- (/ 689854696393013.0 5000000000000000.0)) ?x2245)) (* (- (/ 20388194918632507.0 100000000000000000.0)) ?x2246)) (* (/ 33153384923934937.0 100000000000000000.0) ?x2181))))', ' (let ((?x2473 (+ (+ (+ (+ ?x2461 (* (/ 8963713049888611.0 50000000000000000.0) ?x2235)) (* (/ 10076005011796951.0 100000000000000000.0) ?x2237)) (* (- (/ 35492023825645447.0 100000000000000000.0)) ?x2239)) (* (/ 16682489216327667.0 50000000000000000.0) ?x2241))))', ' (let ((?x2420 (+ (+ (+ (+ ?x2473 (* (/ 2016032487154007.0 12500000000000000.0) ?x2243)) (* (/ 9724626690149307.0 100000000000000000.0) ?x2086)) (* (/ 22257964313030243.0 50000000000000000.0) ?x2225)) (* (/ 6810498982667923.0 100000000000000000.0) ?x2227))))', ' (let ((?x2432 (+ (+ (+ (+ ?x2420 (* (- (/ 9970609098672867.0 50000000000000000.0)) ?x2229)) (* (/ 759991928935051.0 2500000000000000.0) ?x2231)) (* (/ 2579682171344757.0 10000000000000000.0) ?x2233)) (* (- (/ 1686321347951889.0 20000000000000000.0)) ?x2066))))', ' (let ((?x2506 (+ (+ (+ (+ ?x2432 (* (- (/ 274624764919281.0 2000000000000000.0)) ?x2067)) (* (- (/ 267898291349411.0 1000000000000000.0)) ?x2220)) (* (/ 39319540373981.0 312500000000000.0) ?x2222)) (* (- (/ 8656991273164749.0 50000000000000000.0)) ?x2224))))', ' (let ((?x3473 (+ ?x2506 (/ 5414101481437683.0 50000000000000000.0))))', ' (let ((?x2381 (+ (+ (+ (* (- (/ 5158408358693123.0 50000000000000000.0)) ?x2902) (* (- (/ 1480492576956749.0 25000000000000000.0)) ?x2245)) (* (- (/ 1411401629447937.0 5000000000000000.0)) ?x2246)) (* (/ 599124887958169.0 6250000000000000.0) ?x2181))))', ' (let ((?x2392 (+ (+ (+ (+ ?x2381 (* (/ 22176212072372437.0 100000000000000000.0) ?x2235)) (* (/ 3669997677206993.0 25000000000000000.0) ?x2237)) (* (/ 5420985221862793.0 20000000000000000.0) ?x2239)) (* (/ 788692831993103.0 2500000000000000.0) ?x2241))))', ' (let ((?x2404 (+ (+ (+ (+ ?x2392 (* (/ 2616793215274811.0 10000000000000000.0) ?x2243)) (* (- (/ 166540015488863.0 625000000000000.0)) ?x2086)) (* (- (/ 214622113853693.0 1250000000000000.0)) ?x2225)) (* (/ 18319888412952423.0 100000000000000000.0) ?x2227))))', ' (let ((?x2925 (+ (+ (+ (+ ?x2404 (* (/ 3331873193383217.0 50000000000000000.0) ?x2229)) (* (- (/ 127776013687253.0 1562500000000000.0)) ?x2231)) (* (- (/ 7552139759063721.0 10000000000000000.0)) ?x2233)) (* (/ 20305506885051727.0 100000000000000000.0) ?x2066))))', ' (let ((?x2450 (+ (+ (+ (+ ?x2925 (* (/ 1727299578487873.0 100000000000000000.0) ?x2067)) (* (- (/ 3956209421157837.0 20000000000000000.0)) ?x2220)) (* (/ 1811773031949997.0 10000000000000000.0) ?x2222)) (* (/ 1429462106898427.0 31250000000000000.0) ?x2224))))', ' (let ((?x3471 (+ ?x2450 (/ 1635574921965599.0 12500000000000000.0))))', ' (let ((?x2282 (+ (+ (+ (* (- (/ 13927310705184937.0 100000000000000000.0)) ?x2902) (* (/ 1389414370059967.0 20000000000000000.0) ?x2245)) (* (/ 190519317984581.0 1000000000000000.0) ?x2246)) (* (/ 18404465913772583.0 100000000000000000.0) ?x2181))))', ' (let ((?x2294 (+ (+ (+ (+ ?x2282 (* (/ 3899824321269989.0 20000000000000000.0) ?x2235)) (* (- (/ 9375123679637909.0 25000000000000000.0)) ?x2237)) (* (/ 1600639969110489.0 5000000000000000.0) ?x2239)) (* (/ 2636255919933319.0 20000000000000000.0) ?x2241))))', ' (let ((?x2347 (+ (+ (+ (+ ?x2294 (* (- (/ 34696856141090393.0 100000000000000000.0)) ?x2243)) (* (- (/ 1570698320865631.0 5000000000000000.0)) ?x2086)) (* (- (/ 13826784491539001.0 100000000000000000.0)) ?x2225)) (* (- (/ 917370617389679.0 50000000000000000.0)) ?x2227))))', ' (let ((?x2361 (+ (+ (+ (+ ?x2347 (* (- (/ 17483134288340807.0 5000000000000000000.0)) ?x2229)) (* (- (/ 10650095343589783.0 100000000000000000.0)) ?x2231)) (* (/ 10678553581237793.0 200000000000000000.0) ?x2233)) (* (- (/ 322842538356781.0 2000000000000000.0)) ?x2066))))', ' (let ((?x2370 (+ (+ (+ (+ ?x2361 (* (/ 1772981882095337.0 5000000000000000.0) ?x2067)) (* (- (/ 2494092583656311.0 10000000000000000.0)) ?x2220)) (* (/ 340994268655777.0 1000000000000000.0) ?x2222)) (* (- (/ 4660040885210037.0 100000000000000000.0)) ?x2224))))', ' (let ((?x3469 (+ ?x2370 (- (/ 3409301396459341.0 500000000000000000.0)))))', ' (let ((?x2262 (+ (+ (+ (* (/ 515059195458889.0 1562500000000000.0) ?x2902) (* (- (/ 3902604877948761.0 5000000000000000.0)) ?x2245)) (* (/ 205342099070549.0 625000000000000.0) ?x2246)) (* (- (/ 591932088136673.0 5000000000000000.0)) ?x2181))))', ' (let ((?x2298 (+ (+ (+ (+ ?x2262 (* (- (/ 12802639603614807.0 100000000000000000.0)) ?x2235)) (* (- (/ 1963919699192047.0 10000000000000000.0)) ?x2237)) (* (/ 2010643668472767.0 100000000000000000.0) ?x2239)) (* (- (/ 2079395018517971.0 25000000000000000.0)) ?x2241))))', ' (let ((?x2310 (+ (+ (+ (+ ?x2298 (* (- (/ 19686155021190643.0 100000000000000000.0)) ?x2243)) (* (- (/ 2973649203777313.0 10000000000000000.0)) ?x2086)) (* (/ 19224652647972107.0 50000000000000000.0) ?x2225)) (* (/ 5604134127497673.0 25000000000000000.0) ?x2227))))', ' (let ((?x2322 (+ (+ (+ (+ ?x2310 (* (/ 92474902048707.0 312500000000000.0) ?x2229)) (* (- (/ 4275326058268547.0 12500000000000000.0)) ?x2231)) (* (- (/ 8631631731987.0 25000000000000.0)) ?x2233)) (* (- (/ 1453262404538691.0 250000000000000000.0)) ?x2066))))', ' (let ((?x2334 (+ (+ (+ (+ ?x2322 (* (/ 1111895203590393.0 2000000000000000.0) ?x2067)) (* (/ 2993190661072731.0 6250000000000000.0) ?x2220)) (* (/ 3304291069507599.0 10000000000000000.0) ?x2222)) (* (/ 3437429964542389.0 20000000000000000.0) ?x2224))))', ' (let ((?x3525 (+ ?x2334 (- (/ 5315239354968071.0 25000000000000000.0)))))', ' (let ((?x1932 (+ (+ (+ (* (- (/ 157401442527771.0 4000000000000000.0)) ?x2902) (* (/ 5605500340461731.0 20000000000000000.0) ?x2245)) (* (- (/ 8882245421409607.0 20000000000000000.0)) ?x2246)) (* (- (/ 2870527096092701.0 12500000000000000.0)) ?x2181))))', ' (let ((?x1911 (+ (+ (+ (+ ?x1932 (* (/ 901087187230587.0 6250000000000000.0) ?x2235)) (* (/ 733078122138977.0 20000000000000000.0) ?x2237)) (* (/ 7829955220222473.0 50000000000000000.0) ?x2239)) (* (- (/ 12373320013284683.0 100000000000000000.0)) ?x2241))))', ' (let ((?x1890 (+ (+ (+ (+ ?x1911 (* (/ 1024462515488267.0 125000000000000000.0) ?x2243)) (* (/ 4123862087726593.0 20000000000000000.0) ?x2086)) (* (- (/ 4062579274177551.0 10000000000000000.0)) ?x2225)) (* (/ 1781654916703701.0 12500000000000000.0) ?x2227))))', ' (let ((?x1886 (+ (+ (+ (+ ?x1890 (* (- (/ 2070731669664383.0 5000000000000000.0)) ?x2229)) (* (/ 21501967310905457.0 100000000000000000.0) ?x2231)) (* (- (/ 9466468691825867.0 10000000000000000.0)) ?x2233)) (* (- (/ 6531132012605667.0 100000000000000000.0)) ?x2066))))', ' (let ((?x1862 (+ (+ (+ (+ ?x1886 (* (- (/ 702899694442749.0 10000000000000000.0)) ?x2067)) (* (/ 384585652500391.0 3125000000000000.0) ?x2220)) (* (/ 6198172923177481.0 1000000000000000000.0) ?x2222)) (* (/ 2910870686173439.0 12500000000000000.0) ?x2224))))', ' (let ((?x3526 (+ ?x1862 (/ 5028712749481201.0 50000000000000000.0))))', ' (let ((?x2904 (+ (+ (+ (* (/ 7055714726448059.0 250000000000000000.0) ?x2902) (* (/ 1326479434967041.0 4000000000000000.0) ?x2245)) (* (- (/ 6434759497642517.0 50000000000000000.0)) ?x2246)) (* (- (/ 7511007785797119.0 50000000000000000.0)) ?x2181))))', ' (let ((?x1951 (+ (+ (+ (+ ?x2904 (* (- (/ 2573264241218567.0 10000000000000000.0)) ?x2235)) (* (- (/ 2373461276292801.0 10000000000000000.0)) ?x2237)) (* (- (/ 8405900001525879.0 100000000000000000.0)) ?x2239)) (* (/ 16090434789657593.0 100000000000000000.0) ?x2241))))', ' (let ((?x2004 (+ (+ (+ (+ ?x1951 (* (/ 195695698261261.0 1000000000000000.0) ?x2243)) (* (/ 1745462417602539.0 12500000000000000.0) ?x2086)) (* (- (/ 23663772642612457.0 100000000000000000.0)) ?x2225)) (* (/ 2879524976015091.0 25000000000000000.0) ?x2227))))', ' (let ((?x2000 (+ (+ (+ (+ ?x2004 (* (/ 911015272140503.0 50000000000000000.0) ?x2229)) (* (- (/ 7838054746389389.0 25000000000000000.0)) ?x2231)) (* (- (/ 8971700072288513.0 50000000000000000.0)) ?x2233)) (* (- (/ 9433159232139587.0 100000000000000000.0)) ?x2066))))', ' (let ((?x1976 (+ (+ (+ (+ ?x2000 (* (- (/ 1297676682472229.0 4000000000000000.0)) ?x2067)) (* (- (/ 10883530974388123.0 100000000000000000.0)) ?x2220)) (* (/ 24459081888198853.0 100000000000000000.0) ?x2222)) (* (- (/ 86173415184021.0 781250000000000.0)) ?x2224))))', ' (let ((?x3528 (+ ?x1976 0.0)))', ' (let ((?x2093 (+ (+ (+ (* (/ 709946870803833.0 4000000000000000.0) ?x2902) (* (/ 5619237944483757.0 25000000000000000.0) ?x2245)) (* (- (/ 934950590133667.0 2000000000000000.0)) ?x2246)) (* (- (/ 2768043279647827.0 10000000000000000.0)) ?x2181))))', ' (let ((?x2069 (+ (+ (+ (+ ?x2093 (* (/ 1387509424239397.0 50000000000000000.0) ?x2235)) (* (- (/ 286429263651371.0 1250000000000000.0)) ?x2237)) (* (- (/ 3170899301767349.0 100000000000000000.0)) ?x2239)) (* (/ 17958885431289673.0 50000000000000000.0) ?x2241))))', ' (let ((?x2084 (+ (+ (+ (+ ?x2069 (* (- (/ 2529100701212883.0 100000000000000000.0)) ?x2243)) (* (- (/ 2292589470744133.0 12500000000000000.0)) ?x2086)) (* (/ 2632356584072113.0 20000000000000000.0) ?x2225)) (* (- (/ 10257109999656677.0 50000000000000000.0)) ?x2227))))', ' (let ((?x2021 (+ (+ (+ (+ ?x2084 (* (- (/ 9165763854980469.0 100000000000000000.0)) ?x2229)) (* (/ 1433174729347229.0 4000000000000000.0) ?x2231)) (* (- (/ 9074960947036743.0 10000000000000000.0)) ?x2233)) (* (/ 12385736405849457.0 50000000000000000.0) ?x2066))))', ' (let ((?x2026 (+ (+ (+ (+ ?x2021 (* (- (/ 516631007194519.0 2000000000000000.0)) ?x2067)) (* (/ 4388619065284729.0 20000000000000000.0) ?x2220)) (* (/ 992386694997549.0 12500000000000000.0) ?x2222)) (* (- (/ 7366878539323807.0 50000000000000000.0)) ?x2224))))', ' (let ((?x3521 (+ ?x2026 (/ 8048694580793381.0 100000000000000000.0))))', ' (let ((?x2139 (+ (+ (+ (* (/ 1714000478386879.0 12500000000000000.0) ?x2902) (* (/ 313355284743011.0 3125000000000000.0) ?x2245)) (* (- (/ 6723837852478027.0 10000000000000000.0)) ?x2246)) (* (/ 1924024373292923.0 10000000000000000.0) ?x2181))))', ' (let ((?x2132 (+ (+ (+ (+ ?x2139 (* (- (/ 692993625998497.0 5000000000000000.0)) ?x2235)) (* (/ 7662810683250427.0 10000000000000000.0) ?x2237)) (* (- (/ 1755283959209919.0 6250000000000000.0)) ?x2239)) (* (- (/ 2187313437461853.0 10000000000000000.0)) ?x2241))))', ' (let ((?x2119 (+ (+ (+ (+ ?x2132 (* (- (/ 45990297198295593.0 100000000000000000.0)) ?x2243)) (* (- (/ 24045775830745697.0 100000000000000000.0)) ?x2086)) (* (/ 19122007489204407.0 100000000000000000.0) ?x2225)) (* (- (/ 4777984693646431.0 50000000000000000.0)) ?x2227))))', ' (let ((?x2043 (+ (+ (+ (+ ?x2119 (* (- (/ 28725431766361.0 39062500000000.0)) ?x2229)) (* (/ 11293932795524597.0 50000000000000000.0) ?x2231)) (* (/ 19485974311828613.0 100000000000000000.0) ?x2233)) (* (/ 1932878941297531.0 5000000000000000.0) ?x2066))))', ' (let ((?x2051 (+ (+ (+ (+ ?x2043 (* (/ 264732301235199.0 1000000000000000.0) ?x2067)) (* (- (/ 3064432144165039.0 10000000000000000.0)) ?x2220)) (* (- (/ 1601245105266571.0 10000000000000000.0)) ?x2222)) (* (- (/ 4466438889503479.0 10000000000000000.0)) ?x2224))))', ' (let ((?x3519 (+ ?x2051 (- (/ 2970165340229869.0 500000000000000000.0)))))', ' (let ((?x2054 (+ (+ (+ (* (- (/ 4763854146003723.0 5000000000000000.0)) ?x2902) (* (/ 1089348316192627.0 2000000000000000.0) ?x2245)) (* (- (/ 1731225997209549.0 2500000000000000.0)) ?x2246)) (* (- (/ 8271152377128601.0 10000000000000000.0)) ?x2181))))', ' (let ((?x2914 (+ (+ (+ (+ ?x2054 (* (- (/ 365636870265007.0 625000000000000.0)) ?x2235)) (* (/ 39741402864456177.0 100000000000000000.0) ?x2237)) (* (- (/ 765388235449791.0 1250000000000000.0)) ?x2239)) (* (- (/ 1326683759689331.0 2500000000000000.0)) ?x2241))))', ' (let ((?x2182 (+ (+ (+ (+ ?x2914 (* (- (/ 171603262424469.0 250000000000000.0)) ?x2243)) (* (- (/ 12649214267730713.0 100000000000000000.0)) ?x2086)) (* (- (/ 433596707880497.0 1250000000000000.0)) ?x2225)) (* (- (/ 22866329550743103.0 100000000000000000.0)) ?x2227))))', ' (let ((?x2159 (+ (+ (+ (+ ?x2182 (* (- (/ 8603479266166687.0 10000000000000000.0)) ?x2229)) (* (/ 788455531001091.0 5000000000000000.0) ?x2231)) (* (/ 3772764503955841.0 5000000000000000.0) ?x2233)) (* (/ 11781439930200577.0 50000000000000000.0) ?x2066))))', ' (let ((?x2153 (+ (+ (+ (+ ?x2159 (* (- (/ 4410621225833893.0 10000000000000000.0)) ?x2067)) (* (- (/ 9670689105987549.0 10000000000000000.0)) ?x2220)) (* (- (/ 5347921252250671.0 10000000000000000.0)) ?x2222)) (* (- (/ 5959334969520569.0 10000000000000000.0)) ?x2224))))', ' (let ((?x3517 (+ ?x2153 (/ 2282915711402893.0 5000000000000000.0))))', ' (let ((?x3385 (+ (* (/ 979040339589119.0 1250000000000000.0) (ite (>= ?x3517 0.0) ?x3517 0.0)) (* (/ 7574973106384277.0 10000000000000000.0) (ite (>= ?x3519 0.0) ?x3519 0.0)))))', ' (let ((?x3391 (+ (+ ?x3385 (* (- (/ 5627413988113403.0 10000000000000000.0)) (ite (>= ?x3521 0.0) ?x3521 0.0))) (* (- (/ 115727623924613.0 312500000000000.0)) (ite (>= ?x3528 0.0) ?x3528 0.0)))))', ' (let ((?x3397 (+ (+ ?x3391 (* (- (/ 6589940190315247.0 10000000000000000.0)) (ite (>= ?x3526 0.0) ?x3526 0.0))) (* (/ 2456294596195221.0 2500000000000000.0) (ite (>= ?x3525 0.0) ?x3525 0.0)))))', ' (let ((?x3402 (+ (+ ?x3397 (* (/ 2588706910610199.0 10000000000000000.0) (ite (>= ?x3469 0.0) ?x3469 0.0))) (* (- (/ 1201120913028717.0 20000000000000000.0)) (ite (>= ?x3471 0.0) ?x3471 0.0)))))', ' (let ((?x3350 (+ (+ ?x3402 (* (- (/ 3559766411781311.0 10000000000000000.0)) (ite (>= ?x3473 0.0) ?x3473 0.0))) (* (/ 3376917541027069.0 10000000000000000.0) (ite (>= ?x3475 0.0) ?x3475 0.0)))))', ' (let ((?x3356 (+ (+ ?x3350 (* (/ 6511136889457703.0 10000000000000000.0) (ite (>= ?x3477 0.0) ?x3477 0.0))) (* (- (/ 14227569103240967.0 100000000000000000.0)) (ite (>= ?x3479 0.0) ?x3479 0.0)))))', ' (let ((?x3362 (+ (+ ?x3356 (* (/ 1017225980758667.0 1000000000000000.0) (ite (>= ?x3481 0.0) ?x3481 0.0))) (* (- (/ 7335571199655533.0 50000000000000000.0)) (ite (>= ?x3483 0.0) ?x3483 0.0)))))', ' (let ((?x3374 (+ (+ ?x3362 (* (- (/ 125184965133667.0 400000000000000.0)) (ite (>= ?x3485 0.0) ?x3485 0.0))) (* (- (/ 1278640627861023.0 5000000000000000.0)) (ite (>= ?x3487 0.0) ?x3487 0.0)))))', ' (let ((?x3315 (+ (+ ?x3374 (* (- (/ 1103250503540039.0 2000000000000000.0)) (ite (>= ?x3489 0.0) ?x3489 0.0))) (* (- (/ 8657752275466919.0 20000000000000000.0)) (ite (>= ?x3497 0.0) ?x3497 0.0)))))', ' (let ((?x3321 (+ (+ ?x3315 (* (/ 4166319966316223.0 10000000000000000.0) (ite (>= ?x3495 0.0) ?x3495 0.0))) (* (/ 1006889820098877.0 1000000000000000.0) (ite (>= ?x3494 0.0) ?x3494 0.0)))))', ' (let ((?x3327 (+ (+ ?x3321 (* (- (/ 1626342236995697.0 5000000000000000.0)) (ite (>= ?x3439 0.0) ?x3439 0.0))) (* (- (/ 1749424934387207.0 10000000000000000.0)) (ite (>= ?x3441 0.0) ?x3441 0.0)))))', ' (let ((?x3333 (+ (+ ?x3327 (* (- (/ 2625133693218231.0 5000000000000000.0)) (ite (>= ?x3443 0.0) ?x3443 0.0))) (* (- (/ 23927880823612213.0 50000000000000000.0)) (ite (>= ?x3445 0.0) ?x3445 0.0)))))', ' (let ((?x3344 (+ (+ ?x3333 (* (/ 838262289762497.0 1250000000000000.0) (ite (>= ?x3447 0.0) ?x3447 0.0))) (- (/ 6081594154238701.0 100000000000000000.0)))))', ' (let ((?x2885 (- ?x3344 ?x69)))', ' (>= (ite (<= ?x2885 0.0) (- ?x2885) ?x2885) (/ 1.0 2.0))))))))))))))))))))))))))))))))))))))))))))))))))))))))))))))))))))))))))))))))))))))))))))))))))))))))))))))))))))))))))))))))))))))))))))))))))))))))))))))))))))))))))))))))))))))))))))))))))))))))))))))))))))))))))))))))))))', '(check-sat)']\n"
          ]
        },
        {
          "output_type": "execute_result",
          "data": {
            "text/plain": [
              "[{'name': '-1 <= x[0], x[0] <= 1', 'parent': ''},\n",
              " {'name': 'Declare', 'parent': '-1 <= x[0], x[0] <= 1'},\n",
              " {'name': 'Axioms', 'parent': 'Declare'},\n",
              " {'name': 'Proof', 'parent': 'Axioms'},\n",
              " {'name': 'let ((?x69 (+ (- (* 8.0 (^ x 4.0 (* 8.0 (^ x 2.0) 1.0)',\n",
              "  'parent': 'Axioms'},\n",
              " {'name': 'let ((?x1919 (* (/ 3558933138847351.0 10000000000000000.0) x)',\n",
              "  'parent': 'Axioms'},\n",
              " {'name': 'let ((?x1947 (+ ?x1919 (/ 217914255335927.0 3125000000000000.0',\n",
              "  'parent': 'Axioms'},\n",
              " {'name': 'let ((?x2224 (ite (>= ?x1947 0.0) ?x1947 0.0)', 'parent': 'Axioms'},\n",
              " {'name': 'let ((?x1921 (* (/ 1393773853778839.0 5000000000000000.0) x)',\n",
              "  'parent': 'Axioms'},\n",
              " {'name': 'let ((?x2190 (+ ?x1921 (- (/ 1193377305753529.0 1000000000000000000.0)',\n",
              "  'parent': 'Axioms'},\n",
              " {'name': 'let ((?x2222 (ite (>= ?x2190 0.0) ?x2190 0.0)', 'parent': 'Axioms'},\n",
              " {'name': 'let ((?x2248 (* (- (/ 7260363101959229.0 10000000000000000.0 x)',\n",
              "  'parent': 'Axioms'},\n",
              " {'name': 'let ((?x2188 (+ ?x2248 (- (/ 6936235725879669.0 100000000000000000.0)',\n",
              "  'parent': 'Axioms'},\n",
              " {'name': 'let ((?x2220 (ite (>= ?x2188 0.0) ?x2188 0.0)', 'parent': 'Axioms'},\n",
              " {'name': 'let ((?x2257 (* (- (/ 37275436520576477.0 100000000000000000.0 x)',\n",
              "  'parent': 'Axioms'},\n",
              " {'name': 'let ((?x1989 (+ ?x2257 (- (/ 155645115301013.0 625000000000000.0)',\n",
              "  'parent': 'Axioms'},\n",
              " {'name': 'let ((?x2067 (ite (>= ?x1989 0.0) ?x1989 0.0)', 'parent': 'Axioms'},\n",
              " {'name': 'let ((?x2255 (* (/ 4787672758102417.0 10000000000000000.0) x)',\n",
              "  'parent': 'Axioms'},\n",
              " {'name': 'let ((?x2186 (+ ?x2255 (/ 2659638226032257.0 10000000000000000.0',\n",
              "  'parent': 'Axioms'},\n",
              " {'name': 'let ((?x2066 (ite (>= ?x2186 0.0) ?x2186 0.0)', 'parent': 'Axioms'},\n",
              " {'name': 'let ((?x2253 (* (- (/ 542846143245697.0 1000000000000000.0 x)',\n",
              "  'parent': 'Axioms'},\n",
              " {'name': 'let ((?x1861 (+ ?x2253 (/ 8364047110080719.0 25000000000000000.0',\n",
              "  'parent': 'Axioms'},\n",
              " {'name': 'let ((?x2233 (ite (>= ?x1861 0.0) ?x1861 0.0)', 'parent': 'Axioms'},\n",
              " {'name': 'let ((?x1927 (* (/ 972873792052269.0 2500000000000000.0) x)',\n",
              "  'parent': 'Axioms'},\n",
              " {'name': 'let ((?x1983 (+ ?x1927 (/ 1679030179977417.0 4000000000000000.0',\n",
              "  'parent': 'Axioms'},\n",
              " {'name': 'let ((?x2231 (ite (>= ?x1983 0.0) ?x1983 0.0)', 'parent': 'Axioms'},\n",
              " {'name': 'let ((?x2063 (* (/ 8002495169639587.0 10000000000000000.0) x)',\n",
              "  'parent': 'Axioms'},\n",
              " {'name': 'let ((?x1981 (+ ?x2063 (- (/ 10975019633769989.0 50000000000000000.0)',\n",
              "  'parent': 'Axioms'},\n",
              " {'name': 'let ((?x2229 (ite (>= ?x1981 0.0) ?x1981 0.0)', 'parent': 'Axioms'},\n",
              " {'name': 'let ((?x2252 (* (- (/ 1944227933883667.0 4000000000000000.0 x)',\n",
              "  'parent': 'Axioms'},\n",
              " {'name': 'let ((?x2192 (+ ?x2252 (/ 2750219590961933.0 50000000000000000.0',\n",
              "  'parent': 'Axioms'},\n",
              " {'name': 'let ((?x2227 (ite (>= ?x2192 0.0) ?x2192 0.0)', 'parent': 'Axioms'},\n",
              " {'name': 'let ((?x1925 (* (- (/ 6697056293487549.0 10000000000000000.0 x)',\n",
              "  'parent': 'Axioms'},\n",
              " {'name': 'let ((?x2915 (+ ?x1925 (/ 5352228134870529.0 100000000000000000.0',\n",
              "  'parent': 'Axioms'},\n",
              " {'name': 'let ((?x2225 (ite (>= ?x2915 0.0) ?x2915 0.0)', 'parent': 'Axioms'},\n",
              " {'name': 'let ((?x1945 (* (/ 39486604928970337.0 100000000000000000.0) x)',\n",
              "  'parent': 'Axioms'},\n",
              " {'name': 'let ((?x2203 (+ ?x1945 (/ 7180449366569519.0 100000000000000000.0',\n",
              "  'parent': 'Axioms'},\n",
              " {'name': 'let ((?x2086 (ite (>= ?x2203 0.0) ?x2203 0.0)', 'parent': 'Axioms'},\n",
              " {'name': 'let ((?x3369 (* (/ 439944863319397.0 1000000000000000.0) x)',\n",
              "  'parent': 'Axioms'},\n",
              " {'name': 'let ((?x1888 (+ ?x3369 (- (/ 13403661549091339.0 500000000000000000.0)',\n",
              "  'parent': 'Axioms'},\n",
              " {'name': 'let ((?x2243 (ite (>= ?x1888 0.0) ?x1888 0.0)', 'parent': 'Axioms'},\n",
              " {'name': 'let ((?x3523 (* (/ 3183300793170929.0 25000000000000000.0) x)',\n",
              "  'parent': 'Axioms'},\n",
              " {'name': 'let ((?x2201 (+ ?x3523 (/ 29245059937238693.0 500000000000000000.0',\n",
              "  'parent': 'Axioms'},\n",
              " {'name': 'let ((?x2241 (ite (>= ?x2201 0.0) ?x2201 0.0)', 'parent': 'Axioms'},\n",
              " {'name': 'let ((?x3616 (* (/ 3736991286277771.0 10000000000000000.0) x)',\n",
              "  'parent': 'Axioms'},\n",
              " {'name': 'let ((?x2200 (+ ?x3616 (- (/ 8345687389373779.0 100000000000000000.0)',\n",
              "  'parent': 'Axioms'},\n",
              " {'name': 'let ((?x2239 (ite (>= ?x2200 0.0) ?x2200 0.0)', 'parent': 'Axioms'},\n",
              " {'name': 'let ((?x3338 (* (/ 14429275691509247.0 50000000000000000.0) x)',\n",
              "  'parent': 'Axioms'},\n",
              " {'name': 'let ((?x2198 (+ ?x3338 (/ 7013551890850067.0 50000000000000000.0',\n",
              "  'parent': 'Axioms'},\n",
              " {'name': 'let ((?x2237 (ite (>= ?x2198 0.0) ?x2198 0.0)', 'parent': 'Axioms'},\n",
              " {'name': 'let ((?x3554 (* (/ 43114137649536133.0 100000000000000000.0) x)',\n",
              "  'parent': 'Axioms'},\n",
              " {'name': 'let ((?x2196 (+ ?x3554 (/ 8451308310031891.0 100000000000000000.0',\n",
              "  'parent': 'Axioms'},\n",
              " {'name': 'let ((?x2235 (ite (>= ?x2196 0.0) ?x2196 0.0)', 'parent': 'Axioms'},\n",
              " {'name': 'let ((?x3400 (* (- (/ 5119437575340271.0 10000000000000000.0 x)',\n",
              "  'parent': 'Axioms'},\n",
              " {'name': 'let ((?x2194 (+ ?x3400 (- (/ 111975590698421.0 781250000000000.0)',\n",
              "  'parent': 'Axioms'},\n",
              " {'name': 'let ((?x2181 (ite (>= ?x2194 0.0) ?x2194 0.0)', 'parent': 'Axioms'},\n",
              " {'name': 'let ((?x1939 (* (/ 2788543403148651.0 5000000000000000.0) x)',\n",
              "  'parent': 'Axioms'},\n",
              " {'name': 'let ((?x1903 (+ ?x1939 (- (/ 2765195965766907.0 10000000000000000.0)',\n",
              "  'parent': 'Axioms'},\n",
              " {'name': 'let ((?x2246 (ite (>= ?x1903 0.0) ?x1903 0.0)', 'parent': 'Axioms'},\n",
              " {'name': 'let ((?x1931 (* (/ 16922958195209503.0 50000000000000000.0) x)',\n",
              "  'parent': 'Axioms'},\n",
              " {'name': 'let ((?x1905 (+ ?x1931 (/ 33907952904701233.0 100000000000000000.0',\n",
              "  'parent': 'Axioms'},\n",
              " {'name': 'let ((?x2245 (ite (>= ?x1905 0.0) ?x1905 0.0)', 'parent': 'Axioms'},\n",
              " {'name': 'let ((?x3023 (* (- (/ 7853483557701111.0 10000000000000000.0 x)',\n",
              "  'parent': 'Axioms'},\n",
              " {'name': 'let ((?x1898 (+ ?x3023 (- (/ 3660890832543373.0 25000000000000000.0)',\n",
              "  'parent': 'Axioms'},\n",
              " {'name': 'let ((?x2902 (ite (>= ?x1898 0.0) ?x1898 0.0)', 'parent': 'Axioms'},\n",
              " {'name': 'let ((?x3591 (+ (+ (+ (* (/ 6490950584411621.0 20000000000000000.0) ?x2902) (* (- (/ 11484981775283813.0 10000000000000000.0 ?x2245 (* (/ 432949036359787.0 2000000000000000.0) ?x2246 (* (/ 2137042135000229.0 5000000000000000.0) ?x2181',\n",
              "  'parent': 'Axioms'},\n",
              " {'name': 'let ((?x3538 (+ (+ (+ (+ ?x3591 (* (/ 20279349386692047.0 100000000000000000.0) ?x2235 (* (/ 7484125904738903.0 125000000000000000.0) ?x2237 (* (- (/ 656512975692749.0 2000000000000000.0 ?x2239 (* (/ 35232090950012207.0 100000000000000000.0) ?x2241',\n",
              "  'parent': 'Axioms'},\n",
              " {'name': 'let ((?x3550 (+ (+ (+ (+ ?x3538 (* (- (/ 4502696916460991.0 25000000000000000.0 ?x2243 (* (/ 2585888206958771.0 10000000000000000.0) ?x2086 (* (- (/ 1300530582666397.0 20000000000000000.0 ?x2225 (* (/ 10739301890134811.0 100000000000000000.0) ?x2227',\n",
              "  'parent': 'Axioms'},\n",
              " {'name': 'let ((?x3503 (+ (+ (+ (+ ?x3550 (* (/ 2088082954287529.0 62500000000000000.0) ?x2229 (* (- (/ 5916609168052673.0 10000000000000000.0 ?x2231 (* (/ 166585773229599.0 2000000000000000.0) ?x2233 (* (- (/ 911765843629837.0 2500000000000000.0 ?x2066',\n",
              "  'parent': 'Axioms'},\n",
              " {'name': 'let ((?x3515 (+ (+ (+ (+ ?x3503 (* (/ 6693723797798157.0 10000000000000000.0) ?x2067 (* (/ 500806450843811.0 1000000000000000.0) ?x2220 (* (/ 3278796076774597.0 10000000000000000.0) ?x2222 (* (- (/ 4620474949479103.0 100000000000000000.0 ?x2224',\n",
              "  'parent': 'Axioms'},\n",
              " {'name': 'let ((?x3447 (+ ?x3515 (- (/ 1148445725440979.0 4000000000000000.0)',\n",
              "  'parent': 'Axioms'},\n",
              " {'name': 'let ((?x3644 (+ (+ (+ (* (- (/ 6374373435974121.0 20000000000000000.0 ?x2902) (* (/ 1253014151006937.0 25000000000000000.0) ?x2245 (* (- (/ 48213276267051697.0 100000000000000000.0 ?x2246 (* (/ 68746417760849.0 1000000000000000.0) ?x2181',\n",
              "  'parent': 'Axioms'},\n",
              " {'name': 'let ((?x3597 (+ (+ (+ (+ ?x3644 (* (/ 2021939866244793.0 25000000000000000.0) ?x2235 (* (- (/ 5437532439827919.0 25000000000000000.0 ?x2237 (* (- (/ 27810700237751007.0 500000000000000000.0 ?x2239 (* (- (/ 1850370615720749.0 20000000000000000.0 ?x2241',\n",
              "  'parent': 'Axioms'},\n",
              " {'name': 'let ((?x3609 (+ (+ (+ (+ ?x3597 (* (- (/ 27990278601646423.0 100000000000000000.0 ?x2243 (* (/ 15677443146705627.0 100000000000000000.0) ?x2086 (* (- (/ 46851029992103577.0 100000000000000000.0 ?x2225 (* (- (/ 1858506441116333.0 4000000000000000.0 ?x2227',\n",
              "  'parent': 'Axioms'},\n",
              " {'name': 'let ((?x3562 (+ (+ (+ (+ ?x3609 (* (- (/ 3135654330253601.0 100000000000000000.0 ?x2229 (* (/ 323241651058197.0 1000000000000000.0) ?x2231 (* (- (/ 12004425525665283.0 10000000000000000.0 ?x2233 (* (/ 8685227483510971.0 100000000000000000.0) ?x2066',\n",
              "  'parent': 'Axioms'},\n",
              " {'name': 'let ((?x3574 (+ (+ (+ (+ ?x3562 (* (/ 1366361677646637.0 5000000000000000.0) ?x2067 (* (- (/ 6664232164621353.0 50000000000000000.0 ?x2220 (* (- (/ 7173111289739609.0 50000000000000000.0 ?x2222 (* (/ 16895201802253723.0 100000000000000000.0) ?x2224',\n",
              "  'parent': 'Axioms'},\n",
              " {'name': 'let ((?x3445 (+ ?x3574 (/ 1132169459015131.0 6250000000000000.0',\n",
              "  'parent': 'Axioms'},\n",
              " {'name': 'let ((?x3702 (+ (+ (+ (* (/ 3367544710636139.0 25000000000000000.0) ?x2902) (* (- (/ 16642186045646667.0 100000000000000000.0 ?x2245 (* (/ 19380898773670197.0 100000000000000000.0) ?x2246 (* (- (/ 10544184595346451.0 100000000000000000.0 ?x2181',\n",
              "  'parent': 'Axioms'},\n",
              " {'name': 'let ((?x3656 (+ (+ (+ (+ ?x3702 (* (/ 17101341485977173.0 50000000000000000.0) ?x2235 (* (- (/ 34621.0 131072.0 ?x2237 (* (/ 1745205819606781.0 20000000000000000.0) ?x2239 (* (- (/ 1306465119123459.0 5000000000000000.0 ?x2241',\n",
              "  'parent': 'Axioms'},\n",
              " {'name': 'let ((?x3668 (+ (+ (+ (+ ?x3656 (* (/ 4191465675830841.0 50000000000000000.0) ?x2243 (* (- (/ 20412231981754303.0 100000000000000000.0 ?x2086 (* (/ 5711982250213623.0 20000000000000000.0) ?x2225 (* (- (/ 10087151825428009.0 100000000000000000.0 ?x2227',\n",
              "  'parent': 'Axioms'},\n",
              " {'name': 'let ((?x3677 (+ (+ (+ (+ ?x3668 (* (- (/ 1044289767742157.0 5000000000000000.0 ?x2229 (* (- (/ 7338526099920273.0 100000000000000000.0 ?x2231 (* (/ 2189294844865799.0 10000000000000000.0) ?x2233 (* (- (/ 11565888300538063.0 500000000000000000.0 ?x2066',\n",
              "  'parent': 'Axioms'},\n",
              " {'name': 'let ((?x3633 (+ (+ (+ (+ ?x3677 (* (- (/ 1691160649061203.0 5000000000000000.0 ?x2067 (* (/ 3345218300819397.0 10000000000000000.0) ?x2220 (* (/ 912120845168829.0 12500000000000000.0) ?x2222 (* (/ 14855198562145233.0 50000000000000000.0) ?x2224',\n",
              "  'parent': 'Axioms'},\n",
              " {'name': 'let ((?x3443 (+ ?x3633 (/ 4937533289194107.0 25000000000000000.0',\n",
              "  'parent': 'Axioms'},\n",
              " {'name': 'let ((?x3758 (+ (+ (+ (* (/ 3315490111708641.0 25000000000000000.0) ?x2902) (* (- (/ 982823371887207.0 5000000000000000.0 ?x2245 (* (- (/ 11152978055179119.0 1000000000000000000.0 ?x2246 (* (- (/ 2661987841129303.0 20000000000000000.0 ?x2181',\n",
              "  'parent': 'Axioms'},\n",
              " {'name': 'let ((?x3772 (+ (+ (+ (+ ?x3758 (* (/ 461212731897831.0 12500000000000000.0) ?x2235 (* (/ 10312298685312271.0 50000000000000000.0) ?x2237 (* (- (/ 892016664147377.0 3125000000000000.0 ?x2239 (* (/ 6624795794487.0 20000000000000.0) ?x2241',\n",
              "  'parent': 'Axioms'},\n",
              " {'name': 'let ((?x3724 (+ (+ (+ (+ ?x3772 (* (/ 290439635515213.0 1000000000000000.0) ?x2243 (* (/ 7349240779876709.0 20000000000000000.0) ?x2086 (* (- (/ 11770765297114849.0 250000000000000000.0 ?x2225 (* (/ 811629444360733.0 5000000000000000.0) ?x2227',\n",
              "  'parent': 'Axioms'},\n",
              " {'name': 'let ((?x3736 (+ (+ (+ (+ ?x3724 (* (- (/ 1906973272562027.0 10000000000000000.0 ?x2229 (* (/ 256328821182251.0 1000000000000000.0) ?x2231 (* (- (/ 11309666633605957.0 10000000000000000.0 ?x2233 (* (- (/ 3834618330001831.0 20000000000000000.0 ?x2066',\n",
              "  'parent': 'Axioms'},\n",
              " {'name': 'let ((?x3691 (+ (+ (+ (+ ?x3736 (* (- (/ 17236176133155823.0 50000000000000000.0 ?x2067 (* (/ 476810596883297.0 20000000000000000.0) ?x2220 (* (/ 4098198190331459.0 25000000000000000.0) ?x2222 (* (- (/ 623910017311573.0 5000000000000000.0 ?x2224',\n",
              "  'parent': 'Axioms'},\n",
              " {'name': 'let ((?x3441 (+ ?x3691 (/ 1023978665471077.0 5000000000000000.0',\n",
              "  'parent': 'Axioms'},\n",
              " {'name': 'let ((?x3815 (+ (+ (+ (* (/ 11649657040834427.0 50000000000000000.0) ?x2902) (* (/ 4033733606338501.0 20000000000000000.0) ?x2245 (* (/ 10112558305263519.0 100000000000000000.0) ?x2246 (* (- (/ 12298600375652313.0 50000000000000000.0 ?x2181',\n",
              "  'parent': 'Axioms'},\n",
              " {'name': 'let ((?x3827 (+ (+ (+ (+ ?x3815 (* (- (/ 8153877407312393.0 100000000000000000.0 ?x2235 (* (- (/ 3545457124710083.0 12500000000000000.0 ?x2237 (* (- (/ 4208052158355713.0 25000000000000000.0 ?x2239 (* (/ 12845093384385109.0 1000000000000000000.0) ?x2241',\n",
              "  'parent': 'Axioms'},\n",
              " {'name': 'let ((?x3781 (+ (+ (+ (+ ?x3827 (* (- (/ 2529790811240673.0 25000000000000000.0 ?x2243 (* (/ 25735530257225037.0 100000000000000000.0) ?x2086 (* (/ 17095470428466797.0 50000000000000000.0) ?x2225 (* (/ 3558730185031891.0 10000000000000000.0) ?x2227',\n",
              "  'parent': 'Axioms'},\n",
              " {'name': 'let ((?x3793 (+ (+ (+ (+ ?x3781 (* (/ 3973483294248581.0 100000000000000000.0) ?x2229 (* (/ 4033263623714447.0 20000000000000000.0) ?x2231 (* (/ 17017762362957.0 50000000000000.0) ?x2233 (* (- (/ 91930590569973.0 312500000000000.0 ?x2066',\n",
              "  'parent': 'Axioms'},\n",
              " {'name': 'let ((?x3747 (+ (+ (+ (+ ?x3793 (* (- (/ 15677283704280853.0 100000000000000000.0 ?x2067 (* (- (/ 13404744677245617.0 2000000000000000000.0 ?x2220 (* (/ 10079222172498703.0 50000000000000000.0) ?x2222 (* (/ 15841449797153473.0 50000000000000000.0) ?x2224',\n",
              "  'parent': 'Axioms'},\n",
              " {'name': 'let ((?x3439 (+ ?x3747 (/ 12492872774600983.0 100000000000000000.0',\n",
              "  'parent': 'Axioms'},\n",
              " {'name': 'let ((?x3874 (+ (+ (+ (* (/ 2861718535423279.0 5000000000000000.0) ?x2902) (* (- (/ 1527404546737671.0 1000000000000000.0 ?x2245 (* (/ 18070071935653687.0 100000000000000000.0) ?x2246 (* (/ 5739007517695427.0 25000000000000000.0) ?x2181',\n",
              "  'parent': 'Axioms'},\n",
              " {'name': 'let ((?x3886 (+ (+ (+ (+ ?x3874 (* (- (/ 2287791483104229.0 12500000000000000.0 ?x2235 (* (- (/ 4884472191333771.0 10000000000000000.0 ?x2237 (* (/ 2824791520833969.0 25000000000000000.0) ?x2239 (* (- (/ 2490759938955307.0 10000000000000000.0 ?x2241',\n",
              "  'parent': 'Axioms'},\n",
              " {'name': 'let ((?x3839 (+ (+ (+ (+ ?x3886 (* (/ 787574052810669.0 25000000000000000.0) ?x2243 (* (- (/ 5059957504272461.0 20000000000000000.0 ?x2086 (* (/ 892045870423317.0 2500000000000000.0) ?x2225 (* (- (/ 4307548701763153.0 25000000000000000.0 ?x2227',\n",
              "  'parent': 'Axioms'},\n",
              " {'name': 'let ((?x3851 (+ (+ (+ (+ ?x3839 (* (/ 6979739665985107.0 100000000000000000.0) ?x2229 (* (- (/ 5009177327156067.0 5000000000000000.0 ?x2231 (* (/ 3112586447969079.0 125000000000000000.0) ?x2233 (* (/ 2005808986723423.0 25000000000000000.0) ?x2066',\n",
              "  'parent': 'Axioms'},\n",
              " {'name': 'let ((?x3860 (+ (+ (+ (+ ?x3851 (* (/ 3132389783859253.0 20000000000000000.0) ?x2067 (* (/ 3376404643058777.0 10000000000000000.0) ?x2220 (* (/ 895330160856247.0 2500000000000000.0) ?x2222 (* (/ 3894461691379547.0 25000000000000000.0) ?x2224',\n",
              "  'parent': 'Axioms'},\n",
              " {'name': 'let ((?x3494 (+ ?x3860 (- (/ 2719641923904419.0 10000000000000000.0)',\n",
              "  'parent': 'Axioms'},\n",
              " {'name': 'let ((?x3048 (+ (+ (+ (* (/ 11259627342224121.0 50000000000000000.0) ?x2902) (* (/ 27667930722236633.0 100000000000000000.0) ?x2245 (* (/ 7555762529373169.0 20000000000000000.0) ?x2246 (* (/ 1499509960412979.0 5000000000000000.0) ?x2181',\n",
              "  'parent': 'Axioms'},\n",
              " {'name': 'let ((?x3586 (+ (+ (+ (+ ?x3048 (* (/ 4284186288714409.0 50000000000000000.0) ?x2235 (* (/ 1755029708147049.0 10000000000000000.0) ?x2237 (* (/ 8673068881034851.0 25000000000000000.0) ?x2239 (* (/ 1248610258102417.0 4000000000000000.0) ?x2241',\n",
              "  'parent': 'Axioms'},\n",
              " {'name': 'let ((?x3215 (+ (+ (+ (+ ?x3586 (* (- (/ 9572858363389969.0 100000000000000000.0 ?x2243 (* (/ 175120010972023.0 5000000000000000.0) ?x2086 (* (- (/ 1508675366640091.0 10000000000000000.0 ?x2225 (* (- (/ 2040189802646637.0 10000000000000000.0 ?x2227',\n",
              "  'parent': 'Axioms'},\n",
              " {'name': 'let ((?x3910 (+ (+ (+ (+ ?x3215 (* (/ 796569436788559.0 5000000000000000.0) ?x2229 (* (/ 780827971175313.0 3125000000000000.0) ?x2231 (* (/ 3237423300743103.0 10000000000000000.0) ?x2233 (* (/ 5378827452659607.0 25000000000000000.0) ?x2066',\n",
              "  'parent': 'Axioms'},\n",
              " {'name': 'let ((?x3928 (+ (+ (+ (+ ?x3910 (* (/ 8689815551042557.0 50000000000000000.0) ?x2067 (* (/ 2902798168361187.0 25000000000000000.0) ?x2220 (* (- (/ 5625259503722191.0 100000000000000000.0 ?x2222 (* (- (/ 233804015442729.0 1562500000000000.0 ?x2224',\n",
              "  'parent': 'Axioms'},\n",
              " {'name': 'let ((?x3495 (+ ?x3928 (- (/ 8059674501419067.0 100000000000000000.0)',\n",
              "  'parent': 'Axioms'},\n",
              " {'name': 'let ((?x2975 (+ (+ (+ (* (- (/ 42707.0 131072.0 ?x2902) (* (/ 15388181805610657.0 100000000000000000.0) ?x2245 (* (- (/ 47276774048805237.0 100000000000000000.0 ?x2246 (* (/ 16744953393936157.0 50000000000000000.0) ?x2181',\n",
              "  'parent': 'Axioms'},\n",
              " {'name': 'let ((?x52 (+ (+ (+ (+ ?x2975 (* (/ 3280549943447113.0 20000000000000000.0) ?x2235 (* (/ 14369896054267883.0 100000000000000000.0) ?x2237 (* (/ 20743395388126373.0 100000000000000000.0) ?x2239 (* (/ 8754546195268631.0 25000000000000000.0) ?x2241',\n",
              "  'parent': 'Axioms'},\n",
              " {'name': 'let ((?x3017 (+ (+ (+ (+ ?x52 (* (/ 281877338886261.0 2000000000000000.0) ?x2243 (* (/ 762045606970787.0 10000000000000000.0) ?x2086 (* (- (/ 1532014012336731.0 10000000000000000.0 ?x2225 (* (- (/ 1186936441808939.0 6250000000000000.0 ?x2227',\n",
              "  'parent': 'Axioms'},\n",
              " {'name': 'let ((?x3053 (+ (+ (+ (+ ?x3017 (* (- (/ 1764993965625763.0 10000000000000000.0 ?x2229 (* (/ 11380395293235779.0 100000000000000000.0) ?x2231 (* (- (/ 3413432836532593.0 5000000000000000.0 ?x2233 (* (/ 13850007951259613.0 100000000000000000.0) ?x2066',\n",
              "  'parent': 'Axioms'},\n",
              " {'name': 'let ((?x3117 (+ (+ (+ (+ ?x3053 (* (/ 6979343295097351.0 50000000000000000.0) ?x2067 (* (/ 6909996271133423.0 100000000000000000.0) ?x2220 (* (- (/ 11723941564559937.0 100000000000000000.0 ?x2222 (* (- (/ 481385737657547.0 2500000000000000.0 ?x2224',\n",
              "  'parent': 'Axioms'},\n",
              " {'name': 'let ((?x3497 (+ ?x3117 (/ 812307745218277.0 12500000000000000.0',\n",
              "  'parent': 'Axioms'},\n",
              " {'name': 'let ((?x2273 (+ (+ (+ (* (- (/ 15876835584640503.0 50000000000000000.0 ?x2902) (* (- (/ 17557424306869507.0 100000000000000000.0 ?x2245 (* (- (/ 1655706912279129.0 5000000000000000.0 ?x2246 (* (/ 3222910165786743.0 10000000000000000.0) ?x2181',\n",
              "  'parent': 'Axioms'},\n",
              " {'name': 'let ((?x2774 (+ (+ (+ (+ ?x2273 (* (/ 14402860403060913.0 50000000000000000.0) ?x2235 (* (/ 1471090018749237.0 5000000000000000.0) ?x2237 (* (/ 2129817195236683.0 25000000000000000.0) ?x2239 (* (/ 2469044178724289.0 10000000000000000.0) ?x2241',\n",
              "  'parent': 'Axioms'},\n",
              " {'name': 'let ((?x2982 (+ (+ (+ (+ ?x2774 (* (/ 327804833650589.0 1250000000000000.0) ?x2243 (* (- (/ 562317855656147.0 2500000000000000.0 ?x2086 (* (- (/ 10152003914117813.0 50000000000000000.0 ?x2225 (* (/ 8862441778182983.0 100000000000000000.0) ?x2227',\n",
              "  'parent': 'Axioms'},\n",
              " {'name': 'let ((?x2952 (+ (+ (+ (+ ?x2982 (* (/ 1132301390171051.0 5000000000000000.0) ?x2229 (* (- (/ 554594025015831.0 2500000000000000.0 ?x2231 (* (- (/ 5927954912185669.0 5000000000000000.0 ?x2233 (* (/ 3958911597728729.0 10000000000000000.0) ?x2066',\n",
              "  'parent': 'Axioms'},\n",
              " {'name': 'let ((?x2964 (+ (+ (+ (+ ?x2952 (* (- (/ 298522412776947.0 2000000000000000.0 ?x2067 (* (/ 850708968937397.0 3125000000000000.0) ?x2220 (* (/ 12304653413593769.0 250000000000000000.0) ?x2222 (* (/ 3483249619603157.0 12500000000000000.0) ?x2224',\n",
              "  'parent': 'Axioms'},\n",
              " {'name': 'let ((?x3489 (+ ?x2964 (/ 3507876992225647.0 20000000000000000.0',\n",
              "  'parent': 'Axioms'},\n",
              " {'name': 'let ((?x2841 (+ (+ (+ (* (/ 1565621793270111.0 10000000000000000.0) ?x2902) (* (/ 183323435485363.0 625000000000000.0) ?x2245 (* (- (/ 979810431599617.0 2500000000000000.0 ?x2246 (* (/ 76285719871521.0 250000000000000.0) ?x2181',\n",
              "  'parent': 'Axioms'},\n",
              " {'name': 'let ((?x2853 (+ (+ (+ (+ ?x2841 (* (- (/ 24672186374664307.0 100000000000000000.0 ?x2235 (* (- (/ 19832316040992737.0 50000000000000000.0 ?x2237 (* (- (/ 7778730243444443.0 100000000000000000.0 ?x2239 (* (- (/ 111783467233181.0 500000000000000.0 ?x2241',\n",
              "  'parent': 'Axioms'},\n",
              " {'name': 'let ((?x2864 (+ (+ (+ (+ ?x2853 (* (- (/ 10618932545185089.0 50000000000000000.0 ?x2243 (* (/ 1834641695022583.0 5000000000000000.0) ?x2086 (* (- (/ 8082462847232819.0 100000000000000000.0 ?x2225 (* (/ 44427958130836487.0 100000000000000000.0) ?x2227',\n",
              "  'parent': 'Axioms'},\n",
              " {'name': 'let ((?x2876 (+ (+ (+ (+ ?x2864 (* (/ 407538115978241.0 2500000000000000.0) ?x2229 (* (/ 3908052109181881.0 250000000000000000.0) ?x2231 (* (/ 619749091565609.0 2500000000000000.0) ?x2233 (* (- (/ 1291811466217041.0 4000000000000000.0 ?x2066',\n",
              "  'parent': 'Axioms'},\n",
              " {'name': 'let ((?x2988 (+ (+ (+ (+ ?x2876 (* (/ 12192046269774437.0 1000000000000000000.0) ?x2067 (* (/ 170754361897707.0 40000000000000000.0) ?x2220 (* (/ 349377803504467.0 1250000000000000.0) ?x2222 (* (/ 6803969144821167.0 20000000000000000.0) ?x2224',\n",
              "  'parent': 'Axioms'},\n",
              " {'name': 'let ((?x3487 (+ ?x2988 (/ 9638316184282303.0 50000000000000000.0',\n",
              "  'parent': 'Axioms'},\n",
              " {'name': 'let ((?x2784 (+ (+ (+ (* (/ 16358287632465363.0 100000000000000000.0) ?x2902) (* (/ 7811239361763.0 50000000000000.0) ?x2245 (* (- (/ 394677072763443.0 2500000000000000.0 ?x2246 (* (/ 3133895993232727.0 20000000000000000.0) ?x2181',\n",
              "  'parent': 'Axioms'},\n",
              " {'name': 'let ((?x2796 (+ (+ (+ (+ ?x2784 (* (- (/ 1001957687549293.0 125000000000000000.0 ?x2235 (* (/ 13799314200878143.0 100000000000000000.0) ?x2237 (* (- (/ 4123091325163841.0 50000000000000000.0 ?x2239 (* (/ 13526244461536407.0 100000000000000000.0) ?x2241',\n",
              "  'parent': 'Axioms'},\n",
              " {'name': 'let ((?x2807 (+ (+ (+ (+ ?x2796 (* (/ 14547164738178253.0 50000000000000000.0) ?x2243 (* (/ 2290859967470169.0 20000000000000000.0) ?x2086 (* (/ 2162323296070099.0 5000000000000000.0) ?x2225 (* (- (/ 642005130648613.0 5000000000000000.0 ?x2227',\n",
              "  'parent': 'Axioms'},\n",
              " {'name': 'let ((?x2819 (+ (+ (+ (+ ?x2807 (* (/ 8798312395811081.0 50000000000000000.0) ?x2229 (* (- (/ 9998980909585953.0 50000000000000000.0 ?x2231 (* (/ 3886310011148453.0 100000000000000000.0) ?x2233 (* (/ 3043578565120697.0 10000000000000000.0) ?x2066',\n",
              "  'parent': 'Axioms'},\n",
              " {'name': 'let ((?x2830 (+ (+ (+ (+ ?x2819 (* (- (/ 14009973406791687.0 50000000000000000.0 ?x2067 (* (/ 6160726547241211.0 20000000000000000.0) ?x2220 (* (/ 35641707945615053.0 10000000000000000000.0) ?x2222 (* (/ 2449551671743393.0 10000000000000000.0) ?x2224',\n",
              "  'parent': 'Axioms'},\n",
              " {'name': 'let ((?x3485 (+ ?x2830 (/ 1628081202507019.0 20000000000000000.0',\n",
              "  'parent': 'Axioms'},\n",
              " {'name': 'let ((?x2750 (+ (+ (+ (* (/ 25989562273025513.0 1000000000000000000.0) ?x2902) (* (/ 3422432541847229.0 10000000000000000.0) ?x2245 (* (/ 3822023868560791.0 20000000000000000.0) ?x2246 (* (- (/ 316491037607193.0 2000000000000000.0 ?x2181',\n",
              "  'parent': 'Axioms'},\n",
              " {'name': 'let ((?x2697 (+ (+ (+ (+ ?x2750 (* (/ 21862786263227463.0 500000000000000000.0) ?x2235 (* (/ 18502177298069.0 200000000000000.0) ?x2237 (* (/ 1727544218301773.0 20000000000000000.0) ?x2239 (* (/ 29820573329925537.0 100000000000000000.0) ?x2241',\n",
              "  'parent': 'Axioms'},\n",
              " {'name': 'let ((?x2710 (+ (+ (+ (+ ?x2697 (* (- (/ 3675854802131653.0 10000000000000000.0 ?x2243 (* (- (/ 13637658953666687.0 50000000000000000.0 ?x2086 (* (/ 1018863394856453.0 10000000000000000.0) ?x2225 (* (- (/ 2132958024740219.0 5000000000000000.0 ?x2227',\n",
              "  'parent': 'Axioms'},\n",
              " {'name': 'let ((?x2762 (+ (+ (+ (+ ?x2710 (* (- (/ 512326555326581.0 6250000000000000.0 ?x2229 (* (/ 13702303171157837.0 50000000000000000.0) ?x2231 (* (- (/ 6208881735801697.0 5000000000000000.0 ?x2233 (* (- (/ 619775652885437.0 10000000000000000.0 ?x2066',\n",
              "  'parent': 'Axioms'},\n",
              " {'name': 'let ((?x2776 (+ (+ (+ (+ ?x2762 (* (/ 3604776859283447.0 10000000000000000.0) ?x2067 (* (- (/ 26182112097740173.0 100000000000000000.0 ?x2220 (* (/ 537275493144989.0 2000000000000000.0) ?x2222 (* (/ 615673840045929.0 2000000000000000.0) ?x2224',\n",
              "  'parent': 'Axioms'},\n",
              " {'name': 'let ((?x3483 (+ ?x2776 (/ 795257743448019.0 6250000000000000.0',\n",
              "  'parent': 'Axioms'},\n",
              " {'name': 'let ((?x2627 (+ (+ (+ (* (- (/ 10433386266231537.0 50000000000000000.0 ?x2902) (* (- (/ 8198796957731247.0 50000000000000000.0 ?x2245 (* (/ 136172616481781.0 200000000000000.0) ?x2246 (* (/ 358940027654171.0 1250000000000000.0) ?x2181',\n",
              "  'parent': 'Axioms'},\n",
              " {'name': 'let ((?x2639 (+ (+ (+ (+ ?x2627 (* (/ 240525733679533.0 20000000000000000.0) ?x2235 (* (/ 24537715315818787.0 100000000000000000.0) ?x2237 (* (/ 5279795527458191.0 10000000000000000.0) ?x2239 (* (- (/ 4484381377696991.0 20000000000000000.0 ?x2241',\n",
              "  'parent': 'Axioms'},\n",
              " {'name': 'let ((?x2715 (+ (+ (+ (+ ?x2639 (* (/ 4540601745247841.0 25000000000000000.0) ?x2243 (* (- (/ 938001424074173.0 10000000000000000.0 ?x2086 (* (- (/ 9971015155315399.0 100000000000000000.0 ?x2225 (* (- (/ 361776128411293.0 2500000000000000.0 ?x2227',\n",
              "  'parent': 'Axioms'},\n",
              " {'name': 'let ((?x2727 (+ (+ (+ (+ ?x2715 (* (/ 705964982509613.0 2000000000000000.0) ?x2229 (* (- (/ 6587004661560059.0 100000000000000000.0 ?x2231 (* (- (/ 32438337802886963.0 100000000000000000.0 ?x2233 (* (/ 22733253240585327.0 100000000000000000.0) ?x2066',\n",
              "  'parent': 'Axioms'},\n",
              " {'name': 'let ((?x2739 (+ (+ (+ (+ ?x2727 (* (/ 5613207221031189.0 20000000000000000.0) ?x2067 (* (/ 15216106176376343.0 50000000000000000.0) ?x2220 (* (/ 19018150866031647.0 100000000000000000.0) ?x2222 (* (- (/ 1818472445011139.0 10000000000000000.0 ?x2224',\n",
              "  'parent': 'Axioms'},\n",
              " {'name': 'let ((?x3481 (+ ?x2739 (- (/ 2603330910205841.0 10000000000000000.0)',\n",
              "  'parent': 'Axioms'},\n",
              " {'name': 'let ((?x2611 (+ (+ (+ (* (- (/ 8297053724527359.0 25000000000000000.0 ?x2902) (* (/ 3515375405550003.0 12500000000000000.0) ?x2245 (* (- (/ 3245285153388977.0 10000000000000000.0 ?x2246 (* (- (/ 2829098403453827.0 10000000000000000.0 ?x2181',\n",
              "  'parent': 'Axioms'},\n",
              " {'name': 'let ((?x2936 (+ (+ (+ (+ ?x2611 (* (- (/ 92887282371521.0 400000000000000.0 ?x2235 (* (- (/ 1539437286555767.0 12500000000000000.0 ?x2237 (* (/ 204346664249897.0 2500000000000000.0) ?x2239 (* (/ 5082816481590271.0 20000000000000000.0) ?x2241',\n",
              "  'parent': 'Axioms'},\n",
              " {'name': 'let ((?x2655 (+ (+ (+ (+ ?x2936 (* (/ 426333025097847.0 1250000000000000.0) ?x2243 (* (/ 956122949719429.0 10000000000000000.0) ?x2086 (* (- (/ 830419659614563.0 2500000000000000.0 ?x2225 (* (/ 10360599309206009.0 200000000000000000.0) ?x2227',\n",
              "  'parent': 'Axioms'},\n",
              " {'name': 'let ((?x2667 (+ (+ (+ (+ ?x2655 (* (- (/ 15345577895641327.0 50000000000000000.0 ?x2229 (* (- (/ 1196339949965477.0 20000000000000000.0 ?x2231 (* (/ 1828446239233017.0 25000000000000000.0) ?x2233 (* (- (/ 7192167043685913.0 20000000000000000.0 ?x2066',\n",
              "  'parent': 'Axioms'},\n",
              " {'name': 'let ((?x2679 (+ (+ (+ (+ ?x2667 (* (/ 15880037099123.0 125000000000000.0) ?x2067 (* (/ 432009220123291.0 2000000000000000.0) ?x2220 (* (- (/ 650980994105339.0 5000000000000000.0 ?x2222 (* (/ 53815683349967.0 156250000000000.0) ?x2224',\n",
              "  'parent': 'Axioms'},\n",
              " {'name': 'let ((?x3479 (+ ?x2679 (- (/ 3109855204820633.0 200000000000000000.0)',\n",
              "  'parent': 'Axioms'},\n",
              " {'name': 'let ((?x2554 (+ (+ (+ (* (- (/ 2908864915370941.0 5000000000000000.0 ?x2902) (* (/ 8543635606765747.0 20000000000000000.0) ?x2245 (* (- (/ 115036906208843.0 25000000000000000.0 ?x2246 (* (- (/ 7242065668106079.0 25000000000000000.0 ?x2181',\n",
              "  'parent': 'Axioms'},\n",
              " {'name': 'let ((?x2566 (+ (+ (+ (+ ?x2554 (* (/ 560958981513977.0 2000000000000000.0) ?x2235 (* (/ 176860298961401.0 625000000000000.0) ?x2237 (* (- (/ 124265868216753.0 1250000000000000.0 ?x2239 (* (- (/ 1301620602607727.0 5000000000000000.0 ?x2241',\n",
              "  'parent': 'Axioms'},\n",
              " {'name': 'let ((?x2577 (+ (+ (+ (+ ?x2566 (* (/ 868531409651041.0 12500000000000000.0) ?x2243 (* (/ 11784419417381287.0 100000000000000000.0) ?x2086 (* (- (/ 938393846154213.0 5000000000000000.0 ?x2225 (* (- (/ 165016508102417.0 400000000000000.0 ?x2227',\n",
              "  'parent': 'Axioms'},\n",
              " {'name': 'let ((?x2589 (+ (+ (+ (+ ?x2577 (* (/ 613671064376831.0 2000000000000000.0) ?x2229 (* (- (/ 1031753420829773.0 12500000000000000.0 ?x2231 (* (/ 6440790295600891.0 10000000000000000.0) ?x2233 (* (/ 1730780154466629.0 20000000000000000.0) ?x2066',\n",
              "  'parent': 'Axioms'},\n",
              " {'name': 'let ((?x2600 (+ (+ (+ (+ ?x2589 (* (- (/ 3513853996992111.0 50000000000000000.0 ?x2067 (* (- (/ 36889705061912537.0 100000000000000000.0 ?x2220 (* (/ 8298937976360321.0 25000000000000000.0) ?x2222 (* (/ 5461636558175087.0 25000000000000000.0) ?x2224',\n",
              "  'parent': 'Axioms'},\n",
              " {'name': 'let ((?x3477 (+ ?x2600 (/ 2720276638865471.0 25000000000000000.0',\n",
              "  'parent': 'Axioms'},\n",
              " {'name': 'let ((?x2519 (+ (+ (+ (* (/ 11503385379910469.0 250000000000000000.0) ?x2902) (* (/ 4141232967376709.0 10000000000000000.0) ?x2245 (* (/ 12056639045476913.0 100000000000000000.0) ?x2246 (* (/ 13904745876789093.0 100000000000000000.0) ?x2181',\n",
              "  'parent': 'Axioms'},\n",
              " {'name': 'let ((?x2531 (+ (+ (+ (+ ?x2519 (* (/ 6838579475879669.0 50000000000000000.0) ?x2235 (* (/ 4933745265007019.0 10000000000000000.0) ?x2237 (* (- (/ 3054174967110157.0 12500000000000000.0 ?x2239 (* (- (/ 4764406755566597.0 25000000000000000.0 ?x2241',\n",
              "  'parent': 'Axioms'},\n",
              " {'name': 'let ((?x2543 (+ (+ (+ (+ ?x2531 (* (/ 8571227639913559.0 25000000000000000.0) ?x2243 (* (- (/ 992899164557457.0 5000000000000000.0 ?x2086 (* (/ 3813725709915161.0 100000000000000000.0) ?x2225 (* (- (/ 4610282778739929.0 10000000000000000.0 ?x2227',\n",
              "  'parent': 'Axioms'},\n",
              " {'name': 'let ((?x2490 (+ (+ (+ (+ ?x2543 (* (- (/ 2228856235742569.0 20000000000000000.0 ?x2229 (* (/ 8663284033536911.0 25000000000000000.0) ?x2231 (* (/ 6838802248239517.0 50000000000000000.0) ?x2233 (* (/ 32501527667045593.0 100000000000000000.0) ?x2066',\n",
              "  'parent': 'Axioms'},\n",
              " {'name': 'let ((?x2502 (+ (+ (+ (+ ?x2490 (* (/ 5437628924846649.0 50000000000000000.0) ?x2067 (* (- (/ 9851919114589691.0 50000000000000000.0 ?x2220 (* (- (/ 1292509138584137.0 10000000000000000.0 ?x2222 (* (/ 7764753699302673.0 100000000000000000.0) ?x2224',\n",
              "  'parent': 'Axioms'},\n",
              " {'name': 'let ((?x3475 (+ ?x2502 (- (/ 1300223870202899.0 62500000000000000.0)',\n",
              "  'parent': 'Axioms'},\n",
              " {'name': 'let ((?x2461 (+ (+ (+ (* (/ 3144223615527153.0 12500000000000000.0) ?x2902) (* (- (/ 689854696393013.0 5000000000000000.0 ?x2245 (* (- (/ 20388194918632507.0 100000000000000000.0 ?x2246 (* (/ 33153384923934937.0 100000000000000000.0) ?x2181',\n",
              "  'parent': 'Axioms'},\n",
              " {'name': 'let ((?x2473 (+ (+ (+ (+ ?x2461 (* (/ 8963713049888611.0 50000000000000000.0) ?x2235 (* (/ 10076005011796951.0 100000000000000000.0) ?x2237 (* (- (/ 35492023825645447.0 100000000000000000.0 ?x2239 (* (/ 16682489216327667.0 50000000000000000.0) ?x2241',\n",
              "  'parent': 'Axioms'},\n",
              " {'name': 'let ((?x2420 (+ (+ (+ (+ ?x2473 (* (/ 2016032487154007.0 12500000000000000.0) ?x2243 (* (/ 9724626690149307.0 100000000000000000.0) ?x2086 (* (/ 22257964313030243.0 50000000000000000.0) ?x2225 (* (/ 6810498982667923.0 100000000000000000.0) ?x2227',\n",
              "  'parent': 'Axioms'},\n",
              " {'name': 'let ((?x2432 (+ (+ (+ (+ ?x2420 (* (- (/ 9970609098672867.0 50000000000000000.0 ?x2229 (* (/ 759991928935051.0 2500000000000000.0) ?x2231 (* (/ 2579682171344757.0 10000000000000000.0) ?x2233 (* (- (/ 1686321347951889.0 20000000000000000.0 ?x2066',\n",
              "  'parent': 'Axioms'},\n",
              " {'name': 'let ((?x2506 (+ (+ (+ (+ ?x2432 (* (- (/ 274624764919281.0 2000000000000000.0 ?x2067 (* (- (/ 267898291349411.0 1000000000000000.0 ?x2220 (* (/ 39319540373981.0 312500000000000.0) ?x2222 (* (- (/ 8656991273164749.0 50000000000000000.0 ?x2224',\n",
              "  'parent': 'Axioms'},\n",
              " {'name': 'let ((?x3473 (+ ?x2506 (/ 5414101481437683.0 50000000000000000.0',\n",
              "  'parent': 'Axioms'},\n",
              " {'name': 'let ((?x2381 (+ (+ (+ (* (- (/ 5158408358693123.0 50000000000000000.0 ?x2902) (* (- (/ 1480492576956749.0 25000000000000000.0 ?x2245 (* (- (/ 1411401629447937.0 5000000000000000.0 ?x2246 (* (/ 599124887958169.0 6250000000000000.0) ?x2181',\n",
              "  'parent': 'Axioms'},\n",
              " {'name': 'let ((?x2392 (+ (+ (+ (+ ?x2381 (* (/ 22176212072372437.0 100000000000000000.0) ?x2235 (* (/ 3669997677206993.0 25000000000000000.0) ?x2237 (* (/ 5420985221862793.0 20000000000000000.0) ?x2239 (* (/ 788692831993103.0 2500000000000000.0) ?x2241',\n",
              "  'parent': 'Axioms'},\n",
              " {'name': 'let ((?x2404 (+ (+ (+ (+ ?x2392 (* (/ 2616793215274811.0 10000000000000000.0) ?x2243 (* (- (/ 166540015488863.0 625000000000000.0 ?x2086 (* (- (/ 214622113853693.0 1250000000000000.0 ?x2225 (* (/ 18319888412952423.0 100000000000000000.0) ?x2227',\n",
              "  'parent': 'Axioms'},\n",
              " {'name': 'let ((?x2925 (+ (+ (+ (+ ?x2404 (* (/ 3331873193383217.0 50000000000000000.0) ?x2229 (* (- (/ 127776013687253.0 1562500000000000.0 ?x2231 (* (- (/ 7552139759063721.0 10000000000000000.0 ?x2233 (* (/ 20305506885051727.0 100000000000000000.0) ?x2066',\n",
              "  'parent': 'Axioms'},\n",
              " {'name': 'let ((?x2450 (+ (+ (+ (+ ?x2925 (* (/ 1727299578487873.0 100000000000000000.0) ?x2067 (* (- (/ 3956209421157837.0 20000000000000000.0 ?x2220 (* (/ 1811773031949997.0 10000000000000000.0) ?x2222 (* (/ 1429462106898427.0 31250000000000000.0) ?x2224',\n",
              "  'parent': 'Axioms'},\n",
              " {'name': 'let ((?x3471 (+ ?x2450 (/ 1635574921965599.0 12500000000000000.0',\n",
              "  'parent': 'Axioms'},\n",
              " {'name': 'let ((?x2282 (+ (+ (+ (* (- (/ 13927310705184937.0 100000000000000000.0 ?x2902) (* (/ 1389414370059967.0 20000000000000000.0) ?x2245 (* (/ 190519317984581.0 1000000000000000.0) ?x2246 (* (/ 18404465913772583.0 100000000000000000.0) ?x2181',\n",
              "  'parent': 'Axioms'},\n",
              " {'name': 'let ((?x2294 (+ (+ (+ (+ ?x2282 (* (/ 3899824321269989.0 20000000000000000.0) ?x2235 (* (- (/ 9375123679637909.0 25000000000000000.0 ?x2237 (* (/ 1600639969110489.0 5000000000000000.0) ?x2239 (* (/ 2636255919933319.0 20000000000000000.0) ?x2241',\n",
              "  'parent': 'Axioms'},\n",
              " {'name': 'let ((?x2347 (+ (+ (+ (+ ?x2294 (* (- (/ 34696856141090393.0 100000000000000000.0 ?x2243 (* (- (/ 1570698320865631.0 5000000000000000.0 ?x2086 (* (- (/ 13826784491539001.0 100000000000000000.0 ?x2225 (* (- (/ 917370617389679.0 50000000000000000.0 ?x2227',\n",
              "  'parent': 'Axioms'},\n",
              " {'name': 'let ((?x2361 (+ (+ (+ (+ ?x2347 (* (- (/ 17483134288340807.0 5000000000000000000.0 ?x2229 (* (- (/ 10650095343589783.0 100000000000000000.0 ?x2231 (* (/ 10678553581237793.0 200000000000000000.0) ?x2233 (* (- (/ 322842538356781.0 2000000000000000.0 ?x2066',\n",
              "  'parent': 'Axioms'},\n",
              " {'name': 'let ((?x2370 (+ (+ (+ (+ ?x2361 (* (/ 1772981882095337.0 5000000000000000.0) ?x2067 (* (- (/ 2494092583656311.0 10000000000000000.0 ?x2220 (* (/ 340994268655777.0 1000000000000000.0) ?x2222 (* (- (/ 4660040885210037.0 100000000000000000.0 ?x2224',\n",
              "  'parent': 'Axioms'},\n",
              " {'name': 'let ((?x3469 (+ ?x2370 (- (/ 3409301396459341.0 500000000000000000.0)',\n",
              "  'parent': 'Axioms'},\n",
              " {'name': 'let ((?x2262 (+ (+ (+ (* (/ 515059195458889.0 1562500000000000.0) ?x2902) (* (- (/ 3902604877948761.0 5000000000000000.0 ?x2245 (* (/ 205342099070549.0 625000000000000.0) ?x2246 (* (- (/ 591932088136673.0 5000000000000000.0 ?x2181',\n",
              "  'parent': 'Axioms'},\n",
              " {'name': 'let ((?x2298 (+ (+ (+ (+ ?x2262 (* (- (/ 12802639603614807.0 100000000000000000.0 ?x2235 (* (- (/ 1963919699192047.0 10000000000000000.0 ?x2237 (* (/ 2010643668472767.0 100000000000000000.0) ?x2239 (* (- (/ 2079395018517971.0 25000000000000000.0 ?x2241',\n",
              "  'parent': 'Axioms'},\n",
              " {'name': 'let ((?x2310 (+ (+ (+ (+ ?x2298 (* (- (/ 19686155021190643.0 100000000000000000.0 ?x2243 (* (- (/ 2973649203777313.0 10000000000000000.0 ?x2086 (* (/ 19224652647972107.0 50000000000000000.0) ?x2225 (* (/ 5604134127497673.0 25000000000000000.0) ?x2227',\n",
              "  'parent': 'Axioms'},\n",
              " {'name': 'let ((?x2322 (+ (+ (+ (+ ?x2310 (* (/ 92474902048707.0 312500000000000.0) ?x2229 (* (- (/ 4275326058268547.0 12500000000000000.0 ?x2231 (* (- (/ 8631631731987.0 25000000000000.0 ?x2233 (* (- (/ 1453262404538691.0 250000000000000000.0 ?x2066',\n",
              "  'parent': 'Axioms'},\n",
              " {'name': 'let ((?x2334 (+ (+ (+ (+ ?x2322 (* (/ 1111895203590393.0 2000000000000000.0) ?x2067 (* (/ 2993190661072731.0 6250000000000000.0) ?x2220 (* (/ 3304291069507599.0 10000000000000000.0) ?x2222 (* (/ 3437429964542389.0 20000000000000000.0) ?x2224',\n",
              "  'parent': 'Axioms'},\n",
              " {'name': 'let ((?x3525 (+ ?x2334 (- (/ 5315239354968071.0 25000000000000000.0)',\n",
              "  'parent': 'Axioms'},\n",
              " {'name': 'let ((?x1932 (+ (+ (+ (* (- (/ 157401442527771.0 4000000000000000.0 ?x2902) (* (/ 5605500340461731.0 20000000000000000.0) ?x2245 (* (- (/ 8882245421409607.0 20000000000000000.0 ?x2246 (* (- (/ 2870527096092701.0 12500000000000000.0 ?x2181',\n",
              "  'parent': 'Axioms'},\n",
              " {'name': 'let ((?x1911 (+ (+ (+ (+ ?x1932 (* (/ 901087187230587.0 6250000000000000.0) ?x2235 (* (/ 733078122138977.0 20000000000000000.0) ?x2237 (* (/ 7829955220222473.0 50000000000000000.0) ?x2239 (* (- (/ 12373320013284683.0 100000000000000000.0 ?x2241',\n",
              "  'parent': 'Axioms'},\n",
              " {'name': 'let ((?x1890 (+ (+ (+ (+ ?x1911 (* (/ 1024462515488267.0 125000000000000000.0) ?x2243 (* (/ 4123862087726593.0 20000000000000000.0) ?x2086 (* (- (/ 4062579274177551.0 10000000000000000.0 ?x2225 (* (/ 1781654916703701.0 12500000000000000.0) ?x2227',\n",
              "  'parent': 'Axioms'},\n",
              " {'name': 'let ((?x1886 (+ (+ (+ (+ ?x1890 (* (- (/ 2070731669664383.0 5000000000000000.0 ?x2229 (* (/ 21501967310905457.0 100000000000000000.0) ?x2231 (* (- (/ 9466468691825867.0 10000000000000000.0 ?x2233 (* (- (/ 6531132012605667.0 100000000000000000.0 ?x2066',\n",
              "  'parent': 'Axioms'},\n",
              " {'name': 'let ((?x1862 (+ (+ (+ (+ ?x1886 (* (- (/ 702899694442749.0 10000000000000000.0 ?x2067 (* (/ 384585652500391.0 3125000000000000.0) ?x2220 (* (/ 6198172923177481.0 1000000000000000000.0) ?x2222 (* (/ 2910870686173439.0 12500000000000000.0) ?x2224',\n",
              "  'parent': 'Axioms'},\n",
              " {'name': 'let ((?x3526 (+ ?x1862 (/ 5028712749481201.0 50000000000000000.0',\n",
              "  'parent': 'Axioms'},\n",
              " {'name': 'let ((?x2904 (+ (+ (+ (* (/ 7055714726448059.0 250000000000000000.0) ?x2902) (* (/ 1326479434967041.0 4000000000000000.0) ?x2245 (* (- (/ 6434759497642517.0 50000000000000000.0 ?x2246 (* (- (/ 7511007785797119.0 50000000000000000.0 ?x2181',\n",
              "  'parent': 'Axioms'},\n",
              " {'name': 'let ((?x1951 (+ (+ (+ (+ ?x2904 (* (- (/ 2573264241218567.0 10000000000000000.0 ?x2235 (* (- (/ 2373461276292801.0 10000000000000000.0 ?x2237 (* (- (/ 8405900001525879.0 100000000000000000.0 ?x2239 (* (/ 16090434789657593.0 100000000000000000.0) ?x2241',\n",
              "  'parent': 'Axioms'},\n",
              " {'name': 'let ((?x2004 (+ (+ (+ (+ ?x1951 (* (/ 195695698261261.0 1000000000000000.0) ?x2243 (* (/ 1745462417602539.0 12500000000000000.0) ?x2086 (* (- (/ 23663772642612457.0 100000000000000000.0 ?x2225 (* (/ 2879524976015091.0 25000000000000000.0) ?x2227',\n",
              "  'parent': 'Axioms'},\n",
              " {'name': 'let ((?x2000 (+ (+ (+ (+ ?x2004 (* (/ 911015272140503.0 50000000000000000.0) ?x2229 (* (- (/ 7838054746389389.0 25000000000000000.0 ?x2231 (* (- (/ 8971700072288513.0 50000000000000000.0 ?x2233 (* (- (/ 9433159232139587.0 100000000000000000.0 ?x2066',\n",
              "  'parent': 'Axioms'},\n",
              " {'name': 'let ((?x1976 (+ (+ (+ (+ ?x2000 (* (- (/ 1297676682472229.0 4000000000000000.0 ?x2067 (* (- (/ 10883530974388123.0 100000000000000000.0 ?x2220 (* (/ 24459081888198853.0 100000000000000000.0) ?x2222 (* (- (/ 86173415184021.0 781250000000000.0 ?x2224',\n",
              "  'parent': 'Axioms'},\n",
              " {'name': 'let ((?x3528 (+ ?x1976 0.0)', 'parent': 'Axioms'},\n",
              " {'name': 'let ((?x2093 (+ (+ (+ (* (/ 709946870803833.0 4000000000000000.0) ?x2902) (* (/ 5619237944483757.0 25000000000000000.0) ?x2245 (* (- (/ 934950590133667.0 2000000000000000.0 ?x2246 (* (- (/ 2768043279647827.0 10000000000000000.0 ?x2181',\n",
              "  'parent': 'Axioms'},\n",
              " {'name': 'let ((?x2069 (+ (+ (+ (+ ?x2093 (* (/ 1387509424239397.0 50000000000000000.0) ?x2235 (* (- (/ 286429263651371.0 1250000000000000.0 ?x2237 (* (- (/ 3170899301767349.0 100000000000000000.0 ?x2239 (* (/ 17958885431289673.0 50000000000000000.0) ?x2241',\n",
              "  'parent': 'Axioms'},\n",
              " {'name': 'let ((?x2084 (+ (+ (+ (+ ?x2069 (* (- (/ 2529100701212883.0 100000000000000000.0 ?x2243 (* (- (/ 2292589470744133.0 12500000000000000.0 ?x2086 (* (/ 2632356584072113.0 20000000000000000.0) ?x2225 (* (- (/ 10257109999656677.0 50000000000000000.0 ?x2227',\n",
              "  'parent': 'Axioms'},\n",
              " {'name': 'let ((?x2021 (+ (+ (+ (+ ?x2084 (* (- (/ 9165763854980469.0 100000000000000000.0 ?x2229 (* (/ 1433174729347229.0 4000000000000000.0) ?x2231 (* (- (/ 9074960947036743.0 10000000000000000.0 ?x2233 (* (/ 12385736405849457.0 50000000000000000.0) ?x2066',\n",
              "  'parent': 'Axioms'},\n",
              " {'name': 'let ((?x2026 (+ (+ (+ (+ ?x2021 (* (- (/ 516631007194519.0 2000000000000000.0 ?x2067 (* (/ 4388619065284729.0 20000000000000000.0) ?x2220 (* (/ 992386694997549.0 12500000000000000.0) ?x2222 (* (- (/ 7366878539323807.0 50000000000000000.0 ?x2224',\n",
              "  'parent': 'Axioms'},\n",
              " {'name': 'let ((?x3521 (+ ?x2026 (/ 8048694580793381.0 100000000000000000.0',\n",
              "  'parent': 'Axioms'},\n",
              " {'name': 'let ((?x2139 (+ (+ (+ (* (/ 1714000478386879.0 12500000000000000.0) ?x2902) (* (/ 313355284743011.0 3125000000000000.0) ?x2245 (* (- (/ 6723837852478027.0 10000000000000000.0 ?x2246 (* (/ 1924024373292923.0 10000000000000000.0) ?x2181',\n",
              "  'parent': 'Axioms'},\n",
              " {'name': 'let ((?x2132 (+ (+ (+ (+ ?x2139 (* (- (/ 692993625998497.0 5000000000000000.0 ?x2235 (* (/ 7662810683250427.0 10000000000000000.0) ?x2237 (* (- (/ 1755283959209919.0 6250000000000000.0 ?x2239 (* (- (/ 2187313437461853.0 10000000000000000.0 ?x2241',\n",
              "  'parent': 'Axioms'},\n",
              " {'name': 'let ((?x2119 (+ (+ (+ (+ ?x2132 (* (- (/ 45990297198295593.0 100000000000000000.0 ?x2243 (* (- (/ 24045775830745697.0 100000000000000000.0 ?x2086 (* (/ 19122007489204407.0 100000000000000000.0) ?x2225 (* (- (/ 4777984693646431.0 50000000000000000.0 ?x2227',\n",
              "  'parent': 'Axioms'},\n",
              " {'name': 'let ((?x2043 (+ (+ (+ (+ ?x2119 (* (- (/ 28725431766361.0 39062500000000.0 ?x2229 (* (/ 11293932795524597.0 50000000000000000.0) ?x2231 (* (/ 19485974311828613.0 100000000000000000.0) ?x2233 (* (/ 1932878941297531.0 5000000000000000.0) ?x2066',\n",
              "  'parent': 'Axioms'},\n",
              " {'name': 'let ((?x2051 (+ (+ (+ (+ ?x2043 (* (/ 264732301235199.0 1000000000000000.0) ?x2067 (* (- (/ 3064432144165039.0 10000000000000000.0 ?x2220 (* (- (/ 1601245105266571.0 10000000000000000.0 ?x2222 (* (- (/ 4466438889503479.0 10000000000000000.0 ?x2224',\n",
              "  'parent': 'Axioms'},\n",
              " {'name': 'let ((?x3519 (+ ?x2051 (- (/ 2970165340229869.0 500000000000000000.0)',\n",
              "  'parent': 'Axioms'},\n",
              " {'name': 'let ((?x2054 (+ (+ (+ (* (- (/ 4763854146003723.0 5000000000000000.0 ?x2902) (* (/ 1089348316192627.0 2000000000000000.0) ?x2245 (* (- (/ 1731225997209549.0 2500000000000000.0 ?x2246 (* (- (/ 8271152377128601.0 10000000000000000.0 ?x2181',\n",
              "  'parent': 'Axioms'},\n",
              " {'name': 'let ((?x2914 (+ (+ (+ (+ ?x2054 (* (- (/ 365636870265007.0 625000000000000.0 ?x2235 (* (/ 39741402864456177.0 100000000000000000.0) ?x2237 (* (- (/ 765388235449791.0 1250000000000000.0 ?x2239 (* (- (/ 1326683759689331.0 2500000000000000.0 ?x2241',\n",
              "  'parent': 'Axioms'},\n",
              " {'name': 'let ((?x2182 (+ (+ (+ (+ ?x2914 (* (- (/ 171603262424469.0 250000000000000.0 ?x2243 (* (- (/ 12649214267730713.0 100000000000000000.0 ?x2086 (* (- (/ 433596707880497.0 1250000000000000.0 ?x2225 (* (- (/ 22866329550743103.0 100000000000000000.0 ?x2227',\n",
              "  'parent': 'Axioms'},\n",
              " {'name': 'let ((?x2159 (+ (+ (+ (+ ?x2182 (* (- (/ 8603479266166687.0 10000000000000000.0 ?x2229 (* (/ 788455531001091.0 5000000000000000.0) ?x2231 (* (/ 3772764503955841.0 5000000000000000.0) ?x2233 (* (/ 11781439930200577.0 50000000000000000.0) ?x2066',\n",
              "  'parent': 'Axioms'},\n",
              " {'name': 'let ((?x2153 (+ (+ (+ (+ ?x2159 (* (- (/ 4410621225833893.0 10000000000000000.0 ?x2067 (* (- (/ 9670689105987549.0 10000000000000000.0 ?x2220 (* (- (/ 5347921252250671.0 10000000000000000.0 ?x2222 (* (- (/ 5959334969520569.0 10000000000000000.0 ?x2224',\n",
              "  'parent': 'Axioms'},\n",
              " {'name': 'let ((?x3517 (+ ?x2153 (/ 2282915711402893.0 5000000000000000.0',\n",
              "  'parent': 'Axioms'},\n",
              " {'name': 'let ((?x3385 (+ (* (/ 979040339589119.0 1250000000000000.0) (ite (>= ?x3517 0.0) ?x3517 0.0 (* (/ 7574973106384277.0 10000000000000000.0) (ite (>= ?x3519 0.0) ?x3519 0.0)',\n",
              "  'parent': 'Axioms'},\n",
              " {'name': 'let ((?x3391 (+ (+ ?x3385 (* (- (/ 5627413988113403.0 10000000000000000.0 (ite (>= ?x3521 0.0) ?x3521 0.0) (* (- (/ 115727623924613.0 312500000000000.0 (ite (>= ?x3528 0.0) ?x3528 0.0)',\n",
              "  'parent': 'Axioms'},\n",
              " {'name': 'let ((?x3397 (+ (+ ?x3391 (* (- (/ 6589940190315247.0 10000000000000000.0 (ite (>= ?x3526 0.0) ?x3526 0.0) (* (/ 2456294596195221.0 2500000000000000.0) (ite (>= ?x3525 0.0) ?x3525 0.0)',\n",
              "  'parent': 'Axioms'},\n",
              " {'name': 'let ((?x3402 (+ (+ ?x3397 (* (/ 2588706910610199.0 10000000000000000.0) (ite (>= ?x3469 0.0) ?x3469 0.0) (* (- (/ 1201120913028717.0 20000000000000000.0 (ite (>= ?x3471 0.0) ?x3471 0.0)',\n",
              "  'parent': 'Axioms'},\n",
              " {'name': 'let ((?x3350 (+ (+ ?x3402 (* (- (/ 3559766411781311.0 10000000000000000.0 (ite (>= ?x3473 0.0) ?x3473 0.0) (* (/ 3376917541027069.0 10000000000000000.0) (ite (>= ?x3475 0.0) ?x3475 0.0)',\n",
              "  'parent': 'Axioms'},\n",
              " {'name': 'let ((?x3356 (+ (+ ?x3350 (* (/ 6511136889457703.0 10000000000000000.0) (ite (>= ?x3477 0.0) ?x3477 0.0) (* (- (/ 14227569103240967.0 100000000000000000.0 (ite (>= ?x3479 0.0) ?x3479 0.0)',\n",
              "  'parent': 'Axioms'},\n",
              " {'name': 'let ((?x3362 (+ (+ ?x3356 (* (/ 1017225980758667.0 1000000000000000.0) (ite (>= ?x3481 0.0) ?x3481 0.0) (* (- (/ 7335571199655533.0 50000000000000000.0 (ite (>= ?x3483 0.0) ?x3483 0.0)',\n",
              "  'parent': 'Axioms'},\n",
              " {'name': 'let ((?x3374 (+ (+ ?x3362 (* (- (/ 125184965133667.0 400000000000000.0 (ite (>= ?x3485 0.0) ?x3485 0.0) (* (- (/ 1278640627861023.0 5000000000000000.0 (ite (>= ?x3487 0.0) ?x3487 0.0)',\n",
              "  'parent': 'Axioms'},\n",
              " {'name': 'let ((?x3315 (+ (+ ?x3374 (* (- (/ 1103250503540039.0 2000000000000000.0 (ite (>= ?x3489 0.0) ?x3489 0.0) (* (- (/ 8657752275466919.0 20000000000000000.0 (ite (>= ?x3497 0.0) ?x3497 0.0)',\n",
              "  'parent': 'Axioms'},\n",
              " {'name': 'let ((?x3321 (+ (+ ?x3315 (* (/ 4166319966316223.0 10000000000000000.0) (ite (>= ?x3495 0.0) ?x3495 0.0) (* (/ 1006889820098877.0 1000000000000000.0) (ite (>= ?x3494 0.0) ?x3494 0.0)',\n",
              "  'parent': 'Axioms'},\n",
              " {'name': 'let ((?x3327 (+ (+ ?x3321 (* (- (/ 1626342236995697.0 5000000000000000.0 (ite (>= ?x3439 0.0) ?x3439 0.0) (* (- (/ 1749424934387207.0 10000000000000000.0 (ite (>= ?x3441 0.0) ?x3441 0.0)',\n",
              "  'parent': 'Axioms'},\n",
              " {'name': 'let ((?x3333 (+ (+ ?x3327 (* (- (/ 2625133693218231.0 5000000000000000.0 (ite (>= ?x3443 0.0) ?x3443 0.0) (* (- (/ 23927880823612213.0 50000000000000000.0 (ite (>= ?x3445 0.0) ?x3445 0.0)',\n",
              "  'parent': 'Axioms'},\n",
              " {'name': 'let ((?x3344 (+ (+ ?x3333 (* (/ 838262289762497.0 1250000000000000.0) (ite (>= ?x3447 0.0) ?x3447 0.0) (- (/ 6081594154238701.0 100000000000000000.0)',\n",
              "  'parent': 'Axioms'},\n",
              " {'name': 'let ((?x2885 (- ?x3344 ?x69)', 'parent': 'Axioms'}]"
            ]
          },
          "metadata": {},
          "execution_count": 71
        }
      ]
    },
    {
      "cell_type": "code",
      "source": [
        "s.to_smt2().split(\"\\n\")"
      ],
      "metadata": {
        "colab": {
          "base_uri": "https://localhost:8080/"
        },
        "id": "2Of6GOeyBJ9f",
        "outputId": "4d47c7d8-1751-4382-bfd7-3897986d2965"
      },
      "execution_count": 72,
      "outputs": [
        {
          "output_type": "execute_result",
          "data": {
            "text/plain": [
              "['; benchmark generated from python API',\n",
              " '(set-info :status unknown)',\n",
              " '(declare-fun x () Real)',\n",
              " '(assert',\n",
              " ' (>= x (- 1.0)))',\n",
              " '(assert',\n",
              " ' (<= x 1.0))',\n",
              " '(assert',\n",
              " ' (let ((?x69 (+ (- (* 8.0 (^ x 4.0)) (* 8.0 (^ x 2.0))) 1.0)))',\n",
              " ' (let ((?x1919 (* (/ 3558933138847351.0 10000000000000000.0) x)))',\n",
              " ' (let ((?x1947 (+ ?x1919 (/ 217914255335927.0 3125000000000000.0))))',\n",
              " ' (let ((?x2224 (ite (>= ?x1947 0.0) ?x1947 0.0)))',\n",
              " ' (let ((?x1921 (* (/ 1393773853778839.0 5000000000000000.0) x)))',\n",
              " ' (let ((?x2190 (+ ?x1921 (- (/ 1193377305753529.0 1000000000000000000.0)))))',\n",
              " ' (let ((?x2222 (ite (>= ?x2190 0.0) ?x2190 0.0)))',\n",
              " ' (let ((?x2248 (* (- (/ 7260363101959229.0 10000000000000000.0)) x)))',\n",
              " ' (let ((?x2188 (+ ?x2248 (- (/ 6936235725879669.0 100000000000000000.0)))))',\n",
              " ' (let ((?x2220 (ite (>= ?x2188 0.0) ?x2188 0.0)))',\n",
              " ' (let ((?x2257 (* (- (/ 37275436520576477.0 100000000000000000.0)) x)))',\n",
              " ' (let ((?x1989 (+ ?x2257 (- (/ 155645115301013.0 625000000000000.0)))))',\n",
              " ' (let ((?x2067 (ite (>= ?x1989 0.0) ?x1989 0.0)))',\n",
              " ' (let ((?x2255 (* (/ 4787672758102417.0 10000000000000000.0) x)))',\n",
              " ' (let ((?x2186 (+ ?x2255 (/ 2659638226032257.0 10000000000000000.0))))',\n",
              " ' (let ((?x2066 (ite (>= ?x2186 0.0) ?x2186 0.0)))',\n",
              " ' (let ((?x2253 (* (- (/ 542846143245697.0 1000000000000000.0)) x)))',\n",
              " ' (let ((?x1861 (+ ?x2253 (/ 8364047110080719.0 25000000000000000.0))))',\n",
              " ' (let ((?x2233 (ite (>= ?x1861 0.0) ?x1861 0.0)))',\n",
              " ' (let ((?x1927 (* (/ 972873792052269.0 2500000000000000.0) x)))',\n",
              " ' (let ((?x1983 (+ ?x1927 (/ 1679030179977417.0 4000000000000000.0))))',\n",
              " ' (let ((?x2231 (ite (>= ?x1983 0.0) ?x1983 0.0)))',\n",
              " ' (let ((?x2063 (* (/ 8002495169639587.0 10000000000000000.0) x)))',\n",
              " ' (let ((?x1981 (+ ?x2063 (- (/ 10975019633769989.0 50000000000000000.0)))))',\n",
              " ' (let ((?x2229 (ite (>= ?x1981 0.0) ?x1981 0.0)))',\n",
              " ' (let ((?x2252 (* (- (/ 1944227933883667.0 4000000000000000.0)) x)))',\n",
              " ' (let ((?x2192 (+ ?x2252 (/ 2750219590961933.0 50000000000000000.0))))',\n",
              " ' (let ((?x2227 (ite (>= ?x2192 0.0) ?x2192 0.0)))',\n",
              " ' (let ((?x1925 (* (- (/ 6697056293487549.0 10000000000000000.0)) x)))',\n",
              " ' (let ((?x2915 (+ ?x1925 (/ 5352228134870529.0 100000000000000000.0))))',\n",
              " ' (let ((?x2225 (ite (>= ?x2915 0.0) ?x2915 0.0)))',\n",
              " ' (let ((?x1945 (* (/ 39486604928970337.0 100000000000000000.0) x)))',\n",
              " ' (let ((?x2203 (+ ?x1945 (/ 7180449366569519.0 100000000000000000.0))))',\n",
              " ' (let ((?x2086 (ite (>= ?x2203 0.0) ?x2203 0.0)))',\n",
              " ' (let ((?x3369 (* (/ 439944863319397.0 1000000000000000.0) x)))',\n",
              " ' (let ((?x1888 (+ ?x3369 (- (/ 13403661549091339.0 500000000000000000.0)))))',\n",
              " ' (let ((?x2243 (ite (>= ?x1888 0.0) ?x1888 0.0)))',\n",
              " ' (let ((?x3523 (* (/ 3183300793170929.0 25000000000000000.0) x)))',\n",
              " ' (let ((?x2201 (+ ?x3523 (/ 29245059937238693.0 500000000000000000.0))))',\n",
              " ' (let ((?x2241 (ite (>= ?x2201 0.0) ?x2201 0.0)))',\n",
              " ' (let ((?x3616 (* (/ 3736991286277771.0 10000000000000000.0) x)))',\n",
              " ' (let ((?x2200 (+ ?x3616 (- (/ 8345687389373779.0 100000000000000000.0)))))',\n",
              " ' (let ((?x2239 (ite (>= ?x2200 0.0) ?x2200 0.0)))',\n",
              " ' (let ((?x3338 (* (/ 14429275691509247.0 50000000000000000.0) x)))',\n",
              " ' (let ((?x2198 (+ ?x3338 (/ 7013551890850067.0 50000000000000000.0))))',\n",
              " ' (let ((?x2237 (ite (>= ?x2198 0.0) ?x2198 0.0)))',\n",
              " ' (let ((?x3554 (* (/ 43114137649536133.0 100000000000000000.0) x)))',\n",
              " ' (let ((?x2196 (+ ?x3554 (/ 8451308310031891.0 100000000000000000.0))))',\n",
              " ' (let ((?x2235 (ite (>= ?x2196 0.0) ?x2196 0.0)))',\n",
              " ' (let ((?x3400 (* (- (/ 5119437575340271.0 10000000000000000.0)) x)))',\n",
              " ' (let ((?x2194 (+ ?x3400 (- (/ 111975590698421.0 781250000000000.0)))))',\n",
              " ' (let ((?x2181 (ite (>= ?x2194 0.0) ?x2194 0.0)))',\n",
              " ' (let ((?x1939 (* (/ 2788543403148651.0 5000000000000000.0) x)))',\n",
              " ' (let ((?x1903 (+ ?x1939 (- (/ 2765195965766907.0 10000000000000000.0)))))',\n",
              " ' (let ((?x2246 (ite (>= ?x1903 0.0) ?x1903 0.0)))',\n",
              " ' (let ((?x1931 (* (/ 16922958195209503.0 50000000000000000.0) x)))',\n",
              " ' (let ((?x1905 (+ ?x1931 (/ 33907952904701233.0 100000000000000000.0))))',\n",
              " ' (let ((?x2245 (ite (>= ?x1905 0.0) ?x1905 0.0)))',\n",
              " ' (let ((?x3023 (* (- (/ 7853483557701111.0 10000000000000000.0)) x)))',\n",
              " ' (let ((?x1898 (+ ?x3023 (- (/ 3660890832543373.0 25000000000000000.0)))))',\n",
              " ' (let ((?x2902 (ite (>= ?x1898 0.0) ?x1898 0.0)))',\n",
              " ' (let ((?x3591 (+ (+ (+ (* (/ 6490950584411621.0 20000000000000000.0) ?x2902) (* (- (/ 11484981775283813.0 10000000000000000.0)) ?x2245)) (* (/ 432949036359787.0 2000000000000000.0) ?x2246)) (* (/ 2137042135000229.0 5000000000000000.0) ?x2181))))',\n",
              " ' (let ((?x3538 (+ (+ (+ (+ ?x3591 (* (/ 20279349386692047.0 100000000000000000.0) ?x2235)) (* (/ 7484125904738903.0 125000000000000000.0) ?x2237)) (* (- (/ 656512975692749.0 2000000000000000.0)) ?x2239)) (* (/ 35232090950012207.0 100000000000000000.0) ?x2241))))',\n",
              " ' (let ((?x3550 (+ (+ (+ (+ ?x3538 (* (- (/ 4502696916460991.0 25000000000000000.0)) ?x2243)) (* (/ 2585888206958771.0 10000000000000000.0) ?x2086)) (* (- (/ 1300530582666397.0 20000000000000000.0)) ?x2225)) (* (/ 10739301890134811.0 100000000000000000.0) ?x2227))))',\n",
              " ' (let ((?x3503 (+ (+ (+ (+ ?x3550 (* (/ 2088082954287529.0 62500000000000000.0) ?x2229)) (* (- (/ 5916609168052673.0 10000000000000000.0)) ?x2231)) (* (/ 166585773229599.0 2000000000000000.0) ?x2233)) (* (- (/ 911765843629837.0 2500000000000000.0)) ?x2066))))',\n",
              " ' (let ((?x3515 (+ (+ (+ (+ ?x3503 (* (/ 6693723797798157.0 10000000000000000.0) ?x2067)) (* (/ 500806450843811.0 1000000000000000.0) ?x2220)) (* (/ 3278796076774597.0 10000000000000000.0) ?x2222)) (* (- (/ 4620474949479103.0 100000000000000000.0)) ?x2224))))',\n",
              " ' (let ((?x3447 (+ ?x3515 (- (/ 1148445725440979.0 4000000000000000.0)))))',\n",
              " ' (let ((?x3644 (+ (+ (+ (* (- (/ 6374373435974121.0 20000000000000000.0)) ?x2902) (* (/ 1253014151006937.0 25000000000000000.0) ?x2245)) (* (- (/ 48213276267051697.0 100000000000000000.0)) ?x2246)) (* (/ 68746417760849.0 1000000000000000.0) ?x2181))))',\n",
              " ' (let ((?x3597 (+ (+ (+ (+ ?x3644 (* (/ 2021939866244793.0 25000000000000000.0) ?x2235)) (* (- (/ 5437532439827919.0 25000000000000000.0)) ?x2237)) (* (- (/ 27810700237751007.0 500000000000000000.0)) ?x2239)) (* (- (/ 1850370615720749.0 20000000000000000.0)) ?x2241))))',\n",
              " ' (let ((?x3609 (+ (+ (+ (+ ?x3597 (* (- (/ 27990278601646423.0 100000000000000000.0)) ?x2243)) (* (/ 15677443146705627.0 100000000000000000.0) ?x2086)) (* (- (/ 46851029992103577.0 100000000000000000.0)) ?x2225)) (* (- (/ 1858506441116333.0 4000000000000000.0)) ?x2227))))',\n",
              " ' (let ((?x3562 (+ (+ (+ (+ ?x3609 (* (- (/ 3135654330253601.0 100000000000000000.0)) ?x2229)) (* (/ 323241651058197.0 1000000000000000.0) ?x2231)) (* (- (/ 12004425525665283.0 10000000000000000.0)) ?x2233)) (* (/ 8685227483510971.0 100000000000000000.0) ?x2066))))',\n",
              " ' (let ((?x3574 (+ (+ (+ (+ ?x3562 (* (/ 1366361677646637.0 5000000000000000.0) ?x2067)) (* (- (/ 6664232164621353.0 50000000000000000.0)) ?x2220)) (* (- (/ 7173111289739609.0 50000000000000000.0)) ?x2222)) (* (/ 16895201802253723.0 100000000000000000.0) ?x2224))))',\n",
              " ' (let ((?x3445 (+ ?x3574 (/ 1132169459015131.0 6250000000000000.0))))',\n",
              " ' (let ((?x3702 (+ (+ (+ (* (/ 3367544710636139.0 25000000000000000.0) ?x2902) (* (- (/ 16642186045646667.0 100000000000000000.0)) ?x2245)) (* (/ 19380898773670197.0 100000000000000000.0) ?x2246)) (* (- (/ 10544184595346451.0 100000000000000000.0)) ?x2181))))',\n",
              " ' (let ((?x3656 (+ (+ (+ (+ ?x3702 (* (/ 17101341485977173.0 50000000000000000.0) ?x2235)) (* (- (/ 34621.0 131072.0)) ?x2237)) (* (/ 1745205819606781.0 20000000000000000.0) ?x2239)) (* (- (/ 1306465119123459.0 5000000000000000.0)) ?x2241))))',\n",
              " ' (let ((?x3668 (+ (+ (+ (+ ?x3656 (* (/ 4191465675830841.0 50000000000000000.0) ?x2243)) (* (- (/ 20412231981754303.0 100000000000000000.0)) ?x2086)) (* (/ 5711982250213623.0 20000000000000000.0) ?x2225)) (* (- (/ 10087151825428009.0 100000000000000000.0)) ?x2227))))',\n",
              " ' (let ((?x3677 (+ (+ (+ (+ ?x3668 (* (- (/ 1044289767742157.0 5000000000000000.0)) ?x2229)) (* (- (/ 7338526099920273.0 100000000000000000.0)) ?x2231)) (* (/ 2189294844865799.0 10000000000000000.0) ?x2233)) (* (- (/ 11565888300538063.0 500000000000000000.0)) ?x2066))))',\n",
              " ' (let ((?x3633 (+ (+ (+ (+ ?x3677 (* (- (/ 1691160649061203.0 5000000000000000.0)) ?x2067)) (* (/ 3345218300819397.0 10000000000000000.0) ?x2220)) (* (/ 912120845168829.0 12500000000000000.0) ?x2222)) (* (/ 14855198562145233.0 50000000000000000.0) ?x2224))))',\n",
              " ' (let ((?x3443 (+ ?x3633 (/ 4937533289194107.0 25000000000000000.0))))',\n",
              " ' (let ((?x3758 (+ (+ (+ (* (/ 3315490111708641.0 25000000000000000.0) ?x2902) (* (- (/ 982823371887207.0 5000000000000000.0)) ?x2245)) (* (- (/ 11152978055179119.0 1000000000000000000.0)) ?x2246)) (* (- (/ 2661987841129303.0 20000000000000000.0)) ?x2181))))',\n",
              " ' (let ((?x3772 (+ (+ (+ (+ ?x3758 (* (/ 461212731897831.0 12500000000000000.0) ?x2235)) (* (/ 10312298685312271.0 50000000000000000.0) ?x2237)) (* (- (/ 892016664147377.0 3125000000000000.0)) ?x2239)) (* (/ 6624795794487.0 20000000000000.0) ?x2241))))',\n",
              " ' (let ((?x3724 (+ (+ (+ (+ ?x3772 (* (/ 290439635515213.0 1000000000000000.0) ?x2243)) (* (/ 7349240779876709.0 20000000000000000.0) ?x2086)) (* (- (/ 11770765297114849.0 250000000000000000.0)) ?x2225)) (* (/ 811629444360733.0 5000000000000000.0) ?x2227))))',\n",
              " ' (let ((?x3736 (+ (+ (+ (+ ?x3724 (* (- (/ 1906973272562027.0 10000000000000000.0)) ?x2229)) (* (/ 256328821182251.0 1000000000000000.0) ?x2231)) (* (- (/ 11309666633605957.0 10000000000000000.0)) ?x2233)) (* (- (/ 3834618330001831.0 20000000000000000.0)) ?x2066))))',\n",
              " ' (let ((?x3691 (+ (+ (+ (+ ?x3736 (* (- (/ 17236176133155823.0 50000000000000000.0)) ?x2067)) (* (/ 476810596883297.0 20000000000000000.0) ?x2220)) (* (/ 4098198190331459.0 25000000000000000.0) ?x2222)) (* (- (/ 623910017311573.0 5000000000000000.0)) ?x2224))))',\n",
              " ' (let ((?x3441 (+ ?x3691 (/ 1023978665471077.0 5000000000000000.0))))',\n",
              " ' (let ((?x3815 (+ (+ (+ (* (/ 11649657040834427.0 50000000000000000.0) ?x2902) (* (/ 4033733606338501.0 20000000000000000.0) ?x2245)) (* (/ 10112558305263519.0 100000000000000000.0) ?x2246)) (* (- (/ 12298600375652313.0 50000000000000000.0)) ?x2181))))',\n",
              " ' (let ((?x3827 (+ (+ (+ (+ ?x3815 (* (- (/ 8153877407312393.0 100000000000000000.0)) ?x2235)) (* (- (/ 3545457124710083.0 12500000000000000.0)) ?x2237)) (* (- (/ 4208052158355713.0 25000000000000000.0)) ?x2239)) (* (/ 12845093384385109.0 1000000000000000000.0) ?x2241))))',\n",
              " ' (let ((?x3781 (+ (+ (+ (+ ?x3827 (* (- (/ 2529790811240673.0 25000000000000000.0)) ?x2243)) (* (/ 25735530257225037.0 100000000000000000.0) ?x2086)) (* (/ 17095470428466797.0 50000000000000000.0) ?x2225)) (* (/ 3558730185031891.0 10000000000000000.0) ?x2227))))',\n",
              " ' (let ((?x3793 (+ (+ (+ (+ ?x3781 (* (/ 3973483294248581.0 100000000000000000.0) ?x2229)) (* (/ 4033263623714447.0 20000000000000000.0) ?x2231)) (* (/ 17017762362957.0 50000000000000.0) ?x2233)) (* (- (/ 91930590569973.0 312500000000000.0)) ?x2066))))',\n",
              " ' (let ((?x3747 (+ (+ (+ (+ ?x3793 (* (- (/ 15677283704280853.0 100000000000000000.0)) ?x2067)) (* (- (/ 13404744677245617.0 2000000000000000000.0)) ?x2220)) (* (/ 10079222172498703.0 50000000000000000.0) ?x2222)) (* (/ 15841449797153473.0 50000000000000000.0) ?x2224))))',\n",
              " ' (let ((?x3439 (+ ?x3747 (/ 12492872774600983.0 100000000000000000.0))))',\n",
              " ' (let ((?x3874 (+ (+ (+ (* (/ 2861718535423279.0 5000000000000000.0) ?x2902) (* (- (/ 1527404546737671.0 1000000000000000.0)) ?x2245)) (* (/ 18070071935653687.0 100000000000000000.0) ?x2246)) (* (/ 5739007517695427.0 25000000000000000.0) ?x2181))))',\n",
              " ' (let ((?x3886 (+ (+ (+ (+ ?x3874 (* (- (/ 2287791483104229.0 12500000000000000.0)) ?x2235)) (* (- (/ 4884472191333771.0 10000000000000000.0)) ?x2237)) (* (/ 2824791520833969.0 25000000000000000.0) ?x2239)) (* (- (/ 2490759938955307.0 10000000000000000.0)) ?x2241))))',\n",
              " ' (let ((?x3839 (+ (+ (+ (+ ?x3886 (* (/ 787574052810669.0 25000000000000000.0) ?x2243)) (* (- (/ 5059957504272461.0 20000000000000000.0)) ?x2086)) (* (/ 892045870423317.0 2500000000000000.0) ?x2225)) (* (- (/ 4307548701763153.0 25000000000000000.0)) ?x2227))))',\n",
              " ' (let ((?x3851 (+ (+ (+ (+ ?x3839 (* (/ 6979739665985107.0 100000000000000000.0) ?x2229)) (* (- (/ 5009177327156067.0 5000000000000000.0)) ?x2231)) (* (/ 3112586447969079.0 125000000000000000.0) ?x2233)) (* (/ 2005808986723423.0 25000000000000000.0) ?x2066))))',\n",
              " ' (let ((?x3860 (+ (+ (+ (+ ?x3851 (* (/ 3132389783859253.0 20000000000000000.0) ?x2067)) (* (/ 3376404643058777.0 10000000000000000.0) ?x2220)) (* (/ 895330160856247.0 2500000000000000.0) ?x2222)) (* (/ 3894461691379547.0 25000000000000000.0) ?x2224))))',\n",
              " ' (let ((?x3494 (+ ?x3860 (- (/ 2719641923904419.0 10000000000000000.0)))))',\n",
              " ' (let ((?x3048 (+ (+ (+ (* (/ 11259627342224121.0 50000000000000000.0) ?x2902) (* (/ 27667930722236633.0 100000000000000000.0) ?x2245)) (* (/ 7555762529373169.0 20000000000000000.0) ?x2246)) (* (/ 1499509960412979.0 5000000000000000.0) ?x2181))))',\n",
              " ' (let ((?x3586 (+ (+ (+ (+ ?x3048 (* (/ 4284186288714409.0 50000000000000000.0) ?x2235)) (* (/ 1755029708147049.0 10000000000000000.0) ?x2237)) (* (/ 8673068881034851.0 25000000000000000.0) ?x2239)) (* (/ 1248610258102417.0 4000000000000000.0) ?x2241))))',\n",
              " ' (let ((?x3215 (+ (+ (+ (+ ?x3586 (* (- (/ 9572858363389969.0 100000000000000000.0)) ?x2243)) (* (/ 175120010972023.0 5000000000000000.0) ?x2086)) (* (- (/ 1508675366640091.0 10000000000000000.0)) ?x2225)) (* (- (/ 2040189802646637.0 10000000000000000.0)) ?x2227))))',\n",
              " ' (let ((?x3910 (+ (+ (+ (+ ?x3215 (* (/ 796569436788559.0 5000000000000000.0) ?x2229)) (* (/ 780827971175313.0 3125000000000000.0) ?x2231)) (* (/ 3237423300743103.0 10000000000000000.0) ?x2233)) (* (/ 5378827452659607.0 25000000000000000.0) ?x2066))))',\n",
              " ' (let ((?x3928 (+ (+ (+ (+ ?x3910 (* (/ 8689815551042557.0 50000000000000000.0) ?x2067)) (* (/ 2902798168361187.0 25000000000000000.0) ?x2220)) (* (- (/ 5625259503722191.0 100000000000000000.0)) ?x2222)) (* (- (/ 233804015442729.0 1562500000000000.0)) ?x2224))))',\n",
              " ' (let ((?x3495 (+ ?x3928 (- (/ 8059674501419067.0 100000000000000000.0)))))',\n",
              " ' (let ((?x2975 (+ (+ (+ (* (- (/ 42707.0 131072.0)) ?x2902) (* (/ 15388181805610657.0 100000000000000000.0) ?x2245)) (* (- (/ 47276774048805237.0 100000000000000000.0)) ?x2246)) (* (/ 16744953393936157.0 50000000000000000.0) ?x2181))))',\n",
              " ' (let ((?x52 (+ (+ (+ (+ ?x2975 (* (/ 3280549943447113.0 20000000000000000.0) ?x2235)) (* (/ 14369896054267883.0 100000000000000000.0) ?x2237)) (* (/ 20743395388126373.0 100000000000000000.0) ?x2239)) (* (/ 8754546195268631.0 25000000000000000.0) ?x2241))))',\n",
              " ' (let ((?x3017 (+ (+ (+ (+ ?x52 (* (/ 281877338886261.0 2000000000000000.0) ?x2243)) (* (/ 762045606970787.0 10000000000000000.0) ?x2086)) (* (- (/ 1532014012336731.0 10000000000000000.0)) ?x2225)) (* (- (/ 1186936441808939.0 6250000000000000.0)) ?x2227))))',\n",
              " ' (let ((?x3053 (+ (+ (+ (+ ?x3017 (* (- (/ 1764993965625763.0 10000000000000000.0)) ?x2229)) (* (/ 11380395293235779.0 100000000000000000.0) ?x2231)) (* (- (/ 3413432836532593.0 5000000000000000.0)) ?x2233)) (* (/ 13850007951259613.0 100000000000000000.0) ?x2066))))',\n",
              " ' (let ((?x3117 (+ (+ (+ (+ ?x3053 (* (/ 6979343295097351.0 50000000000000000.0) ?x2067)) (* (/ 6909996271133423.0 100000000000000000.0) ?x2220)) (* (- (/ 11723941564559937.0 100000000000000000.0)) ?x2222)) (* (- (/ 481385737657547.0 2500000000000000.0)) ?x2224))))',\n",
              " ' (let ((?x3497 (+ ?x3117 (/ 812307745218277.0 12500000000000000.0))))',\n",
              " ' (let ((?x2273 (+ (+ (+ (* (- (/ 15876835584640503.0 50000000000000000.0)) ?x2902) (* (- (/ 17557424306869507.0 100000000000000000.0)) ?x2245)) (* (- (/ 1655706912279129.0 5000000000000000.0)) ?x2246)) (* (/ 3222910165786743.0 10000000000000000.0) ?x2181))))',\n",
              " ' (let ((?x2774 (+ (+ (+ (+ ?x2273 (* (/ 14402860403060913.0 50000000000000000.0) ?x2235)) (* (/ 1471090018749237.0 5000000000000000.0) ?x2237)) (* (/ 2129817195236683.0 25000000000000000.0) ?x2239)) (* (/ 2469044178724289.0 10000000000000000.0) ?x2241))))',\n",
              " ' (let ((?x2982 (+ (+ (+ (+ ?x2774 (* (/ 327804833650589.0 1250000000000000.0) ?x2243)) (* (- (/ 562317855656147.0 2500000000000000.0)) ?x2086)) (* (- (/ 10152003914117813.0 50000000000000000.0)) ?x2225)) (* (/ 8862441778182983.0 100000000000000000.0) ?x2227))))',\n",
              " ' (let ((?x2952 (+ (+ (+ (+ ?x2982 (* (/ 1132301390171051.0 5000000000000000.0) ?x2229)) (* (- (/ 554594025015831.0 2500000000000000.0)) ?x2231)) (* (- (/ 5927954912185669.0 5000000000000000.0)) ?x2233)) (* (/ 3958911597728729.0 10000000000000000.0) ?x2066))))',\n",
              " ' (let ((?x2964 (+ (+ (+ (+ ?x2952 (* (- (/ 298522412776947.0 2000000000000000.0)) ?x2067)) (* (/ 850708968937397.0 3125000000000000.0) ?x2220)) (* (/ 12304653413593769.0 250000000000000000.0) ?x2222)) (* (/ 3483249619603157.0 12500000000000000.0) ?x2224))))',\n",
              " ' (let ((?x3489 (+ ?x2964 (/ 3507876992225647.0 20000000000000000.0))))',\n",
              " ' (let ((?x2841 (+ (+ (+ (* (/ 1565621793270111.0 10000000000000000.0) ?x2902) (* (/ 183323435485363.0 625000000000000.0) ?x2245)) (* (- (/ 979810431599617.0 2500000000000000.0)) ?x2246)) (* (/ 76285719871521.0 250000000000000.0) ?x2181))))',\n",
              " ' (let ((?x2853 (+ (+ (+ (+ ?x2841 (* (- (/ 24672186374664307.0 100000000000000000.0)) ?x2235)) (* (- (/ 19832316040992737.0 50000000000000000.0)) ?x2237)) (* (- (/ 7778730243444443.0 100000000000000000.0)) ?x2239)) (* (- (/ 111783467233181.0 500000000000000.0)) ?x2241))))',\n",
              " ' (let ((?x2864 (+ (+ (+ (+ ?x2853 (* (- (/ 10618932545185089.0 50000000000000000.0)) ?x2243)) (* (/ 1834641695022583.0 5000000000000000.0) ?x2086)) (* (- (/ 8082462847232819.0 100000000000000000.0)) ?x2225)) (* (/ 44427958130836487.0 100000000000000000.0) ?x2227))))',\n",
              " ' (let ((?x2876 (+ (+ (+ (+ ?x2864 (* (/ 407538115978241.0 2500000000000000.0) ?x2229)) (* (/ 3908052109181881.0 250000000000000000.0) ?x2231)) (* (/ 619749091565609.0 2500000000000000.0) ?x2233)) (* (- (/ 1291811466217041.0 4000000000000000.0)) ?x2066))))',\n",
              " ' (let ((?x2988 (+ (+ (+ (+ ?x2876 (* (/ 12192046269774437.0 1000000000000000000.0) ?x2067)) (* (/ 170754361897707.0 40000000000000000.0) ?x2220)) (* (/ 349377803504467.0 1250000000000000.0) ?x2222)) (* (/ 6803969144821167.0 20000000000000000.0) ?x2224))))',\n",
              " ' (let ((?x3487 (+ ?x2988 (/ 9638316184282303.0 50000000000000000.0))))',\n",
              " ' (let ((?x2784 (+ (+ (+ (* (/ 16358287632465363.0 100000000000000000.0) ?x2902) (* (/ 7811239361763.0 50000000000000.0) ?x2245)) (* (- (/ 394677072763443.0 2500000000000000.0)) ?x2246)) (* (/ 3133895993232727.0 20000000000000000.0) ?x2181))))',\n",
              " ' (let ((?x2796 (+ (+ (+ (+ ?x2784 (* (- (/ 1001957687549293.0 125000000000000000.0)) ?x2235)) (* (/ 13799314200878143.0 100000000000000000.0) ?x2237)) (* (- (/ 4123091325163841.0 50000000000000000.0)) ?x2239)) (* (/ 13526244461536407.0 100000000000000000.0) ?x2241))))',\n",
              " ' (let ((?x2807 (+ (+ (+ (+ ?x2796 (* (/ 14547164738178253.0 50000000000000000.0) ?x2243)) (* (/ 2290859967470169.0 20000000000000000.0) ?x2086)) (* (/ 2162323296070099.0 5000000000000000.0) ?x2225)) (* (- (/ 642005130648613.0 5000000000000000.0)) ?x2227))))',\n",
              " ' (let ((?x2819 (+ (+ (+ (+ ?x2807 (* (/ 8798312395811081.0 50000000000000000.0) ?x2229)) (* (- (/ 9998980909585953.0 50000000000000000.0)) ?x2231)) (* (/ 3886310011148453.0 100000000000000000.0) ?x2233)) (* (/ 3043578565120697.0 10000000000000000.0) ?x2066))))',\n",
              " ' (let ((?x2830 (+ (+ (+ (+ ?x2819 (* (- (/ 14009973406791687.0 50000000000000000.0)) ?x2067)) (* (/ 6160726547241211.0 20000000000000000.0) ?x2220)) (* (/ 35641707945615053.0 10000000000000000000.0) ?x2222)) (* (/ 2449551671743393.0 10000000000000000.0) ?x2224))))',\n",
              " ' (let ((?x3485 (+ ?x2830 (/ 1628081202507019.0 20000000000000000.0))))',\n",
              " ' (let ((?x2750 (+ (+ (+ (* (/ 25989562273025513.0 1000000000000000000.0) ?x2902) (* (/ 3422432541847229.0 10000000000000000.0) ?x2245)) (* (/ 3822023868560791.0 20000000000000000.0) ?x2246)) (* (- (/ 316491037607193.0 2000000000000000.0)) ?x2181))))',\n",
              " ' (let ((?x2697 (+ (+ (+ (+ ?x2750 (* (/ 21862786263227463.0 500000000000000000.0) ?x2235)) (* (/ 18502177298069.0 200000000000000.0) ?x2237)) (* (/ 1727544218301773.0 20000000000000000.0) ?x2239)) (* (/ 29820573329925537.0 100000000000000000.0) ?x2241))))',\n",
              " ' (let ((?x2710 (+ (+ (+ (+ ?x2697 (* (- (/ 3675854802131653.0 10000000000000000.0)) ?x2243)) (* (- (/ 13637658953666687.0 50000000000000000.0)) ?x2086)) (* (/ 1018863394856453.0 10000000000000000.0) ?x2225)) (* (- (/ 2132958024740219.0 5000000000000000.0)) ?x2227))))',\n",
              " ' (let ((?x2762 (+ (+ (+ (+ ?x2710 (* (- (/ 512326555326581.0 6250000000000000.0)) ?x2229)) (* (/ 13702303171157837.0 50000000000000000.0) ?x2231)) (* (- (/ 6208881735801697.0 5000000000000000.0)) ?x2233)) (* (- (/ 619775652885437.0 10000000000000000.0)) ?x2066))))',\n",
              " ' (let ((?x2776 (+ (+ (+ (+ ?x2762 (* (/ 3604776859283447.0 10000000000000000.0) ?x2067)) (* (- (/ 26182112097740173.0 100000000000000000.0)) ?x2220)) (* (/ 537275493144989.0 2000000000000000.0) ?x2222)) (* (/ 615673840045929.0 2000000000000000.0) ?x2224))))',\n",
              " ' (let ((?x3483 (+ ?x2776 (/ 795257743448019.0 6250000000000000.0))))',\n",
              " ' (let ((?x2627 (+ (+ (+ (* (- (/ 10433386266231537.0 50000000000000000.0)) ?x2902) (* (- (/ 8198796957731247.0 50000000000000000.0)) ?x2245)) (* (/ 136172616481781.0 200000000000000.0) ?x2246)) (* (/ 358940027654171.0 1250000000000000.0) ?x2181))))',\n",
              " ' (let ((?x2639 (+ (+ (+ (+ ?x2627 (* (/ 240525733679533.0 20000000000000000.0) ?x2235)) (* (/ 24537715315818787.0 100000000000000000.0) ?x2237)) (* (/ 5279795527458191.0 10000000000000000.0) ?x2239)) (* (- (/ 4484381377696991.0 20000000000000000.0)) ?x2241))))',\n",
              " ' (let ((?x2715 (+ (+ (+ (+ ?x2639 (* (/ 4540601745247841.0 25000000000000000.0) ?x2243)) (* (- (/ 938001424074173.0 10000000000000000.0)) ?x2086)) (* (- (/ 9971015155315399.0 100000000000000000.0)) ?x2225)) (* (- (/ 361776128411293.0 2500000000000000.0)) ?x2227))))',\n",
              " ' (let ((?x2727 (+ (+ (+ (+ ?x2715 (* (/ 705964982509613.0 2000000000000000.0) ?x2229)) (* (- (/ 6587004661560059.0 100000000000000000.0)) ?x2231)) (* (- (/ 32438337802886963.0 100000000000000000.0)) ?x2233)) (* (/ 22733253240585327.0 100000000000000000.0) ?x2066))))',\n",
              " ' (let ((?x2739 (+ (+ (+ (+ ?x2727 (* (/ 5613207221031189.0 20000000000000000.0) ?x2067)) (* (/ 15216106176376343.0 50000000000000000.0) ?x2220)) (* (/ 19018150866031647.0 100000000000000000.0) ?x2222)) (* (- (/ 1818472445011139.0 10000000000000000.0)) ?x2224))))',\n",
              " ' (let ((?x3481 (+ ?x2739 (- (/ 2603330910205841.0 10000000000000000.0)))))',\n",
              " ' (let ((?x2611 (+ (+ (+ (* (- (/ 8297053724527359.0 25000000000000000.0)) ?x2902) (* (/ 3515375405550003.0 12500000000000000.0) ?x2245)) (* (- (/ 3245285153388977.0 10000000000000000.0)) ?x2246)) (* (- (/ 2829098403453827.0 10000000000000000.0)) ?x2181))))',\n",
              " ' (let ((?x2936 (+ (+ (+ (+ ?x2611 (* (- (/ 92887282371521.0 400000000000000.0)) ?x2235)) (* (- (/ 1539437286555767.0 12500000000000000.0)) ?x2237)) (* (/ 204346664249897.0 2500000000000000.0) ?x2239)) (* (/ 5082816481590271.0 20000000000000000.0) ?x2241))))',\n",
              " ' (let ((?x2655 (+ (+ (+ (+ ?x2936 (* (/ 426333025097847.0 1250000000000000.0) ?x2243)) (* (/ 956122949719429.0 10000000000000000.0) ?x2086)) (* (- (/ 830419659614563.0 2500000000000000.0)) ?x2225)) (* (/ 10360599309206009.0 200000000000000000.0) ?x2227))))',\n",
              " ' (let ((?x2667 (+ (+ (+ (+ ?x2655 (* (- (/ 15345577895641327.0 50000000000000000.0)) ?x2229)) (* (- (/ 1196339949965477.0 20000000000000000.0)) ?x2231)) (* (/ 1828446239233017.0 25000000000000000.0) ?x2233)) (* (- (/ 7192167043685913.0 20000000000000000.0)) ?x2066))))',\n",
              " ' (let ((?x2679 (+ (+ (+ (+ ?x2667 (* (/ 15880037099123.0 125000000000000.0) ?x2067)) (* (/ 432009220123291.0 2000000000000000.0) ?x2220)) (* (- (/ 650980994105339.0 5000000000000000.0)) ?x2222)) (* (/ 53815683349967.0 156250000000000.0) ?x2224))))',\n",
              " ' (let ((?x3479 (+ ?x2679 (- (/ 3109855204820633.0 200000000000000000.0)))))',\n",
              " ' (let ((?x2554 (+ (+ (+ (* (- (/ 2908864915370941.0 5000000000000000.0)) ?x2902) (* (/ 8543635606765747.0 20000000000000000.0) ?x2245)) (* (- (/ 115036906208843.0 25000000000000000.0)) ?x2246)) (* (- (/ 7242065668106079.0 25000000000000000.0)) ?x2181))))',\n",
              " ' (let ((?x2566 (+ (+ (+ (+ ?x2554 (* (/ 560958981513977.0 2000000000000000.0) ?x2235)) (* (/ 176860298961401.0 625000000000000.0) ?x2237)) (* (- (/ 124265868216753.0 1250000000000000.0)) ?x2239)) (* (- (/ 1301620602607727.0 5000000000000000.0)) ?x2241))))',\n",
              " ' (let ((?x2577 (+ (+ (+ (+ ?x2566 (* (/ 868531409651041.0 12500000000000000.0) ?x2243)) (* (/ 11784419417381287.0 100000000000000000.0) ?x2086)) (* (- (/ 938393846154213.0 5000000000000000.0)) ?x2225)) (* (- (/ 165016508102417.0 400000000000000.0)) ?x2227))))',\n",
              " ' (let ((?x2589 (+ (+ (+ (+ ?x2577 (* (/ 613671064376831.0 2000000000000000.0) ?x2229)) (* (- (/ 1031753420829773.0 12500000000000000.0)) ?x2231)) (* (/ 6440790295600891.0 10000000000000000.0) ?x2233)) (* (/ 1730780154466629.0 20000000000000000.0) ?x2066))))',\n",
              " ' (let ((?x2600 (+ (+ (+ (+ ?x2589 (* (- (/ 3513853996992111.0 50000000000000000.0)) ?x2067)) (* (- (/ 36889705061912537.0 100000000000000000.0)) ?x2220)) (* (/ 8298937976360321.0 25000000000000000.0) ?x2222)) (* (/ 5461636558175087.0 25000000000000000.0) ?x2224))))',\n",
              " ' (let ((?x3477 (+ ?x2600 (/ 2720276638865471.0 25000000000000000.0))))',\n",
              " ' (let ((?x2519 (+ (+ (+ (* (/ 11503385379910469.0 250000000000000000.0) ?x2902) (* (/ 4141232967376709.0 10000000000000000.0) ?x2245)) (* (/ 12056639045476913.0 100000000000000000.0) ?x2246)) (* (/ 13904745876789093.0 100000000000000000.0) ?x2181))))',\n",
              " ' (let ((?x2531 (+ (+ (+ (+ ?x2519 (* (/ 6838579475879669.0 50000000000000000.0) ?x2235)) (* (/ 4933745265007019.0 10000000000000000.0) ?x2237)) (* (- (/ 3054174967110157.0 12500000000000000.0)) ?x2239)) (* (- (/ 4764406755566597.0 25000000000000000.0)) ?x2241))))',\n",
              " ' (let ((?x2543 (+ (+ (+ (+ ?x2531 (* (/ 8571227639913559.0 25000000000000000.0) ?x2243)) (* (- (/ 992899164557457.0 5000000000000000.0)) ?x2086)) (* (/ 3813725709915161.0 100000000000000000.0) ?x2225)) (* (- (/ 4610282778739929.0 10000000000000000.0)) ?x2227))))',\n",
              " ' (let ((?x2490 (+ (+ (+ (+ ?x2543 (* (- (/ 2228856235742569.0 20000000000000000.0)) ?x2229)) (* (/ 8663284033536911.0 25000000000000000.0) ?x2231)) (* (/ 6838802248239517.0 50000000000000000.0) ?x2233)) (* (/ 32501527667045593.0 100000000000000000.0) ?x2066))))',\n",
              " ' (let ((?x2502 (+ (+ (+ (+ ?x2490 (* (/ 5437628924846649.0 50000000000000000.0) ?x2067)) (* (- (/ 9851919114589691.0 50000000000000000.0)) ?x2220)) (* (- (/ 1292509138584137.0 10000000000000000.0)) ?x2222)) (* (/ 7764753699302673.0 100000000000000000.0) ?x2224))))',\n",
              " ' (let ((?x3475 (+ ?x2502 (- (/ 1300223870202899.0 62500000000000000.0)))))',\n",
              " ' (let ((?x2461 (+ (+ (+ (* (/ 3144223615527153.0 12500000000000000.0) ?x2902) (* (- (/ 689854696393013.0 5000000000000000.0)) ?x2245)) (* (- (/ 20388194918632507.0 100000000000000000.0)) ?x2246)) (* (/ 33153384923934937.0 100000000000000000.0) ?x2181))))',\n",
              " ' (let ((?x2473 (+ (+ (+ (+ ?x2461 (* (/ 8963713049888611.0 50000000000000000.0) ?x2235)) (* (/ 10076005011796951.0 100000000000000000.0) ?x2237)) (* (- (/ 35492023825645447.0 100000000000000000.0)) ?x2239)) (* (/ 16682489216327667.0 50000000000000000.0) ?x2241))))',\n",
              " ' (let ((?x2420 (+ (+ (+ (+ ?x2473 (* (/ 2016032487154007.0 12500000000000000.0) ?x2243)) (* (/ 9724626690149307.0 100000000000000000.0) ?x2086)) (* (/ 22257964313030243.0 50000000000000000.0) ?x2225)) (* (/ 6810498982667923.0 100000000000000000.0) ?x2227))))',\n",
              " ' (let ((?x2432 (+ (+ (+ (+ ?x2420 (* (- (/ 9970609098672867.0 50000000000000000.0)) ?x2229)) (* (/ 759991928935051.0 2500000000000000.0) ?x2231)) (* (/ 2579682171344757.0 10000000000000000.0) ?x2233)) (* (- (/ 1686321347951889.0 20000000000000000.0)) ?x2066))))',\n",
              " ' (let ((?x2506 (+ (+ (+ (+ ?x2432 (* (- (/ 274624764919281.0 2000000000000000.0)) ?x2067)) (* (- (/ 267898291349411.0 1000000000000000.0)) ?x2220)) (* (/ 39319540373981.0 312500000000000.0) ?x2222)) (* (- (/ 8656991273164749.0 50000000000000000.0)) ?x2224))))',\n",
              " ' (let ((?x3473 (+ ?x2506 (/ 5414101481437683.0 50000000000000000.0))))',\n",
              " ' (let ((?x2381 (+ (+ (+ (* (- (/ 5158408358693123.0 50000000000000000.0)) ?x2902) (* (- (/ 1480492576956749.0 25000000000000000.0)) ?x2245)) (* (- (/ 1411401629447937.0 5000000000000000.0)) ?x2246)) (* (/ 599124887958169.0 6250000000000000.0) ?x2181))))',\n",
              " ' (let ((?x2392 (+ (+ (+ (+ ?x2381 (* (/ 22176212072372437.0 100000000000000000.0) ?x2235)) (* (/ 3669997677206993.0 25000000000000000.0) ?x2237)) (* (/ 5420985221862793.0 20000000000000000.0) ?x2239)) (* (/ 788692831993103.0 2500000000000000.0) ?x2241))))',\n",
              " ' (let ((?x2404 (+ (+ (+ (+ ?x2392 (* (/ 2616793215274811.0 10000000000000000.0) ?x2243)) (* (- (/ 166540015488863.0 625000000000000.0)) ?x2086)) (* (- (/ 214622113853693.0 1250000000000000.0)) ?x2225)) (* (/ 18319888412952423.0 100000000000000000.0) ?x2227))))',\n",
              " ' (let ((?x2925 (+ (+ (+ (+ ?x2404 (* (/ 3331873193383217.0 50000000000000000.0) ?x2229)) (* (- (/ 127776013687253.0 1562500000000000.0)) ?x2231)) (* (- (/ 7552139759063721.0 10000000000000000.0)) ?x2233)) (* (/ 20305506885051727.0 100000000000000000.0) ?x2066))))',\n",
              " ' (let ((?x2450 (+ (+ (+ (+ ?x2925 (* (/ 1727299578487873.0 100000000000000000.0) ?x2067)) (* (- (/ 3956209421157837.0 20000000000000000.0)) ?x2220)) (* (/ 1811773031949997.0 10000000000000000.0) ?x2222)) (* (/ 1429462106898427.0 31250000000000000.0) ?x2224))))',\n",
              " ' (let ((?x3471 (+ ?x2450 (/ 1635574921965599.0 12500000000000000.0))))',\n",
              " ' (let ((?x2282 (+ (+ (+ (* (- (/ 13927310705184937.0 100000000000000000.0)) ?x2902) (* (/ 1389414370059967.0 20000000000000000.0) ?x2245)) (* (/ 190519317984581.0 1000000000000000.0) ?x2246)) (* (/ 18404465913772583.0 100000000000000000.0) ?x2181))))',\n",
              " ' (let ((?x2294 (+ (+ (+ (+ ?x2282 (* (/ 3899824321269989.0 20000000000000000.0) ?x2235)) (* (- (/ 9375123679637909.0 25000000000000000.0)) ?x2237)) (* (/ 1600639969110489.0 5000000000000000.0) ?x2239)) (* (/ 2636255919933319.0 20000000000000000.0) ?x2241))))',\n",
              " ' (let ((?x2347 (+ (+ (+ (+ ?x2294 (* (- (/ 34696856141090393.0 100000000000000000.0)) ?x2243)) (* (- (/ 1570698320865631.0 5000000000000000.0)) ?x2086)) (* (- (/ 13826784491539001.0 100000000000000000.0)) ?x2225)) (* (- (/ 917370617389679.0 50000000000000000.0)) ?x2227))))',\n",
              " ' (let ((?x2361 (+ (+ (+ (+ ?x2347 (* (- (/ 17483134288340807.0 5000000000000000000.0)) ?x2229)) (* (- (/ 10650095343589783.0 100000000000000000.0)) ?x2231)) (* (/ 10678553581237793.0 200000000000000000.0) ?x2233)) (* (- (/ 322842538356781.0 2000000000000000.0)) ?x2066))))',\n",
              " ' (let ((?x2370 (+ (+ (+ (+ ?x2361 (* (/ 1772981882095337.0 5000000000000000.0) ?x2067)) (* (- (/ 2494092583656311.0 10000000000000000.0)) ?x2220)) (* (/ 340994268655777.0 1000000000000000.0) ?x2222)) (* (- (/ 4660040885210037.0 100000000000000000.0)) ?x2224))))',\n",
              " ' (let ((?x3469 (+ ?x2370 (- (/ 3409301396459341.0 500000000000000000.0)))))',\n",
              " ' (let ((?x2262 (+ (+ (+ (* (/ 515059195458889.0 1562500000000000.0) ?x2902) (* (- (/ 3902604877948761.0 5000000000000000.0)) ?x2245)) (* (/ 205342099070549.0 625000000000000.0) ?x2246)) (* (- (/ 591932088136673.0 5000000000000000.0)) ?x2181))))',\n",
              " ' (let ((?x2298 (+ (+ (+ (+ ?x2262 (* (- (/ 12802639603614807.0 100000000000000000.0)) ?x2235)) (* (- (/ 1963919699192047.0 10000000000000000.0)) ?x2237)) (* (/ 2010643668472767.0 100000000000000000.0) ?x2239)) (* (- (/ 2079395018517971.0 25000000000000000.0)) ?x2241))))',\n",
              " ' (let ((?x2310 (+ (+ (+ (+ ?x2298 (* (- (/ 19686155021190643.0 100000000000000000.0)) ?x2243)) (* (- (/ 2973649203777313.0 10000000000000000.0)) ?x2086)) (* (/ 19224652647972107.0 50000000000000000.0) ?x2225)) (* (/ 5604134127497673.0 25000000000000000.0) ?x2227))))',\n",
              " ' (let ((?x2322 (+ (+ (+ (+ ?x2310 (* (/ 92474902048707.0 312500000000000.0) ?x2229)) (* (- (/ 4275326058268547.0 12500000000000000.0)) ?x2231)) (* (- (/ 8631631731987.0 25000000000000.0)) ?x2233)) (* (- (/ 1453262404538691.0 250000000000000000.0)) ?x2066))))',\n",
              " ' (let ((?x2334 (+ (+ (+ (+ ?x2322 (* (/ 1111895203590393.0 2000000000000000.0) ?x2067)) (* (/ 2993190661072731.0 6250000000000000.0) ?x2220)) (* (/ 3304291069507599.0 10000000000000000.0) ?x2222)) (* (/ 3437429964542389.0 20000000000000000.0) ?x2224))))',\n",
              " ' (let ((?x3525 (+ ?x2334 (- (/ 5315239354968071.0 25000000000000000.0)))))',\n",
              " ' (let ((?x1932 (+ (+ (+ (* (- (/ 157401442527771.0 4000000000000000.0)) ?x2902) (* (/ 5605500340461731.0 20000000000000000.0) ?x2245)) (* (- (/ 8882245421409607.0 20000000000000000.0)) ?x2246)) (* (- (/ 2870527096092701.0 12500000000000000.0)) ?x2181))))',\n",
              " ' (let ((?x1911 (+ (+ (+ (+ ?x1932 (* (/ 901087187230587.0 6250000000000000.0) ?x2235)) (* (/ 733078122138977.0 20000000000000000.0) ?x2237)) (* (/ 7829955220222473.0 50000000000000000.0) ?x2239)) (* (- (/ 12373320013284683.0 100000000000000000.0)) ?x2241))))',\n",
              " ' (let ((?x1890 (+ (+ (+ (+ ?x1911 (* (/ 1024462515488267.0 125000000000000000.0) ?x2243)) (* (/ 4123862087726593.0 20000000000000000.0) ?x2086)) (* (- (/ 4062579274177551.0 10000000000000000.0)) ?x2225)) (* (/ 1781654916703701.0 12500000000000000.0) ?x2227))))',\n",
              " ' (let ((?x1886 (+ (+ (+ (+ ?x1890 (* (- (/ 2070731669664383.0 5000000000000000.0)) ?x2229)) (* (/ 21501967310905457.0 100000000000000000.0) ?x2231)) (* (- (/ 9466468691825867.0 10000000000000000.0)) ?x2233)) (* (- (/ 6531132012605667.0 100000000000000000.0)) ?x2066))))',\n",
              " ' (let ((?x1862 (+ (+ (+ (+ ?x1886 (* (- (/ 702899694442749.0 10000000000000000.0)) ?x2067)) (* (/ 384585652500391.0 3125000000000000.0) ?x2220)) (* (/ 6198172923177481.0 1000000000000000000.0) ?x2222)) (* (/ 2910870686173439.0 12500000000000000.0) ?x2224))))',\n",
              " ' (let ((?x3526 (+ ?x1862 (/ 5028712749481201.0 50000000000000000.0))))',\n",
              " ' (let ((?x2904 (+ (+ (+ (* (/ 7055714726448059.0 250000000000000000.0) ?x2902) (* (/ 1326479434967041.0 4000000000000000.0) ?x2245)) (* (- (/ 6434759497642517.0 50000000000000000.0)) ?x2246)) (* (- (/ 7511007785797119.0 50000000000000000.0)) ?x2181))))',\n",
              " ' (let ((?x1951 (+ (+ (+ (+ ?x2904 (* (- (/ 2573264241218567.0 10000000000000000.0)) ?x2235)) (* (- (/ 2373461276292801.0 10000000000000000.0)) ?x2237)) (* (- (/ 8405900001525879.0 100000000000000000.0)) ?x2239)) (* (/ 16090434789657593.0 100000000000000000.0) ?x2241))))',\n",
              " ' (let ((?x2004 (+ (+ (+ (+ ?x1951 (* (/ 195695698261261.0 1000000000000000.0) ?x2243)) (* (/ 1745462417602539.0 12500000000000000.0) ?x2086)) (* (- (/ 23663772642612457.0 100000000000000000.0)) ?x2225)) (* (/ 2879524976015091.0 25000000000000000.0) ?x2227))))',\n",
              " ' (let ((?x2000 (+ (+ (+ (+ ?x2004 (* (/ 911015272140503.0 50000000000000000.0) ?x2229)) (* (- (/ 7838054746389389.0 25000000000000000.0)) ?x2231)) (* (- (/ 8971700072288513.0 50000000000000000.0)) ?x2233)) (* (- (/ 9433159232139587.0 100000000000000000.0)) ?x2066))))',\n",
              " ' (let ((?x1976 (+ (+ (+ (+ ?x2000 (* (- (/ 1297676682472229.0 4000000000000000.0)) ?x2067)) (* (- (/ 10883530974388123.0 100000000000000000.0)) ?x2220)) (* (/ 24459081888198853.0 100000000000000000.0) ?x2222)) (* (- (/ 86173415184021.0 781250000000000.0)) ?x2224))))',\n",
              " ' (let ((?x3528 (+ ?x1976 0.0)))',\n",
              " ' (let ((?x2093 (+ (+ (+ (* (/ 709946870803833.0 4000000000000000.0) ?x2902) (* (/ 5619237944483757.0 25000000000000000.0) ?x2245)) (* (- (/ 934950590133667.0 2000000000000000.0)) ?x2246)) (* (- (/ 2768043279647827.0 10000000000000000.0)) ?x2181))))',\n",
              " ' (let ((?x2069 (+ (+ (+ (+ ?x2093 (* (/ 1387509424239397.0 50000000000000000.0) ?x2235)) (* (- (/ 286429263651371.0 1250000000000000.0)) ?x2237)) (* (- (/ 3170899301767349.0 100000000000000000.0)) ?x2239)) (* (/ 17958885431289673.0 50000000000000000.0) ?x2241))))',\n",
              " ' (let ((?x2084 (+ (+ (+ (+ ?x2069 (* (- (/ 2529100701212883.0 100000000000000000.0)) ?x2243)) (* (- (/ 2292589470744133.0 12500000000000000.0)) ?x2086)) (* (/ 2632356584072113.0 20000000000000000.0) ?x2225)) (* (- (/ 10257109999656677.0 50000000000000000.0)) ?x2227))))',\n",
              " ' (let ((?x2021 (+ (+ (+ (+ ?x2084 (* (- (/ 9165763854980469.0 100000000000000000.0)) ?x2229)) (* (/ 1433174729347229.0 4000000000000000.0) ?x2231)) (* (- (/ 9074960947036743.0 10000000000000000.0)) ?x2233)) (* (/ 12385736405849457.0 50000000000000000.0) ?x2066))))',\n",
              " ' (let ((?x2026 (+ (+ (+ (+ ?x2021 (* (- (/ 516631007194519.0 2000000000000000.0)) ?x2067)) (* (/ 4388619065284729.0 20000000000000000.0) ?x2220)) (* (/ 992386694997549.0 12500000000000000.0) ?x2222)) (* (- (/ 7366878539323807.0 50000000000000000.0)) ?x2224))))',\n",
              " ' (let ((?x3521 (+ ?x2026 (/ 8048694580793381.0 100000000000000000.0))))',\n",
              " ' (let ((?x2139 (+ (+ (+ (* (/ 1714000478386879.0 12500000000000000.0) ?x2902) (* (/ 313355284743011.0 3125000000000000.0) ?x2245)) (* (- (/ 6723837852478027.0 10000000000000000.0)) ?x2246)) (* (/ 1924024373292923.0 10000000000000000.0) ?x2181))))',\n",
              " ' (let ((?x2132 (+ (+ (+ (+ ?x2139 (* (- (/ 692993625998497.0 5000000000000000.0)) ?x2235)) (* (/ 7662810683250427.0 10000000000000000.0) ?x2237)) (* (- (/ 1755283959209919.0 6250000000000000.0)) ?x2239)) (* (- (/ 2187313437461853.0 10000000000000000.0)) ?x2241))))',\n",
              " ' (let ((?x2119 (+ (+ (+ (+ ?x2132 (* (- (/ 45990297198295593.0 100000000000000000.0)) ?x2243)) (* (- (/ 24045775830745697.0 100000000000000000.0)) ?x2086)) (* (/ 19122007489204407.0 100000000000000000.0) ?x2225)) (* (- (/ 4777984693646431.0 50000000000000000.0)) ?x2227))))',\n",
              " ' (let ((?x2043 (+ (+ (+ (+ ?x2119 (* (- (/ 28725431766361.0 39062500000000.0)) ?x2229)) (* (/ 11293932795524597.0 50000000000000000.0) ?x2231)) (* (/ 19485974311828613.0 100000000000000000.0) ?x2233)) (* (/ 1932878941297531.0 5000000000000000.0) ?x2066))))',\n",
              " ' (let ((?x2051 (+ (+ (+ (+ ?x2043 (* (/ 264732301235199.0 1000000000000000.0) ?x2067)) (* (- (/ 3064432144165039.0 10000000000000000.0)) ?x2220)) (* (- (/ 1601245105266571.0 10000000000000000.0)) ?x2222)) (* (- (/ 4466438889503479.0 10000000000000000.0)) ?x2224))))',\n",
              " ' (let ((?x3519 (+ ?x2051 (- (/ 2970165340229869.0 500000000000000000.0)))))',\n",
              " ' (let ((?x2054 (+ (+ (+ (* (- (/ 4763854146003723.0 5000000000000000.0)) ?x2902) (* (/ 1089348316192627.0 2000000000000000.0) ?x2245)) (* (- (/ 1731225997209549.0 2500000000000000.0)) ?x2246)) (* (- (/ 8271152377128601.0 10000000000000000.0)) ?x2181))))',\n",
              " ' (let ((?x2914 (+ (+ (+ (+ ?x2054 (* (- (/ 365636870265007.0 625000000000000.0)) ?x2235)) (* (/ 39741402864456177.0 100000000000000000.0) ?x2237)) (* (- (/ 765388235449791.0 1250000000000000.0)) ?x2239)) (* (- (/ 1326683759689331.0 2500000000000000.0)) ?x2241))))',\n",
              " ' (let ((?x2182 (+ (+ (+ (+ ?x2914 (* (- (/ 171603262424469.0 250000000000000.0)) ?x2243)) (* (- (/ 12649214267730713.0 100000000000000000.0)) ?x2086)) (* (- (/ 433596707880497.0 1250000000000000.0)) ?x2225)) (* (- (/ 22866329550743103.0 100000000000000000.0)) ?x2227))))',\n",
              " ' (let ((?x2159 (+ (+ (+ (+ ?x2182 (* (- (/ 8603479266166687.0 10000000000000000.0)) ?x2229)) (* (/ 788455531001091.0 5000000000000000.0) ?x2231)) (* (/ 3772764503955841.0 5000000000000000.0) ?x2233)) (* (/ 11781439930200577.0 50000000000000000.0) ?x2066))))',\n",
              " ' (let ((?x2153 (+ (+ (+ (+ ?x2159 (* (- (/ 4410621225833893.0 10000000000000000.0)) ?x2067)) (* (- (/ 9670689105987549.0 10000000000000000.0)) ?x2220)) (* (- (/ 5347921252250671.0 10000000000000000.0)) ?x2222)) (* (- (/ 5959334969520569.0 10000000000000000.0)) ?x2224))))',\n",
              " ' (let ((?x3517 (+ ?x2153 (/ 2282915711402893.0 5000000000000000.0))))',\n",
              " ' (let ((?x3385 (+ (* (/ 979040339589119.0 1250000000000000.0) (ite (>= ?x3517 0.0) ?x3517 0.0)) (* (/ 7574973106384277.0 10000000000000000.0) (ite (>= ?x3519 0.0) ?x3519 0.0)))))',\n",
              " ' (let ((?x3391 (+ (+ ?x3385 (* (- (/ 5627413988113403.0 10000000000000000.0)) (ite (>= ?x3521 0.0) ?x3521 0.0))) (* (- (/ 115727623924613.0 312500000000000.0)) (ite (>= ?x3528 0.0) ?x3528 0.0)))))',\n",
              " ' (let ((?x3397 (+ (+ ?x3391 (* (- (/ 6589940190315247.0 10000000000000000.0)) (ite (>= ?x3526 0.0) ?x3526 0.0))) (* (/ 2456294596195221.0 2500000000000000.0) (ite (>= ?x3525 0.0) ?x3525 0.0)))))',\n",
              " ' (let ((?x3402 (+ (+ ?x3397 (* (/ 2588706910610199.0 10000000000000000.0) (ite (>= ?x3469 0.0) ?x3469 0.0))) (* (- (/ 1201120913028717.0 20000000000000000.0)) (ite (>= ?x3471 0.0) ?x3471 0.0)))))',\n",
              " ' (let ((?x3350 (+ (+ ?x3402 (* (- (/ 3559766411781311.0 10000000000000000.0)) (ite (>= ?x3473 0.0) ?x3473 0.0))) (* (/ 3376917541027069.0 10000000000000000.0) (ite (>= ?x3475 0.0) ?x3475 0.0)))))',\n",
              " ' (let ((?x3356 (+ (+ ?x3350 (* (/ 6511136889457703.0 10000000000000000.0) (ite (>= ?x3477 0.0) ?x3477 0.0))) (* (- (/ 14227569103240967.0 100000000000000000.0)) (ite (>= ?x3479 0.0) ?x3479 0.0)))))',\n",
              " ' (let ((?x3362 (+ (+ ?x3356 (* (/ 1017225980758667.0 1000000000000000.0) (ite (>= ?x3481 0.0) ?x3481 0.0))) (* (- (/ 7335571199655533.0 50000000000000000.0)) (ite (>= ?x3483 0.0) ?x3483 0.0)))))',\n",
              " ' (let ((?x3374 (+ (+ ?x3362 (* (- (/ 125184965133667.0 400000000000000.0)) (ite (>= ?x3485 0.0) ?x3485 0.0))) (* (- (/ 1278640627861023.0 5000000000000000.0)) (ite (>= ?x3487 0.0) ?x3487 0.0)))))',\n",
              " ' (let ((?x3315 (+ (+ ?x3374 (* (- (/ 1103250503540039.0 2000000000000000.0)) (ite (>= ?x3489 0.0) ?x3489 0.0))) (* (- (/ 8657752275466919.0 20000000000000000.0)) (ite (>= ?x3497 0.0) ?x3497 0.0)))))',\n",
              " ' (let ((?x3321 (+ (+ ?x3315 (* (/ 4166319966316223.0 10000000000000000.0) (ite (>= ?x3495 0.0) ?x3495 0.0))) (* (/ 1006889820098877.0 1000000000000000.0) (ite (>= ?x3494 0.0) ?x3494 0.0)))))',\n",
              " ' (let ((?x3327 (+ (+ ?x3321 (* (- (/ 1626342236995697.0 5000000000000000.0)) (ite (>= ?x3439 0.0) ?x3439 0.0))) (* (- (/ 1749424934387207.0 10000000000000000.0)) (ite (>= ?x3441 0.0) ?x3441 0.0)))))',\n",
              " ' (let ((?x3333 (+ (+ ?x3327 (* (- (/ 2625133693218231.0 5000000000000000.0)) (ite (>= ?x3443 0.0) ?x3443 0.0))) (* (- (/ 23927880823612213.0 50000000000000000.0)) (ite (>= ?x3445 0.0) ?x3445 0.0)))))',\n",
              " ' (let ((?x3344 (+ (+ ?x3333 (* (/ 838262289762497.0 1250000000000000.0) (ite (>= ?x3447 0.0) ?x3447 0.0))) (- (/ 6081594154238701.0 100000000000000000.0)))))',\n",
              " ' (let ((?x2885 (- ?x3344 ?x69)))',\n",
              " ' (>= (ite (<= ?x2885 0.0) (- ?x2885) ?x2885) (/ 1.0 2.0))))))))))))))))))))))))))))))))))))))))))))))))))))))))))))))))))))))))))))))))))))))))))))))))))))))))))))))))))))))))))))))))))))))))))))))))))))))))))))))))))))))))))))))))))))))))))))))))))))))))))))))))))))))))))))))))))))',\n",
              " '(check-sat)',\n",
              " '']"
            ]
          },
          "metadata": {},
          "execution_count": 72
        }
      ]
    },
    {
      "cell_type": "code",
      "source": [
        "p, q = Bools('p q')\n",
        "demorgan = And(p, q) == Not(Or(Not(p), Not(q)))\n",
        "print(demorgan)\n",
        "\n",
        "def prove(f):\n",
        "    s = Solver()\n",
        "    s.add(Not(f))\n",
        "    if s.check() == unsat:\n",
        "        print(\"proved\")\n",
        "    else:\n",
        "        print(\"failed to prove\")\n",
        "\n",
        "print(\"Proving demorgan...\")\n",
        "prove(demorgan)"
      ],
      "metadata": {
        "colab": {
          "base_uri": "https://localhost:8080/"
        },
        "id": "9-TATE9UgDnE",
        "outputId": "9fe6bad6-30ff-4688-8728-ad7056907374"
      },
      "execution_count": 73,
      "outputs": [
        {
          "output_type": "stream",
          "name": "stdout",
          "text": [
            "And(p, q) == Not(Or(Not(p), Not(q)))\n",
            "Proving demorgan...\n",
            "proved\n"
          ]
        }
      ]
    },
    {
      "cell_type": "code",
      "source": [
        "d, a, t, v_i, v_f = Reals('d a t v__i v__f')\n",
        "\n",
        "equations = [\n",
        "   d == v_i * t + (a*t**2)/2,\n",
        "   v_f == v_i + a*t,\n",
        "]\n",
        "print(\"Kinematic equations:\")\n",
        "print(equations)\n",
        "\n",
        "# Given v_i, v_f and a, find d\n",
        "problem = [\n",
        "    v_i == 30,\n",
        "    v_f == 0,\n",
        "    a   == -8\n",
        "]\n",
        "print(\"Problem:\")\n",
        "print(problem)\n",
        "\n",
        "print(\"Solution:\")\n",
        "solve(equations + problem)"
      ],
      "metadata": {
        "colab": {
          "base_uri": "https://localhost:8080/"
        },
        "id": "CR3GqTRZhcjZ",
        "outputId": "aa45e1a7-4431-44bf-815a-138784f27941"
      },
      "execution_count": 74,
      "outputs": [
        {
          "output_type": "stream",
          "name": "stdout",
          "text": [
            "Kinematic equations:\n",
            "[d == v__i*t + (a*t**2)/2, v__f == v__i + a*t]\n",
            "Problem:\n",
            "[v__i == 30, v__f == 0, a == -8]\n",
            "Solution:\n",
            "[a = -8, v__f = 0, v__i = 30, t = 15/4, d = 225/4]\n"
          ]
        }
      ]
    },
    {
      "cell_type": "code",
      "source": [
        "x = Int('x')\n",
        "y = Int('y')\n",
        "n = x + y >= 3\n",
        "print(\"num args: \", n.num_args())\n",
        "print(\"children: \", n.children())\n",
        "print(\"1st child:\", n.arg(0))\n",
        "print(\"2nd child:\", n.arg(1))\n",
        "print(\"operator: \", n.decl())\n",
        "print(\"op name:  \", n.decl().name())"
      ],
      "metadata": {
        "colab": {
          "base_uri": "https://localhost:8080/"
        },
        "id": "9XIgfynaRs4o",
        "outputId": "e216d435-c537-4ae2-f7ae-4db28926a354"
      },
      "execution_count": 75,
      "outputs": [
        {
          "output_type": "stream",
          "name": "stdout",
          "text": [
            "num args:  2\n",
            "children:  [x + y, 3]\n",
            "1st child: x + y\n",
            "2nd child: 3\n",
            "operator:  >=\n",
            "op name:   >=\n"
          ]
        }
      ]
    },
    {
      "cell_type": "code",
      "source": [
        "  Tie, Shirt = Bools('Tie Shirt')\n",
        "  s = Solver()\n",
        "  s.add(Or(Tie, Shirt), \n",
        "        Or(Not(Tie), Shirt), \n",
        "        Or(Not(Tie), Not(Shirt)))\n",
        "  print(s.check())\n",
        "  print(s.model())"
      ],
      "metadata": {
        "colab": {
          "base_uri": "https://localhost:8080/"
        },
        "id": "mZ-wLdesSb43",
        "outputId": "d59b3576-eacf-49a2-ace9-dd31f3d9df90"
      },
      "execution_count": 76,
      "outputs": [
        {
          "output_type": "stream",
          "name": "stdout",
          "text": [
            "sat\n",
            "[Shirt = True, Tie = False]\n"
          ]
        }
      ]
    },
    {
      "cell_type": "code",
      "source": [
        "\n",
        "x, y = Ints('x y')\n",
        "s = Solver()\n",
        "s.add((x % 4) + 3 * (y / 2) > x - y)\n",
        "print(s.sexpr())"
      ],
      "metadata": {
        "colab": {
          "base_uri": "https://localhost:8080/"
        },
        "id": "lJ1nFYW9Snro",
        "outputId": "c0a54241-ccb4-4a61-f3a0-a0bfb13ad50c"
      },
      "execution_count": 77,
      "outputs": [
        {
          "output_type": "stream",
          "name": "stdout",
          "text": [
            "(declare-fun y () Int)\n",
            "(declare-fun x () Int)\n",
            "(assert (> (+ (mod x 4) (* 3 (div y 2))) (- x y)))\n",
            "\n"
          ]
        }
      ]
    },
    {
      "cell_type": "code",
      "source": [
        "\n",
        "Object = DeclareSort('Object')\n",
        "\n",
        "Human = Function('Human', Object, BoolSort())\n",
        "Mortal = Function('Mortal', Object, BoolSort())\n",
        "\n",
        "# a well known philosopher \n",
        "socrates = Const('socrates', Object)\n",
        "\n",
        "# free variables used in forall must be declared Const in python\n",
        "x = Const('x', Object)\n",
        "\n",
        "axioms = [ForAll([x], Implies(Human(x), Mortal(x))), \n",
        "          Human(socrates)]\n",
        "\n",
        "\n",
        "s = Solver()\n",
        "s.add(axioms)\n",
        "\n",
        "print(s.check()) # prints sat so axioms are coherent\n",
        "\n",
        "# classical refutation\n",
        "s.add(Not(Mortal(socrates)))\n",
        "\n",
        "print(s.check()) # prints unsat so socrates is Mortal"
      ],
      "metadata": {
        "colab": {
          "base_uri": "https://localhost:8080/"
        },
        "id": "Qfhc0y79TEeY",
        "outputId": "1bce607b-f829-4602-f738-e67123134911"
      },
      "execution_count": 78,
      "outputs": [
        {
          "output_type": "stream",
          "name": "stdout",
          "text": [
            "sat\n",
            "unsat\n"
          ]
        }
      ]
    },
    {
      "cell_type": "code",
      "source": [
        "# Smoking causes cancer\n",
        "# We need to stop people from smoking\n",
        "# It's hard to do that since people are influenced by friends\n",
        "# If friends keep smoking, they are likely to continue smoking\n",
        "# Define two predicates: Smokes(x), Cancer(x) and Friends(x,y)\n",
        "# Domain X: {people} , Y: {Friends for all x,y}\n",
        "# ∀x, smokes(x) => cancer(x) \n",
        "# smokes(a) = 1 and smokes(b) =1, cancer(a) = 1, cancer(b) =1, friends(a,b) = 1, friends(b,a) = 1\n",
        "# smokes(a) = 1 and smokes(b) =0, cancer(a) = 0, cancer(b) =0, friends(a,b) = 1, friends(b,a)\n",
        "# ∀x, smokes(x) => cancer(x)\n",
        "# ∀x,y friends(x,y) => ( smokes(x) ⇔ smokes(y) )"
      ],
      "metadata": {
        "id": "6Unt8H-GKY7I"
      },
      "execution_count": 79,
      "outputs": []
    },
    {
      "cell_type": "code",
      "source": [
        "Object = DeclareSort('Object')\n",
        "\n",
        "Smokes = Function('Smokes', Object, BoolSort())\n",
        "Cancer = Function('Cancer', Object, BoolSort())\n",
        "Friends = Function('Friends', Object, Object, BoolSort())\n",
        "# free variables used in forall must be declared Const in python\n",
        "x = Const('x', Object)\n",
        "y = Const('y', Object)\n",
        "# friends\n",
        "Alice = Const('Alice', Object)  \n",
        "Bob = Const('Bob', Object)\n",
        "axioms1 = [ForAll([x], Implies(Smokes(x), Cancer(x))), \n",
        "          Smokes(Alice)]\n",
        "axioms2 = [ForAll([x,y], Implies(Friends(x,y), Implies(Smokes(x), Smokes(y)))), \n",
        "          Smokes(Alice), Friends(Alice, Bob)]\n",
        "\n",
        "s = Solver()\n",
        "s.add(axioms1)\n",
        "s.add(axioms2)\n",
        "print(s.check()) # prints sat so axioms are coherent\n",
        "\n",
        "# classical refutation\n",
        "s.add(Not(Cancer(Bob)))\n",
        "\n",
        "print(s.check()) # prints unsat so Bob likely to get Cancer"
      ],
      "metadata": {
        "colab": {
          "base_uri": "https://localhost:8080/"
        },
        "id": "_I5a2ahXLIiw",
        "outputId": "3138196d-0417-414c-cee7-e9f88d4ddca1"
      },
      "execution_count": 80,
      "outputs": [
        {
          "output_type": "stream",
          "name": "stdout",
          "text": [
            "sat\n",
            "unsat\n"
          ]
        }
      ]
    },
    {
      "cell_type": "code",
      "source": [
        "def refactor_steps(res, formula):\n",
        "    presteps = res[1:len(res)-1]\n",
        "    print(presteps)\n",
        "    steps = []\n",
        "    for ss in presteps:\n",
        "        a = ss.replace(\"$\",\"\").split(\" \")\n",
        "        for i,b in enumerate(a):\n",
        "            if b.startswith(\"((x\"):\n",
        "                a[i] = b.replace(\"((x\",\"x\")+\"=\"\n",
        "            if b.startswith(\"(let\"):\n",
        "                a[i] = b.replace(\"(let\",\"let\")\n",
        "            if b.startswith(\"(declare-fun\"):\n",
        "                a[i] = b.replace(\"(declare-fun\",\"Declare function\")\n",
        "            if b.endswith(\"))\"):  \n",
        "                a[i] = b.replace(\"))\",\"\")\n",
        "            if \"()\" in b:\n",
        "                a[i] = b.replace(\"()\",\"\")\n",
        "        #r.append(s.replace)\n",
        "        steps.append(\" \".join(a[1:]))\n",
        "    \n",
        "    result_steps = [\n",
        "        {\"name\":formula, \"parent\":\"\"},\n",
        "        {\"name\":\"Declare\", \"parent\":formula},\n",
        "        {\"name\":\"Axioms\", \"parent\":\"Declare\"}, \n",
        "        {\"name\":\"Proof\",\"parent\":\"Axioms\"},\n",
        "    ]\n",
        "\n",
        "    for s in steps:\n",
        "        \n",
        "        if \"Bool\" in s:\n",
        "            this_step = s.strip().replace(\"$\",\"\")\n",
        "            result_steps.append({\"name\":this_step, \"parent\":\"Declare\"})\n",
        "        if s.startswith(\"let\"):\n",
        "            this_step = s.strip().replace(\"$\",\"\")\n",
        "            result_steps.append({\"name\":this_step,\"parent\":\"Axioms\"}) \n",
        "        if s.startswith(\"(not\"):\n",
        "            this_step = s.strip().replace(\"$\",\"\").replace(\")\",\"\",6)\n",
        "            result_steps.append({\"name\":this_step, \"parent\":\"Proof\"}) \n",
        "\n",
        "    return result_steps\n"
      ],
      "metadata": {
        "id": "7PLyc-Em2-vA"
      },
      "execution_count": 81,
      "outputs": []
    },
    {
      "cell_type": "code",
      "source": [
        "refactor_steps(s.to_smt2().split(\"\\n\")[1:], \"∀x, y : (Friends(x, y) ⇒ (Smokes(x) ⇒ Smokes(y))) \\n ⇒ (∀x, y : (∀x : Smokes(x) ⇒ Cancer(x)) ⇒ Cancer(y))\")"
      ],
      "metadata": {
        "colab": {
          "base_uri": "https://localhost:8080/"
        },
        "id": "f15vLiS63C0i",
        "outputId": "5e3900f6-61b6-4e9e-e13c-4505a0be83b3"
      },
      "execution_count": 82,
      "outputs": [
        {
          "output_type": "stream",
          "name": "stdout",
          "text": [
            "['(declare-sort Object 0)', ' (declare-fun Cancer (Object) Bool)', '(declare-fun Smokes (Object) Bool)', '(declare-fun Alice () Object)', '(declare-fun Friends (Object Object) Bool)', '(declare-fun Bob () Object)', '(assert', ' (forall ((x Object) )(let (($x5288 (Cancer x)))', ' (let (($x5212 (Smokes x)))', ' (=> $x5212 $x5288))))', ' )', '(assert', ' (Smokes Alice))', '(assert', ' (forall ((x Object) (y Object) )(let (($x5665 (Friends x y)))', ' (=> (and $x5665 (Smokes x)) (Smokes y))))', ' )', '(assert', ' (Smokes Alice))', '(assert', ' (Friends Alice Bob))', '(assert', ' (let (($x4118 (Cancer Bob)))', ' (not $x4118)))', '(check-sat)']\n"
          ]
        },
        {
          "output_type": "execute_result",
          "data": {
            "text/plain": [
              "[{'name': '∀x, y : (Friends(x, y) ⇒ (Smokes(x) ⇒ Smokes(y))) \\n ⇒ (∀x, y : (∀x : Smokes(x) ⇒ Cancer(x)) ⇒ Cancer(y))',\n",
              "  'parent': ''},\n",
              " {'name': 'Declare',\n",
              "  'parent': '∀x, y : (Friends(x, y) ⇒ (Smokes(x) ⇒ Smokes(y))) \\n ⇒ (∀x, y : (∀x : Smokes(x) ⇒ Cancer(x)) ⇒ Cancer(y))'},\n",
              " {'name': 'Axioms', 'parent': 'Declare'},\n",
              " {'name': 'Proof', 'parent': 'Axioms'},\n",
              " {'name': 'Declare function Cancer (Object) Bool)', 'parent': 'Declare'},\n",
              " {'name': 'Smokes (Object) Bool)', 'parent': 'Declare'},\n",
              " {'name': 'Friends (Object Object) Bool)', 'parent': 'Declare'},\n",
              " {'name': 'let x5212= (Smokes x)', 'parent': 'Axioms'},\n",
              " {'name': 'let x4118= (Cancer Bob)', 'parent': 'Axioms'},\n",
              " {'name': '(not x4118', 'parent': 'Proof'}]"
            ]
          },
          "metadata": {},
          "execution_count": 82
        }
      ]
    },
    {
      "cell_type": "code",
      "source": [
        "ForAll([x,y], Implies( Implies(Friends(x,y), Implies(Smokes(x), Smokes(y))), \n",
        "                      ForAll([x,y],Implies(ForAll([x], Implies(Smokes(x), Cancer(x))), Cancer(y)  ) )))"
      ],
      "metadata": {
        "colab": {
          "base_uri": "https://localhost:8080/",
          "height": 34
        },
        "id": "aO2zWp4mOyJx",
        "outputId": "87f31218-70a3-4007-8db5-36f2f8274a78"
      },
      "execution_count": 83,
      "outputs": [
        {
          "output_type": "execute_result",
          "data": {
            "text/plain": [
              "ForAll([x, y],\n",
              "       Implies(Implies(Friends(x, y),\n",
              "                       Implies(Smokes(x), Smokes(y))),\n",
              "               ForAll([x, y],\n",
              "                      Implies(ForAll(x,\n",
              "                                     Implies(Smokes(x),\n",
              "                                        Cancer(x))),\n",
              "                              Cancer(y)))))"
            ],
            "text/html": [
              "&forall;x, y :\n",
              " (Friends(x, y) &rArr; (Smokes(x) &rArr; Smokes(y))) &rArr;\n",
              " (&forall;x, y : (&forall;x : Smokes(x) &rArr; Cancer(x)) &rArr; Cancer(y))"
            ]
          },
          "metadata": {},
          "execution_count": 83
        }
      ]
    },
    {
      "cell_type": "code",
      "source": [
        "thrm = ForAll([x,y], Implies( Implies(Friends(x,y), Implies(Smokes(x), Smokes(y))), \n",
        "                      ForAll([x,y],Implies(ForAll([x], Implies(Smokes(x), Cancer(x))), Cancer(y)  ) )))\n",
        "Solver().check(thrm)"
      ],
      "metadata": {
        "colab": {
          "base_uri": "https://localhost:8080/",
          "height": 34
        },
        "id": "BF9UePcBPqei",
        "outputId": "2e029eef-49d9-4cfb-e9e7-18809ee84688"
      },
      "execution_count": 84,
      "outputs": [
        {
          "output_type": "execute_result",
          "data": {
            "text/plain": [
              "sat"
            ],
            "text/html": [
              "<b>sat</b>"
            ]
          },
          "metadata": {},
          "execution_count": 84
        }
      ]
    },
    {
      "cell_type": "code",
      "source": [
        "s.assertions()"
      ],
      "metadata": {
        "colab": {
          "base_uri": "https://localhost:8080/",
          "height": 34
        },
        "id": "QrP5HvJDQy4r",
        "outputId": "76ee0309-7d7a-4cb9-ee15-2a6690cd9e1c"
      },
      "execution_count": 85,
      "outputs": [
        {
          "output_type": "execute_result",
          "data": {
            "text/plain": [
              "[ForAll(x, Implies(Smokes(x), Cancer(x))),\n",
              " Smokes(Alice),\n",
              " ForAll([x, y],\n",
              "        Implies(Friends(x, y),\n",
              "                Implies(Smokes(x), Smokes(y)))),\n",
              " Smokes(Alice),\n",
              " Friends(Alice, Bob),\n",
              " Not(Cancer(Bob))]"
            ],
            "text/html": [
              "[&forall;x : Smokes(x) &rArr; Cancer(x),\n",
              " Smokes(Alice),\n",
              " &forall;x, y : Friends(x, y) &rArr; (Smokes(x) &rArr; Smokes(y)),\n",
              " Smokes(Alice),\n",
              " Friends(Alice, Bob),\n",
              " &not;Cancer(Bob)]"
            ]
          },
          "metadata": {},
          "execution_count": 85
        }
      ]
    },
    {
      "cell_type": "code",
      "source": [
        "thrm.sexpr().split(\"\\n\")"
      ],
      "metadata": {
        "colab": {
          "base_uri": "https://localhost:8080/"
        },
        "id": "djXZqAScQFEb",
        "outputId": "89957120-0ab8-4c72-f87a-08d95cd0baee"
      },
      "execution_count": 86,
      "outputs": [
        {
          "output_type": "execute_result",
          "data": {
            "text/plain": [
              "['(forall ((x Object) (y Object))',\n",
              " '  (let ((a!1 (forall ((x!1 Object) (y!1 Object))',\n",
              " '               (=> (forall ((x!2 Object)) (=> (Smokes x!2) (Cancer x!2)))',\n",
              " '                   (Cancer y!1)))))',\n",
              " '    (=> (=> (Friends x y) (=> (Smokes x) (Smokes y))) a!1)))']"
            ]
          },
          "metadata": {},
          "execution_count": 86
        }
      ]
    },
    {
      "cell_type": "code",
      "source": [
        "s.to_smt2().split(\"\\n\")"
      ],
      "metadata": {
        "colab": {
          "base_uri": "https://localhost:8080/"
        },
        "id": "TdJv1uKAN2Qq",
        "outputId": "94832638-eca5-4410-88fb-43ea276e5165"
      },
      "execution_count": 89,
      "outputs": [
        {
          "output_type": "execute_result",
          "data": {
            "text/plain": [
              "['; benchmark generated from python API',\n",
              " '(set-info :status unknown)',\n",
              " '(declare-sort Object 0)',\n",
              " ' (declare-fun Cancer (Object) Bool)',\n",
              " '(declare-fun Smokes (Object) Bool)',\n",
              " '(declare-fun Alice () Object)',\n",
              " '(declare-fun Friends (Object Object) Bool)',\n",
              " '(declare-fun Bob () Object)',\n",
              " '(assert',\n",
              " ' (forall ((x Object) )(let (($x5288 (Cancer x)))',\n",
              " ' (let (($x5212 (Smokes x)))',\n",
              " ' (=> $x5212 $x5288))))',\n",
              " ' )',\n",
              " '(assert',\n",
              " ' (Smokes Alice))',\n",
              " '(assert',\n",
              " ' (forall ((x Object) (y Object) )(let (($x5665 (Friends x y)))',\n",
              " ' (=> (and $x5665 (Smokes x)) (Smokes y))))',\n",
              " ' )',\n",
              " '(assert',\n",
              " ' (Smokes Alice))',\n",
              " '(assert',\n",
              " ' (Friends Alice Bob))',\n",
              " '(assert',\n",
              " ' (let (($x4118 (Cancer Bob)))',\n",
              " ' (not $x4118)))',\n",
              " '(check-sat)',\n",
              " '']"
            ]
          },
          "metadata": {},
          "execution_count": 89
        }
      ]
    },
    {
      "cell_type": "code",
      "source": [
        "p, q = Bools('p q')\n",
        "lhs = Not(Or(p,q))\n",
        "rhs = And(Not(p), Not(q))\n",
        "my_true_thm = Implies( lhs, rhs )\n",
        "s = Solver()\n",
        "s.add(Not(my_true_thm))\n",
        "if s.check() == unsat:\n",
        "    print(\"proved\")\n",
        "else:\n",
        "    print(\"failed to prove\")  "
      ],
      "metadata": {
        "colab": {
          "base_uri": "https://localhost:8080/"
        },
        "id": "7sAmvM1-cUMx",
        "outputId": "cd8cae48-879f-40f8-aa60-58600f3002bd"
      },
      "execution_count": 90,
      "outputs": [
        {
          "output_type": "stream",
          "name": "stdout",
          "text": [
            "proved\n"
          ]
        }
      ]
    },
    {
      "cell_type": "code",
      "source": [
        "arguments = []\n",
        "for i in range(my_true_thm.num_args()):\n",
        "  arguments.append(my_true_thm.arg(i))"
      ],
      "metadata": {
        "id": "elHwd0ghef5k"
      },
      "execution_count": 91,
      "outputs": []
    },
    {
      "cell_type": "code",
      "source": [
        "arguments"
      ],
      "metadata": {
        "colab": {
          "base_uri": "https://localhost:8080/"
        },
        "id": "5B5a8-1genOB",
        "outputId": "41dfb669-5c02-4ff5-e1df-0540f071e4c4"
      },
      "execution_count": 92,
      "outputs": [
        {
          "output_type": "execute_result",
          "data": {
            "text/plain": [
              "[Not(Or(p, q)), And(Not(p), Not(q))]"
            ]
          },
          "metadata": {},
          "execution_count": 92
        }
      ]
    },
    {
      "cell_type": "code",
      "source": [
        ""
      ],
      "metadata": {
        "id": "Df4jB7cIem2v"
      },
      "execution_count": 92,
      "outputs": []
    },
    {
      "cell_type": "code",
      "source": [
        "res = s.to_smt2()\n",
        "for i in range(my_true_thm.num_args()):\n",
        "  print(my_true_thm.arg(i))\n",
        "res.split(\"\\n\"), my_true_thm"
      ],
      "metadata": {
        "colab": {
          "base_uri": "https://localhost:8080/"
        },
        "id": "kL3OQ3Bs6D2l",
        "outputId": "e601100f-a0ac-4ff1-8239-6152effde44a"
      },
      "execution_count": 93,
      "outputs": [
        {
          "output_type": "stream",
          "name": "stdout",
          "text": [
            "Not(Or(p, q))\n",
            "And(Not(p), Not(q))\n"
          ]
        },
        {
          "output_type": "execute_result",
          "data": {
            "text/plain": [
              "(['; benchmark generated from python API',\n",
              "  '(set-info :status unknown)',\n",
              "  '(declare-fun q () Bool)',\n",
              "  '(declare-fun p () Bool)',\n",
              "  '(assert',\n",
              "  ' (let (($x37 (not q)))',\n",
              "  ' (let (($x36 (not p)))',\n",
              "  ' (let (($x31 (and $x36 $x37)))',\n",
              "  ' (let (($x14 (not (or p q))))',\n",
              "  ' (let (($x15 (=> $x14 $x31)))',\n",
              "  ' (not $x15)))))))',\n",
              "  '(check-sat)',\n",
              "  ''],\n",
              " Implies(Not(Or(p, q)), And(Not(p), Not(q))))"
            ]
          },
          "metadata": {},
          "execution_count": 93
        }
      ]
    },
    {
      "cell_type": "code",
      "source": [
        "s.sexpr()"
      ],
      "metadata": {
        "colab": {
          "base_uri": "https://localhost:8080/",
          "height": 35
        },
        "id": "8qQGCiZJ8LBN",
        "outputId": "6574edd0-c450-444e-bebe-85ca585abd48"
      },
      "execution_count": 94,
      "outputs": [
        {
          "output_type": "execute_result",
          "data": {
            "text/plain": [
              "'(declare-fun q () Bool)\\n(declare-fun p () Bool)\\n(assert (not (=> (not (or p q)) (and (not p) (not q)))))\\n'"
            ],
            "application/vnd.google.colaboratory.intrinsic+json": {
              "type": "string"
            }
          },
          "metadata": {},
          "execution_count": 94
        }
      ]
    },
    {
      "cell_type": "code",
      "source": [
        "my_true_thm.num_args()"
      ],
      "metadata": {
        "colab": {
          "base_uri": "https://localhost:8080/"
        },
        "id": "RlpAdIeN62Zn",
        "outputId": "556c1db2-e187-40bc-d6e7-146d652549ce"
      },
      "execution_count": 95,
      "outputs": [
        {
          "output_type": "execute_result",
          "data": {
            "text/plain": [
              "2"
            ]
          },
          "metadata": {},
          "execution_count": 95
        }
      ]
    },
    {
      "cell_type": "code",
      "source": [
        "import nltk\n",
        "nltk.boolean_ops()"
      ],
      "metadata": {
        "colab": {
          "base_uri": "https://localhost:8080/"
        },
        "id": "AHUziL5jzEbu",
        "outputId": "d8ac64c8-71e5-483e-e05a-6f7a0f4b6db8"
      },
      "execution_count": 96,
      "outputs": [
        {
          "output_type": "stream",
          "name": "stdout",
          "text": [
            "negation       \t-\n",
            "conjunction    \t&\n",
            "disjunction    \t|\n",
            "implication    \t->\n",
            "equivalence    \t<->\n"
          ]
        }
      ]
    },
    {
      "cell_type": "code",
      "source": [
        "!pip install nltk"
      ],
      "metadata": {
        "colab": {
          "base_uri": "https://localhost:8080/"
        },
        "id": "Kd45uxP10ytu",
        "outputId": "b377fa19-3bca-4df9-9456-452f6bea6851"
      },
      "execution_count": 97,
      "outputs": [
        {
          "output_type": "stream",
          "name": "stdout",
          "text": [
            "Requirement already satisfied: nltk in /usr/local/lib/python3.7/dist-packages (3.2.5)\n",
            "Requirement already satisfied: six in /usr/local/lib/python3.7/dist-packages (from nltk) (1.15.0)\n"
          ]
        }
      ]
    },
    {
      "cell_type": "code",
      "source": [
        "lp = nltk.logic.LogicParser()\n",
        "lhs = lp.parse('-(p and q)')\n",
        "rhs = lp.parse('-p or -q')\n",
        "R = lp.parse('lhs -> rhs')\n",
        "prover = nltk.prover9.Prover9()\n",
        "prover.config_prover9(r'/usr/local/lib/python3.7/dist-packages/nltk/inference/prover9.py')\n",
        "prover.prove(lhs, [rhs, R])\n",
        "lp.parse('¬(p ∧ q) ⇒ ¬p ∨ ¬q')"
      ],
      "metadata": {
        "colab": {
          "base_uri": "https://localhost:8080/",
          "height": 390
        },
        "id": "8J5-h1mLzHe4",
        "outputId": "6af80651-ad03-48ac-a942-511950028c65"
      },
      "execution_count": 98,
      "outputs": [
        {
          "output_type": "error",
          "ename": "PermissionError",
          "evalue": "ignored",
          "traceback": [
            "\u001b[0;31m---------------------------------------------------------------------------\u001b[0m",
            "\u001b[0;31mPermissionError\u001b[0m                           Traceback (most recent call last)",
            "\u001b[0;32m<ipython-input-98-3f72afb16139>\u001b[0m in \u001b[0;36m<module>\u001b[0;34m()\u001b[0m\n\u001b[1;32m      5\u001b[0m \u001b[0mprover\u001b[0m \u001b[0;34m=\u001b[0m \u001b[0mnltk\u001b[0m\u001b[0;34m.\u001b[0m\u001b[0mprover9\u001b[0m\u001b[0;34m.\u001b[0m\u001b[0mProver9\u001b[0m\u001b[0;34m(\u001b[0m\u001b[0;34m)\u001b[0m\u001b[0;34m\u001b[0m\u001b[0;34m\u001b[0m\u001b[0m\n\u001b[1;32m      6\u001b[0m \u001b[0mprover\u001b[0m\u001b[0;34m.\u001b[0m\u001b[0mconfig_prover9\u001b[0m\u001b[0;34m(\u001b[0m\u001b[0;34mr'/usr/local/lib/python3.7/dist-packages/nltk/inference/prover9.py'\u001b[0m\u001b[0;34m)\u001b[0m\u001b[0;34m\u001b[0m\u001b[0;34m\u001b[0m\u001b[0m\n\u001b[0;32m----> 7\u001b[0;31m \u001b[0mprover\u001b[0m\u001b[0;34m.\u001b[0m\u001b[0mprove\u001b[0m\u001b[0;34m(\u001b[0m\u001b[0mlhs\u001b[0m\u001b[0;34m,\u001b[0m \u001b[0;34m[\u001b[0m\u001b[0mrhs\u001b[0m\u001b[0;34m,\u001b[0m \u001b[0mR\u001b[0m\u001b[0;34m]\u001b[0m\u001b[0;34m)\u001b[0m\u001b[0;34m\u001b[0m\u001b[0;34m\u001b[0m\u001b[0m\n\u001b[0m\u001b[1;32m      8\u001b[0m \u001b[0mlp\u001b[0m\u001b[0;34m.\u001b[0m\u001b[0mparse\u001b[0m\u001b[0;34m(\u001b[0m\u001b[0;34m'¬(p ∧ q) ⇒ ¬p ∨ ¬q'\u001b[0m\u001b[0;34m)\u001b[0m\u001b[0;34m\u001b[0m\u001b[0;34m\u001b[0m\u001b[0m\n",
            "\u001b[0;32m/usr/local/lib/python3.7/dist-packages/nltk/inference/api.py\u001b[0m in \u001b[0;36mprove\u001b[0;34m(self, goal, assumptions, verbose)\u001b[0m\n\u001b[1;32m     37\u001b[0m         \u001b[0;34m:\u001b[0m\u001b[0mrtype\u001b[0m\u001b[0;34m:\u001b[0m \u001b[0mbool\u001b[0m\u001b[0;34m\u001b[0m\u001b[0;34m\u001b[0m\u001b[0m\n\u001b[1;32m     38\u001b[0m         \"\"\"\n\u001b[0;32m---> 39\u001b[0;31m         \u001b[0;32mreturn\u001b[0m \u001b[0mself\u001b[0m\u001b[0;34m.\u001b[0m\u001b[0m_prove\u001b[0m\u001b[0;34m(\u001b[0m\u001b[0mgoal\u001b[0m\u001b[0;34m,\u001b[0m \u001b[0massumptions\u001b[0m\u001b[0;34m,\u001b[0m \u001b[0mverbose\u001b[0m\u001b[0;34m)\u001b[0m\u001b[0;34m[\u001b[0m\u001b[0;36m0\u001b[0m\u001b[0;34m]\u001b[0m\u001b[0;34m\u001b[0m\u001b[0;34m\u001b[0m\u001b[0m\n\u001b[0m\u001b[1;32m     40\u001b[0m \u001b[0;34m\u001b[0m\u001b[0m\n\u001b[1;32m     41\u001b[0m     \u001b[0;34m@\u001b[0m\u001b[0mabstractmethod\u001b[0m\u001b[0;34m\u001b[0m\u001b[0;34m\u001b[0m\u001b[0m\n",
            "\u001b[0;32m/usr/local/lib/python3.7/dist-packages/nltk/inference/prover9.py\u001b[0m in \u001b[0;36m_prove\u001b[0;34m(self, goal, assumptions, verbose)\u001b[0m\n\u001b[1;32m    270\u001b[0m \u001b[0;34m\u001b[0m\u001b[0m\n\u001b[1;32m    271\u001b[0m         stdout, returncode = self._call_prover9(self.prover9_input(goal, assumptions),\n\u001b[0;32m--> 272\u001b[0;31m                                                 verbose=verbose)\n\u001b[0m\u001b[1;32m    273\u001b[0m         \u001b[0;32mreturn\u001b[0m \u001b[0;34m(\u001b[0m\u001b[0mreturncode\u001b[0m \u001b[0;34m==\u001b[0m \u001b[0;36m0\u001b[0m\u001b[0;34m,\u001b[0m \u001b[0mstdout\u001b[0m\u001b[0;34m)\u001b[0m\u001b[0;34m\u001b[0m\u001b[0;34m\u001b[0m\u001b[0m\n\u001b[1;32m    274\u001b[0m \u001b[0;34m\u001b[0m\u001b[0m\n",
            "\u001b[0;32m/usr/local/lib/python3.7/dist-packages/nltk/inference/prover9.py\u001b[0m in \u001b[0;36m_call_prover9\u001b[0;34m(self, input_str, args, verbose)\u001b[0m\n\u001b[1;32m    297\u001b[0m         \u001b[0mupdated_input_str\u001b[0m \u001b[0;34m+=\u001b[0m \u001b[0minput_str\u001b[0m\u001b[0;34m\u001b[0m\u001b[0;34m\u001b[0m\u001b[0m\n\u001b[1;32m    298\u001b[0m \u001b[0;34m\u001b[0m\u001b[0m\n\u001b[0;32m--> 299\u001b[0;31m         \u001b[0mstdout\u001b[0m\u001b[0;34m,\u001b[0m \u001b[0mreturncode\u001b[0m \u001b[0;34m=\u001b[0m \u001b[0mself\u001b[0m\u001b[0;34m.\u001b[0m\u001b[0m_call\u001b[0m\u001b[0;34m(\u001b[0m\u001b[0mupdated_input_str\u001b[0m\u001b[0;34m,\u001b[0m \u001b[0mself\u001b[0m\u001b[0;34m.\u001b[0m\u001b[0m_prover9_bin\u001b[0m\u001b[0;34m,\u001b[0m \u001b[0margs\u001b[0m\u001b[0;34m,\u001b[0m \u001b[0mverbose\u001b[0m\u001b[0;34m)\u001b[0m\u001b[0;34m\u001b[0m\u001b[0;34m\u001b[0m\u001b[0m\n\u001b[0m\u001b[1;32m    300\u001b[0m \u001b[0;34m\u001b[0m\u001b[0m\n\u001b[1;32m    301\u001b[0m         \u001b[0;32mif\u001b[0m \u001b[0mreturncode\u001b[0m \u001b[0;32mnot\u001b[0m \u001b[0;32min\u001b[0m \u001b[0;34m[\u001b[0m\u001b[0;36m0\u001b[0m\u001b[0;34m,\u001b[0m\u001b[0;36m2\u001b[0m\u001b[0;34m]\u001b[0m\u001b[0;34m:\u001b[0m\u001b[0;34m\u001b[0m\u001b[0;34m\u001b[0m\u001b[0m\n",
            "\u001b[0;32m/usr/local/lib/python3.7/dist-packages/nltk/inference/prover9.py\u001b[0m in \u001b[0;36m_call\u001b[0;34m(self, input_str, binary, args, verbose)\u001b[0m\n\u001b[1;32m    189\u001b[0m         p = subprocess.Popen(cmd, stdout=subprocess.PIPE,\n\u001b[1;32m    190\u001b[0m                              \u001b[0mstderr\u001b[0m\u001b[0;34m=\u001b[0m\u001b[0msubprocess\u001b[0m\u001b[0;34m.\u001b[0m\u001b[0mSTDOUT\u001b[0m\u001b[0;34m,\u001b[0m\u001b[0;34m\u001b[0m\u001b[0;34m\u001b[0m\u001b[0m\n\u001b[0;32m--> 191\u001b[0;31m                              stdin=subprocess.PIPE)\n\u001b[0m\u001b[1;32m    192\u001b[0m         \u001b[0;34m(\u001b[0m\u001b[0mstdout\u001b[0m\u001b[0;34m,\u001b[0m \u001b[0mstderr\u001b[0m\u001b[0;34m)\u001b[0m \u001b[0;34m=\u001b[0m \u001b[0mp\u001b[0m\u001b[0;34m.\u001b[0m\u001b[0mcommunicate\u001b[0m\u001b[0;34m(\u001b[0m\u001b[0minput\u001b[0m\u001b[0;34m=\u001b[0m\u001b[0minput_str\u001b[0m\u001b[0;34m)\u001b[0m\u001b[0;34m\u001b[0m\u001b[0;34m\u001b[0m\u001b[0m\n\u001b[1;32m    193\u001b[0m \u001b[0;34m\u001b[0m\u001b[0m\n",
            "\u001b[0;32m/usr/lib/python3.7/subprocess.py\u001b[0m in \u001b[0;36m__init__\u001b[0;34m(self, args, bufsize, executable, stdin, stdout, stderr, preexec_fn, close_fds, shell, cwd, env, universal_newlines, startupinfo, creationflags, restore_signals, start_new_session, pass_fds, encoding, errors, text)\u001b[0m\n\u001b[1;32m    798\u001b[0m                                 \u001b[0mc2pread\u001b[0m\u001b[0;34m,\u001b[0m \u001b[0mc2pwrite\u001b[0m\u001b[0;34m,\u001b[0m\u001b[0;34m\u001b[0m\u001b[0;34m\u001b[0m\u001b[0m\n\u001b[1;32m    799\u001b[0m                                 \u001b[0merrread\u001b[0m\u001b[0;34m,\u001b[0m \u001b[0merrwrite\u001b[0m\u001b[0;34m,\u001b[0m\u001b[0;34m\u001b[0m\u001b[0;34m\u001b[0m\u001b[0m\n\u001b[0;32m--> 800\u001b[0;31m                                 restore_signals, start_new_session)\n\u001b[0m\u001b[1;32m    801\u001b[0m         \u001b[0;32mexcept\u001b[0m\u001b[0;34m:\u001b[0m\u001b[0;34m\u001b[0m\u001b[0;34m\u001b[0m\u001b[0m\n\u001b[1;32m    802\u001b[0m             \u001b[0;31m# Cleanup if the child failed starting.\u001b[0m\u001b[0;34m\u001b[0m\u001b[0;34m\u001b[0m\u001b[0;34m\u001b[0m\u001b[0m\n",
            "\u001b[0;32m/usr/lib/python3.7/subprocess.py\u001b[0m in \u001b[0;36m_execute_child\u001b[0;34m(self, args, executable, preexec_fn, close_fds, pass_fds, cwd, env, startupinfo, creationflags, shell, p2cread, p2cwrite, c2pread, c2pwrite, errread, errwrite, restore_signals, start_new_session)\u001b[0m\n\u001b[1;32m   1549\u001b[0m                         \u001b[0;32mif\u001b[0m \u001b[0merrno_num\u001b[0m \u001b[0;34m==\u001b[0m \u001b[0merrno\u001b[0m\u001b[0;34m.\u001b[0m\u001b[0mENOENT\u001b[0m\u001b[0;34m:\u001b[0m\u001b[0;34m\u001b[0m\u001b[0;34m\u001b[0m\u001b[0m\n\u001b[1;32m   1550\u001b[0m                             \u001b[0merr_msg\u001b[0m \u001b[0;34m+=\u001b[0m \u001b[0;34m': '\u001b[0m \u001b[0;34m+\u001b[0m \u001b[0mrepr\u001b[0m\u001b[0;34m(\u001b[0m\u001b[0merr_filename\u001b[0m\u001b[0;34m)\u001b[0m\u001b[0;34m\u001b[0m\u001b[0;34m\u001b[0m\u001b[0m\n\u001b[0;32m-> 1551\u001b[0;31m                     \u001b[0;32mraise\u001b[0m \u001b[0mchild_exception_type\u001b[0m\u001b[0;34m(\u001b[0m\u001b[0merrno_num\u001b[0m\u001b[0;34m,\u001b[0m \u001b[0merr_msg\u001b[0m\u001b[0;34m,\u001b[0m \u001b[0merr_filename\u001b[0m\u001b[0;34m)\u001b[0m\u001b[0;34m\u001b[0m\u001b[0;34m\u001b[0m\u001b[0m\n\u001b[0m\u001b[1;32m   1552\u001b[0m                 \u001b[0;32mraise\u001b[0m \u001b[0mchild_exception_type\u001b[0m\u001b[0;34m(\u001b[0m\u001b[0merr_msg\u001b[0m\u001b[0;34m)\u001b[0m\u001b[0;34m\u001b[0m\u001b[0;34m\u001b[0m\u001b[0m\n\u001b[1;32m   1553\u001b[0m \u001b[0;34m\u001b[0m\u001b[0m\n",
            "\u001b[0;31mPermissionError\u001b[0m: [Errno 13] Permission denied: '/usr/local/lib/python3.7/dist-packages/nltk/inference/prover9.py'"
          ]
        }
      ]
    },
    {
      "cell_type": "code",
      "source": [
        "TreeList = Datatype('TreeList')\n",
        "Tree     = Datatype('Tree')\n",
        "Tree.declare('leaf', ('val', IntSort()))\n",
        "Tree.declare('node', ('left', TreeList), ('right', TreeList))\n",
        "TreeList.declare('nil')\n",
        "TreeList.declare('cons', ('car', Tree), ('cdr', TreeList))\n",
        "\n",
        "Tree, TreeList = CreateDatatypes(Tree, TreeList)\n",
        "\n",
        "t1  = Tree.leaf(10)\n",
        "tl1 = TreeList.cons(t1, TreeList.nil)\n",
        "t2  = Tree.node(tl1, TreeList.nil)\n",
        "print (t2)\n",
        "print (simplify(Tree.val(t1)))\n",
        "\n",
        "t1, t2, t3 = Consts('t1 t2 t3', TreeList)\n",
        "\n",
        "solve(Distinct(t1, t2, t3))"
      ],
      "metadata": {
        "colab": {
          "base_uri": "https://localhost:8080/"
        },
        "id": "JENwCpQICyC3",
        "outputId": "80a05f4c-04e4-4e2a-a678-f275510abf9b"
      },
      "execution_count": 99,
      "outputs": [
        {
          "output_type": "stream",
          "name": "stdout",
          "text": [
            "node(cons(leaf(10), nil), nil)\n",
            "10\n",
            "[t2 = cons(leaf(0), nil),\n",
            " t1 = nil,\n",
            " t3 = cons(leaf(0), cons(leaf(0), nil))]\n"
          ]
        }
      ]
    },
    {
      "cell_type": "code",
      "source": [
        "x, y = Reals(\"x y\") # point on circle\n",
        "# assume wlog horizontal diameter y = 0. Hits circle at x = 1, x = -1\n",
        "d1 = (x - 1, y) # vector along line 1\n",
        "d2 = (x + 1, y) # vector along line 2\n",
        "perp = d1[0]*d2[0]+d1[1]*d2[1] == 0 #perpendicularity constraint\n",
        "\n",
        "s = Solver()\n",
        "s.add(Not(Implies(x**2 + y**2 == 1, perp)))\n",
        "if s.check() == unsat:\n",
        "    print(\"proved\")\n",
        "else:\n",
        "    print(\"failed to prove\")  "
      ],
      "metadata": {
        "colab": {
          "base_uri": "https://localhost:8080/"
        },
        "id": "N8SrQQY0EmT4",
        "outputId": "b0b3beaa-21be-4b39-f68a-d43e4e626d52"
      },
      "execution_count": 100,
      "outputs": [
        {
          "output_type": "stream",
          "name": "stdout",
          "text": [
            "proved\n"
          ]
        }
      ]
    },
    {
      "cell_type": "code",
      "source": [
        "s.to_smt2().split(\"\\n\")"
      ],
      "metadata": {
        "colab": {
          "base_uri": "https://localhost:8080/"
        },
        "id": "kI4Y_Va1EyLX",
        "outputId": "e338fc8a-5a47-4689-9723-33759969dbb6"
      },
      "execution_count": 101,
      "outputs": [
        {
          "output_type": "execute_result",
          "data": {
            "text/plain": [
              "['; benchmark generated from python API',\n",
              " '(set-info :status unknown)',\n",
              " '(declare-fun y () Real)',\n",
              " '(declare-fun x () Real)',\n",
              " '(assert',\n",
              " ' (let (($x4137 (= (+ (* (- x 1.0) (+ x 1.0)) (* y y)) 0.0)))',\n",
              " ' (let (($x4045 (= (+ (^ x 2.0) (^ y 2.0)) 1.0)))',\n",
              " ' (not (=> $x4045 $x4137)))))',\n",
              " '(check-sat)',\n",
              " '']"
            ]
          },
          "metadata": {},
          "execution_count": 101
        }
      ]
    }
  ]
}